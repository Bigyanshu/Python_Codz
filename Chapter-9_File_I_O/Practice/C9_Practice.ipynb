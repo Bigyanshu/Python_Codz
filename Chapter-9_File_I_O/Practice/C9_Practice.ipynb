{
 "cells": [
  {
   "cell_type": "code",
   "execution_count": null,
   "id": "0ea3b109",
   "metadata": {},
   "outputs": [],
   "source": [
    "'''Snake=1 Water=-1 Gun=0'''\n",
    "\n",
    "import random\n",
    "\n",
    "computer = random.choice([-1,0,1])\n",
    "user = input(\"Enter Your Choice between -1 , 0, 1: \")\n",
    "your_dict = {\"S\":1, \"G\":0, 'W':-1 }\n",
    "reverse_dict = {1:'S', 0:'G', -1:'w'}\n",
    "you_choose = your_dict[user]\n",
    "\n",
    "print(F\"You choose {reverse_dict}\\n Computer Choose {reverse_dict[computer]}\")\n",
    "\n",
    "if(computer == you_choose):\n",
    "    print(\"Same Choice, Match Draw...!\\n\")\n",
    "else:\n",
    "    if(computer == 1 & you_choose == -1):\n",
    "        print(F\"Computer Win, You Lose\")\n",
    "    if(computer == 1 & you_choose == 0):\n",
    "        print(F\"You Win, Computer Lose\")\n",
    "    elif(computer == 0 & you_choose == -1):\n",
    "        print(F\"You Win, Computer Lose\")\n",
    "    elif(computer == 0 & you_choose == 1):\n",
    "        print(F\"Computer Win, You Lose\")\n",
    "    elif(computer == -1 & you_choose == 0):\n",
    "        print(F\"Computer Win, You Lose\")\n",
    "    elif(computer == -1 & you_choose == 1):\n",
    "        print(F\"You Win, Computer Lose\")\n",
    "    else:\n",
    "        print(\"Something Went Wrong or Invalid Input !\")"
   ]
  },
  {
   "cell_type": "code",
   "execution_count": null,
   "id": "e77c4b0f",
   "metadata": {},
   "outputs": [
    {
     "name": "stdout",
     "output_type": "stream",
     "text": [
      "Hello Ninja Matrix\n",
      "<_io.TextIOWrapper name='fileA.txt' mode='r' encoding='cp1252'>\n"
     ]
    }
   ],
   "source": [
    "# File Input Output\n",
    "\n",
    "# read() - this method use to read only files\n",
    "f = open('fileA.txt') # Open this file in f variable, so close f\n",
    "data_recieve = f.read()\n",
    "print(data_recieve)\n",
    "print(f)\n",
    "f.close()"
   ]
  },
  {
   "cell_type": "code",
   "execution_count": 14,
   "id": "cfd62d4d",
   "metadata": {},
   "outputs": [
    {
     "name": "stdout",
     "output_type": "stream",
     "text": [
      "Hello Mahy\n"
     ]
    }
   ],
   "source": [
    "#  With open method use to auto close program\n",
    "with open('fileA.txt','r') as f:\n",
    "    print(f.read())"
   ]
  },
  {
   "cell_type": "code",
   "execution_count": 25,
   "id": "9ac374ee",
   "metadata": {},
   "outputs": [
    {
     "name": "stdout",
     "output_type": "stream",
     "text": [
      "10\n",
      "<_io.TextIOWrapper name='fileA.txt' mode='w' encoding='cp1252'>\n"
     ]
    }
   ],
   "source": [
    "# write()\n",
    "\n",
    "l = 'Hello Mahy' # This line replace previous strings\n",
    "f = open('fileA.txt','w') # You write over this file\n",
    "print(f.write(l)) \n",
    "print(f)\n",
    "f.close()"
   ]
  },
  {
   "cell_type": "code",
   "execution_count": 27,
   "id": "120e99ba",
   "metadata": {},
   "outputs": [
    {
     "name": "stdout",
     "output_type": "stream",
     "text": [
      "18\n",
      "<_io.TextIOWrapper name='fileA.txt' mode='w' encoding='cp1252'>\n"
     ]
    }
   ],
   "source": [
    "# With statements\n",
    "\n",
    "k = 'Hello Ninja Matrix'\n",
    "with open('fileA.txt','w') as l :\n",
    "    print(l.write(k))\n",
    "    print(l)"
   ]
  },
  {
   "cell_type": "code",
   "execution_count": 32,
   "id": "d17b49b2",
   "metadata": {},
   "outputs": [
    {
     "name": "stdout",
     "output_type": "stream",
     "text": [
      "31\n"
     ]
    }
   ],
   "source": [
    "p = 'Parrot Banana Kiwi Papaya Amrut'\n",
    "with open('fileA.txt','w') as d:\n",
    "    print(d.write(p))\n",
    "    # print(d)"
   ]
  },
  {
   "cell_type": "code",
   "execution_count": 38,
   "id": "502a6c00",
   "metadata": {},
   "outputs": [
    {
     "name": "stdout",
     "output_type": "stream",
     "text": [
      "Parrot Banana Kiwi Papaya Amrut\n",
      "<class 'str'>\n"
     ]
    }
   ],
   "source": [
    "# readlines() - this methos use to return a list\n",
    "\n",
    "o = open('fileA.txt') # Open this file in o variable, so close o\n",
    "k = o.readline()\n",
    "print(k)\n",
    "print(type(k))\n",
    "\n",
    "o.close()"
   ]
  },
  {
   "cell_type": "code",
   "execution_count": null,
   "id": "609286f6",
   "metadata": {},
   "outputs": [
    {
     "name": "stdout",
     "output_type": "stream",
     "text": [
      "MS Dhoni \n",
      "\n",
      "AB De-Villiers\n",
      "\n",
      "Mahy You Are Becaming a Smart Girl\n",
      "\n",
      "Mahy O Mahi\n"
     ]
    }
   ],
   "source": [
    "f = open('filed.txt')\n",
    "line = f.readline()\n",
    "while line != \"\":\n",
    "    print(line)\n",
    "    line = f.readline()\n",
    "f.close()"
   ]
  },
  {
   "cell_type": "code",
   "execution_count": 45,
   "id": "dd587285",
   "metadata": {},
   "outputs": [
    {
     "name": "stdout",
     "output_type": "stream",
     "text": [
      "['MS Dhoni \\n', 'AB De-Villiers\\n', 'Mahy You Are Becaming a Smart Girl\\n', 'Mahy O Mahi'] <class 'list'>\n",
      "[] <class 'list'>\n",
      "[] <class 'list'>\n",
      "[] <class 'list'>\n",
      "False\n",
      "False\n"
     ]
    }
   ],
   "source": [
    "f =open(\"filed.txt\")\n",
    "\n",
    "lines = f.readlines()\n",
    "print(lines, type(lines))\n",
    "\n",
    "lines1 = f.readlines()\n",
    "print(lines1, type(lines1))\n",
    "\n",
    "lines2 = f.readlines()\n",
    "print(lines2, type(lines2))\n",
    "\n",
    "lines3 = f.readlines()\n",
    "print(lines3, type(lines3))\n",
    "\n",
    "lines4 = f.readlines()\n",
    "print(lines4 ==\"\") \n",
    "# If your file is not containing that no of lines then thorough Falses\n",
    "\n",
    "lines5 = f.readlines()\n",
    "print(lines5 == \"\")"
   ]
  },
  {
   "cell_type": "code",
   "execution_count": 51,
   "id": "87cea61b",
   "metadata": {},
   "outputs": [
    {
     "name": "stdout",
     "output_type": "stream",
     "text": [
      "13\n"
     ]
    }
   ],
   "source": [
    "# append() - this method use to add new string with existing string\n",
    "\n",
    "s = 'O mahi o Mahy'\n",
    "f = open('filed.txt','a')\n",
    "print(f.write(s))\n",
    "# with open('filed.txt','r') as d:\n",
    "#     print(d.readable())\n",
    "f.close()"
   ]
  },
  {
   "cell_type": "code",
   "execution_count": 62,
   "id": "790ff1ea",
   "metadata": {},
   "outputs": [
    {
     "name": "stdout",
     "output_type": "stream",
     "text": [
      "4\n",
      "<_io.TextIOWrapper name='fileA.txt' mode='w' encoding='cp1252'> \n",
      " <class '_io.TextIOWrapper'>\n"
     ]
    }
   ],
   "source": [
    "d = 'Klow'\n",
    "with open('fileA.txt','w') as wd:\n",
    "    print(wd.write(d))\n",
    "    print(wd,'\\n',type(wd))"
   ]
  },
  {
   "cell_type": "code",
   "execution_count": null,
   "id": "1674c926",
   "metadata": {},
   "outputs": [
    {
     "name": "stdout",
     "output_type": "stream",
     "text": [
      "b'Klow'\n",
      "<class '_io.BufferedReader'>\n"
     ]
    }
   ],
   "source": [
    "with open('fileA.txt','rb') as b: # read binary \n",
    "    print(b.read()) # output showing - b'string'\n",
    "    print(type(b))"
   ]
  },
  {
   "cell_type": "code",
   "execution_count": null,
   "id": "10860f4f",
   "metadata": {},
   "outputs": [
    {
     "name": "stdout",
     "output_type": "stream",
     "text": [
      "Klow\n",
      "<class '_io.TextIOWrapper'>\n"
     ]
    }
   ],
   "source": [
    "with open('fileA.txt','rt') as t: # read text\n",
    "    print(t.read())\n",
    "    print(type(t))"
   ]
  },
  {
   "cell_type": "code",
   "execution_count": 9,
   "id": "f0651a07",
   "metadata": {},
   "outputs": [
    {
     "name": "stdout",
     "output_type": "stream",
     "text": [
      "Klow\n",
      "<_io.TextIOWrapper name='fileA.txt' mode='r' encoding='cp1252'>\n"
     ]
    }
   ],
   "source": [
    "with open('fileA.txt','r') as d:\n",
    "    print(d.readline())\n",
    "    print(d)"
   ]
  },
  {
   "cell_type": "code",
   "execution_count": 17,
   "id": "8d7fc87e",
   "metadata": {},
   "outputs": [
    {
     "name": "stdout",
     "output_type": "stream",
     "text": [
      "\n",
      " 13\n"
     ]
    }
   ],
   "source": [
    "s = 'aknowldege me'\n",
    "with open('fileA.txt','a+') as a:\n",
    "    print('\\n',a.write( s))"
   ]
  },
  {
   "cell_type": "code",
   "execution_count": null,
   "id": "90b500c6",
   "metadata": {},
   "outputs": [
    {
     "name": "stdout",
     "output_type": "stream",
     "text": [
      "Yes,text is present in filed.txt\n"
     ]
    }
   ],
   "source": [
    "# Wap to read one file find one sentence present in it or not\n",
    "# 6 lines\n",
    "with open('filed.txt','r') as l:\n",
    "    p=l.read()\n",
    "    if('AB De-Villiers' in p):\n",
    "        print(F'Yes,text is present in {\"filed.txt\"}')\n",
    "    else:\n",
    "        print(\"NO\")"
   ]
  },
  {
   "cell_type": "code",
   "execution_count": null,
   "id": "cdcabba3",
   "metadata": {},
   "outputs": [
    {
     "name": "stdout",
     "output_type": "stream",
     "text": [
      "Yes Present in filed.txt\n"
     ]
    }
   ],
   "source": [
    "# 5 lines\n",
    "with open('filed.txt','r') as d:\n",
    "    if('AB De-Villiers' in d.read()):\n",
    "       print(f'Yes Present in {\"filed.txt\"}')\n",
    "    else:\n",
    "        print(\"No\")"
   ]
  },
  {
   "cell_type": "code",
   "execution_count": 36,
   "id": "f0792b3c",
   "metadata": {},
   "outputs": [],
   "source": [
    "'''User play a game & replace score with previous score'''\n",
    "\n",
    "import random \n",
    "\n",
    "def game():\n",
    "    print(\"You PLaying Game...\")\n",
    "    score = random.randint(1,62)\n",
    "\n",
    "    # Fetch previous hiscore\n",
    "    with open('hiscore.txt','r') as h:\n",
    "        hiscores = h.read()\n",
    "        if(hiscore != \"\"):\n",
    "            hiscore = int(hiscores)\n",
    "        else:\n",
    "            hiscore = 0\n",
    "    \n",
    "    print(F\"Your Score is : {score}\")\n",
    "\n",
    "    # Checking which score is high\n",
    "    if score > hiscore:\n",
    "        with open('hiscore.txt','w') as hs:\n",
    "            hs.write(str(score))\n",
    "        \n",
    "    return score\n",
    "    \n",
    "    game()"
   ]
  },
  {
   "cell_type": "code",
   "execution_count": 1,
   "id": "41b6616e",
   "metadata": {},
   "outputs": [],
   "source": [
    "def mulT(n):\n",
    "    table = \"\"\n",
    "    for i in range (1, 11):\n",
    "        table += f'{n} * {i} = {n * i}\\n'\n",
    "    with open(f\"tables/table_{n}.txt\", 'w') as t:\n",
    "        # This line creates multiple table based on n inside tables folder\n",
    "        t.write(table)\n",
    "\n",
    "for i in range (2, 21):\n",
    "    mulT(i)"
   ]
  },
  {
   "cell_type": "code",
   "execution_count": 8,
   "id": "dbe48e00",
   "metadata": {},
   "outputs": [],
   "source": [
    "def mul(n):\n",
    "    tablu = \"\"\n",
    "    for i in range (1,11):\n",
    "        tablu += f'{n} * {i} = {n * i}\\n'\n",
    "    with open (f'mtables/tablu_{n}.txt', 'w') as g:\n",
    "        g.write(tablu)\n",
    "\n",
    "for i in range(3,10):\n",
    "    mul(i)"
   ]
  },
  {
   "cell_type": "code",
   "execution_count": 11,
   "id": "da5286ce",
   "metadata": {},
   "outputs": [],
   "source": [
    "def r(n):\n",
    "    powerbi = ''\n",
    "    for i in range (1,11):\n",
    "        powerbi += f'{n} * {i} = {n*i}\\n'\n",
    "    with open(f'mtables/powerbi_{n}.txt', 'w') as p:\n",
    "        p.write(powerbi)\n",
    "for i in range(2,4):\n",
    "    r(i)"
   ]
  }
 ],
 "metadata": {
  "kernelspec": {
   "display_name": "Python 3",
   "language": "python",
   "name": "python3"
  },
  "language_info": {
   "codemirror_mode": {
    "name": "ipython",
    "version": 3
   },
   "file_extension": ".py",
   "mimetype": "text/x-python",
   "name": "python",
   "nbconvert_exporter": "python",
   "pygments_lexer": "ipython3",
   "version": "3.13.2"
  }
 },
 "nbformat": 4,
 "nbformat_minor": 5
}
