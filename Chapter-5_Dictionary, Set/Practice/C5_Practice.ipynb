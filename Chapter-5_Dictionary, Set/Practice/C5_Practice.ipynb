{
 "cells": [
  {
   "cell_type": "code",
   "execution_count": 2,
   "metadata": {},
   "outputs": [
    {
     "data": {
      "text/plain": [
       "dict_items([('key', 'Value'), ('Thor', 99), ('Loki', 97), ('Odin', 98), ('Hela', 99.9), ('Friga', True)])"
      ]
     },
     "execution_count": 2,
     "metadata": {},
     "output_type": "execute_result"
    }
   ],
   "source": [
    "dict = {\n",
    "        \"key\": \"Value\",\n",
    "        \"Thor\": 99,\n",
    "        \"Loki\":97,\n",
    "        \"Odin\":98,\n",
    "        \"Hela\":99.9,\n",
    "        \"Friga\": True,\n",
    "}\n",
    "\n",
    "dict.items()"
   ]
  },
  {
   "cell_type": "code",
   "execution_count": 3,
   "metadata": {},
   "outputs": [
    {
     "data": {
      "text/plain": [
       "dict_keys(['key', 'Thor', 'Loki', 'Odin', 'Hela', 'Friga'])"
      ]
     },
     "execution_count": 3,
     "metadata": {},
     "output_type": "execute_result"
    }
   ],
   "source": [
    "dict.keys()"
   ]
  },
  {
   "cell_type": "code",
   "execution_count": 4,
   "metadata": {},
   "outputs": [
    {
     "data": {
      "text/plain": [
       "dict_values(['Value', 99, 97, 98, 99.9, True])"
      ]
     },
     "execution_count": 4,
     "metadata": {},
     "output_type": "execute_result"
    }
   ],
   "source": [
    "dict.values()"
   ]
  },
  {
   "cell_type": "code",
   "execution_count": 5,
   "metadata": {},
   "outputs": [
    {
     "name": "stdout",
     "output_type": "stream",
     "text": [
      "{'key': 'Value', 'Thor': 100, 'Loki': 97, 'Odin': 98, 'Hela': 99.9, 'Friga': True, 'Gorr': 99}\n"
     ]
    }
   ],
   "source": [
    "dict.update({\"Gorr\":99,\"Thor\":100})\n",
    "print(dict)"
   ]
  },
  {
   "cell_type": "code",
   "execution_count": 6,
   "metadata": {},
   "outputs": [
    {
     "data": {
      "text/plain": [
       "99.9"
      ]
     },
     "execution_count": 6,
     "metadata": {},
     "output_type": "execute_result"
    }
   ],
   "source": [
    "dict.get(\"Thor\")\n",
    "# dict.get(99.9) # Can't access through value\n",
    "dict.get(\"Hela\")\n",
    "# dict.get(\"hela\") # Exact character valids"
   ]
  },
  {
   "cell_type": "code",
   "execution_count": 7,
   "metadata": {},
   "outputs": [
    {
     "name": "stdout",
     "output_type": "stream",
     "text": [
      "{'key': 'Value', 'Thor': 100, 'Loki': 97, 'Odin': 99.8, 'Hela': 99.9, 'Friga': True, 'Gorr': 99}\n"
     ]
    }
   ],
   "source": [
    "dict.update({\"Odin\":98,\"Odin\":99.8})\n",
    "print(dict)"
   ]
  },
  {
   "cell_type": "code",
   "execution_count": 8,
   "metadata": {},
   "outputs": [
    {
     "data": {
      "text/plain": [
       "('Gorr', 99)"
      ]
     },
     "execution_count": 8,
     "metadata": {},
     "output_type": "execute_result"
    }
   ],
   "source": [
    "# dict.pop(\"Friga\")\n",
    "dict.popitem()"
   ]
  },
  {
   "cell_type": "code",
   "execution_count": 9,
   "metadata": {},
   "outputs": [
    {
     "name": "stdout",
     "output_type": "stream",
     "text": [
      "{'key': 'Value', 'Thor': 100, 'Loki': 97, 'Odin': 99.8, 'Hela': 99.9, 'Friga': True}\n"
     ]
    }
   ],
   "source": [
    "print(dict)"
   ]
  },
  {
   "cell_type": "code",
   "execution_count": 10,
   "metadata": {},
   "outputs": [
    {
     "name": "stdout",
     "output_type": "stream",
     "text": [
      "<class 'tuple'>\n",
      "<class 'dict'>\n",
      "<class 'set'>\n"
     ]
    },
    {
     "data": {
      "text/plain": [
       "set"
      ]
     },
     "execution_count": 10,
     "metadata": {},
     "output_type": "execute_result"
    }
   ],
   "source": [
    "s =()\n",
    "print(type(s))\n",
    "sx = {}\n",
    "print(type(sx))\n",
    "\n",
    "# Write a empty set\n",
    "s = set()\n",
    "print(type(s))\n",
    "type(s)"
   ]
  },
  {
   "cell_type": "code",
   "execution_count": 11,
   "metadata": {},
   "outputs": [
    {
     "name": "stdout",
     "output_type": "stream",
     "text": [
      "{'Ops': 20, 'Prod': 25, 'Dev': 9, 'QA': 0}\n"
     ]
    }
   ],
   "source": [
    "k = {\"Ops\":20,\"Prod\":21,\"Dev\":9,\"QA\":0,\"Prod\":25}\n",
    "print(k)"
   ]
  },
  {
   "cell_type": "code",
   "execution_count": 12,
   "metadata": {},
   "outputs": [
    {
     "name": "stdout",
     "output_type": "stream",
     "text": [
      "{'Ops': 20, 'Prod': 25, 'Dev': 9, 'QA': 0}\n",
      "{'Ops': 20, 'Prod': 25, 'Dev': 9, 'QA': 0}\n",
      "{}\n"
     ]
    }
   ],
   "source": [
    "l = k.copy()\n",
    "print(l)\n",
    "l.setdefault(\"Dev\",10)\n",
    "print(l)\n",
    "l.clear()\n",
    "print(l)"
   ]
  },
  {
   "cell_type": "code",
   "execution_count": 13,
   "metadata": {},
   "outputs": [
    {
     "name": "stdout",
     "output_type": "stream",
     "text": [
      "{1, 2, 3, 4, 5, 6, 7, 8, 9, 10}\n",
      "{1, 2, 3, 4, 5, 6, 7, 8, 9, 10, 99}\n",
      "{0, 1, 2, 3, 4, 5, 6, 7, 8, 9, 10, 99}\n",
      "{0, 1, 2, 3, 4, 5, 6, 7, 8, 9, 10, 99}\n"
     ]
    }
   ],
   "source": [
    "s = {1,2,3,4,5,6,7,8,9,10}\n",
    "print(s)\n",
    "\n",
    "s.add(99)\n",
    "print(s)\n",
    "\n",
    "s.add(0)\n",
    "print(s)\n",
    "\n",
    "s.add(1)\n",
    "print(s)"
   ]
  },
  {
   "cell_type": "code",
   "execution_count": 14,
   "metadata": {},
   "outputs": [
    {
     "name": "stdout",
     "output_type": "stream",
     "text": [
      "{0, 1, 2, 3, 4, 5, 6, 7, 8, 9, 10, 99}\n"
     ]
    }
   ],
   "source": [
    "print(s)"
   ]
  },
  {
   "cell_type": "code",
   "execution_count": 15,
   "metadata": {},
   "outputs": [
    {
     "data": {
      "text/plain": [
       "{0, 1, 2, 3, 4, 5, 6, 7, 8, 9, 10, 99, 199}"
      ]
     },
     "execution_count": 15,
     "metadata": {},
     "output_type": "execute_result"
    }
   ],
   "source": [
    "k = {0, 1, 2, 3, 4, 5, 6, 7, 8, 9, 10, 99,199}\n",
    "s.union(k)"
   ]
  },
  {
   "cell_type": "code",
   "execution_count": 16,
   "metadata": {},
   "outputs": [
    {
     "data": {
      "text/plain": [
       "{0, 1, 2, 3, 4, 5, 6, 7, 8, 9, 10, 99}"
      ]
     },
     "execution_count": 16,
     "metadata": {},
     "output_type": "execute_result"
    }
   ],
   "source": [
    "s.intersection(k)"
   ]
  },
  {
   "cell_type": "code",
   "execution_count": 17,
   "metadata": {},
   "outputs": [
    {
     "data": {
      "text/plain": [
       "set()"
      ]
     },
     "execution_count": 17,
     "metadata": {},
     "output_type": "execute_result"
    }
   ],
   "source": [
    "s.difference(k)"
   ]
  },
  {
   "cell_type": "code",
   "execution_count": 18,
   "metadata": {},
   "outputs": [
    {
     "data": {
      "text/plain": [
       "True"
      ]
     },
     "execution_count": 18,
     "metadata": {},
     "output_type": "execute_result"
    }
   ],
   "source": [
    "s.issubset(k)"
   ]
  },
  {
   "cell_type": "code",
   "execution_count": 19,
   "metadata": {},
   "outputs": [
    {
     "data": {
      "text/plain": [
       "False"
      ]
     },
     "execution_count": 19,
     "metadata": {},
     "output_type": "execute_result"
    }
   ],
   "source": [
    "s.issuperset(k) # All elements of k are in s"
   ]
  },
  {
   "cell_type": "code",
   "execution_count": 20,
   "metadata": {},
   "outputs": [
    {
     "data": {
      "text/plain": [
       "True"
      ]
     },
     "execution_count": 20,
     "metadata": {},
     "output_type": "execute_result"
    }
   ],
   "source": [
    "k.issuperset(s) # All elements of s are present in k"
   ]
  },
  {
   "cell_type": "code",
   "execution_count": 21,
   "metadata": {},
   "outputs": [
    {
     "name": "stdout",
     "output_type": "stream",
     "text": [
      "S : {0, 1, 2, 3, 4, 5, 6, 7, 8, 9, 10, 99}\n",
      "K : {0, 1, 2, 3, 4, 5, 6, 7, 8, 9, 10, 99, 199}\n"
     ]
    }
   ],
   "source": [
    "print(\"S :\",s)\n",
    "print(\"K :\",k)"
   ]
  },
  {
   "cell_type": "code",
   "execution_count": 23,
   "metadata": {},
   "outputs": [
    {
     "data": {
      "text/plain": [
       "{0, 1, 2, 3, 4, 5, 6, 7, 8, 9, 10, 99, 199}"
      ]
     },
     "execution_count": 23,
     "metadata": {},
     "output_type": "execute_result"
    }
   ],
   "source": [
    "s.union(k)"
   ]
  },
  {
   "cell_type": "code",
   "execution_count": null,
   "metadata": {},
   "outputs": [
    {
     "data": {
      "text/plain": [
       "False"
      ]
     },
     "execution_count": 25,
     "metadata": {},
     "output_type": "execute_result"
    }
   ],
   "source": [
    "s.isdisjoint(k) # is there is common elements in both sets"
   ]
  },
  {
   "cell_type": "code",
   "execution_count": 30,
   "metadata": {},
   "outputs": [
    {
     "data": {
      "text/plain": [
       "False"
      ]
     },
     "execution_count": 30,
     "metadata": {},
     "output_type": "execute_result"
    }
   ],
   "source": [
    "k.isdisjoint(s) # is there is common elements in both sets"
   ]
  },
  {
   "cell_type": "code",
   "execution_count": 29,
   "metadata": {},
   "outputs": [
    {
     "data": {
      "text/plain": [
       "{0, 8, 9}"
      ]
     },
     "execution_count": 29,
     "metadata": {},
     "output_type": "execute_result"
    }
   ],
   "source": [
    "o = {1,2,3}\n",
    "p = {9,8,0}\n",
    "o.difference(p)\n",
    "p.difference(o)"
   ]
  },
  {
   "cell_type": "code",
   "execution_count": null,
   "metadata": {},
   "outputs": [
    {
     "data": {
      "text/plain": [
       "set()"
      ]
     },
     "execution_count": 33,
     "metadata": {},
     "output_type": "execute_result"
    }
   ],
   "source": [
    "k.difference(s) # {199}\n",
    "s.difference(k) # set() empty set"
   ]
  },
  {
   "cell_type": "code",
   "execution_count": 37,
   "metadata": {},
   "outputs": [
    {
     "name": "stdout",
     "output_type": "stream",
     "text": [
      "Food\n"
     ]
    }
   ],
   "source": [
    "word = {\n",
    "    'Madad': 'Help',\n",
    "    'Khana': 'Food',\n",
    "    'Pani': 'Water',\n",
    "}\n",
    "words = input('Enter What you want to Search: ')\n",
    "print(word[words]) # You can only search through keys not by values or not by index & nor by inappropriate words"
   ]
  },
  {
   "cell_type": "code",
   "execution_count": null,
   "metadata": {},
   "outputs": [
    {
     "name": "stdout",
     "output_type": "stream",
     "text": [
      "<class 'tuple'>\n",
      "<class 'set'>\n"
     ]
    }
   ],
   "source": [
    "s = () # empty tuple\n",
    "se = set() # empty set\n",
    "print(type(s))\n",
    "print(type(se))"
   ]
  },
  {
   "cell_type": "code",
   "execution_count": 41,
   "metadata": {},
   "outputs": [
    {
     "name": "stdout",
     "output_type": "stream",
     "text": [
      "{18, '18'} 2\n"
     ]
    }
   ],
   "source": [
    "se.add(18)\n",
    "se.add('18')\n",
    "se.add(18.0)\n",
    "print(se, len(se))"
   ]
  },
  {
   "cell_type": "code",
   "execution_count": 49,
   "metadata": {},
   "outputs": [
    {
     "name": "stdout",
     "output_type": "stream",
     "text": [
      "Final dictionary is : {'Mahy': 'English', 'Mahi': 'Hindi', 'Bgu': 'Hinglish'}\n"
     ]
    }
   ],
   "source": [
    "# WAP 4 frind & their fav language in key value format\n",
    "\n",
    "d = {} # Taking empty dictionary\n",
    "\n",
    "fname = input('Enter Friend Name : ')\n",
    "lang = input('Enter Fav Lang. : ')\n",
    "d.update({fname : lang})\n",
    "\n",
    "fname = input('Enter Friend Name : ')\n",
    "lang = input('Enter Fav Lang. : ')\n",
    "d.update({fname : lang})\n",
    "\n",
    "fname = input('Enter Friend Name : ')\n",
    "lang = input('Enter Fav Lang. : ')\n",
    "d.update({fname : lang})\n",
    "\n",
    "fname = input('Enter Friend Name : ')\n",
    "lang = input('Enter Fav Lang. : ')\n",
    "d.update({fname : lang})\n",
    "\n",
    "print(f\"Final dictionary is : {d}\")"
   ]
  },
  {
   "cell_type": "code",
   "execution_count": null,
   "metadata": {},
   "outputs": [
    {
     "name": "stdout",
     "output_type": "stream",
     "text": [
      "{9, 21}\n"
     ]
    }
   ],
   "source": [
    "# WAP entr 5 no from user , display their unique no.\n",
    "s = set()\n",
    "\n",
    "n1 = int(input('Enter 1st Number : '))\n",
    "s.add(n1)\n",
    "n2 = int(input('Enter 2nd Number : '))\n",
    "s.add(n2)\n",
    "n3 = int(input('Enter 3rd Number : '))\n",
    "s.add(n3)\n",
    "n4 = int(input('Enter 4th Number : '))\n",
    "s.add(n4)\n",
    "n5 = int(input('Enter 5th Number : '))\n",
    "s.add(n5)\n",
    "\n",
    "print(s) # output should be in sorted format : {1, 3, 7, 9, 21}, if u enter same no count 1 time.\n"
   ]
  },
  {
   "cell_type": "code",
   "execution_count": null,
   "metadata": {},
   "outputs": [],
   "source": []
  }
 ],
 "metadata": {
  "kernelspec": {
   "display_name": "Python 3",
   "language": "python",
   "name": "python3"
  },
  "language_info": {
   "codemirror_mode": {
    "name": "ipython",
    "version": 3
   },
   "file_extension": ".py",
   "mimetype": "text/x-python",
   "name": "python",
   "nbconvert_exporter": "python",
   "pygments_lexer": "ipython3",
   "version": "3.13.2"
  }
 },
 "nbformat": 4,
 "nbformat_minor": 2
}
