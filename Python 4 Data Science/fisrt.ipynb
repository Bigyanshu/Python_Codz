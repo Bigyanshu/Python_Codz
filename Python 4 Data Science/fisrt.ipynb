{
 "cells": [
  {
   "cell_type": "code",
   "execution_count": 3,
   "metadata": {},
   "outputs": [
    {
     "name": "stdout",
     "output_type": "stream",
     "text": [
      "Bgyanshu 23\n"
     ]
    }
   ],
   "source": [
    "name = \"Bgyanshu\"\n",
    "age = 23\n",
    "print(name, age)"
   ]
  },
  {
   "cell_type": "code",
   "execution_count": 4,
   "metadata": {},
   "outputs": [
    {
     "name": "stdout",
     "output_type": "stream",
     "text": [
      "Pragyan 25\n"
     ]
    }
   ],
   "source": [
    "name = \"Pragyan\"\n",
    "age = 25\n",
    "\n",
    "print(name, age)"
   ]
  },
  {
   "cell_type": "code",
   "execution_count": 1,
   "metadata": {},
   "outputs": [
    {
     "name": "stdout",
     "output_type": "stream",
     "text": [
      "Hey Bigyanshu, Welcome to Data Science\n"
     ]
    }
   ],
   "source": [
    "print(\"Hey Bigyanshu, Welcome to Data Science\")"
   ]
  },
  {
   "cell_type": "code",
   "execution_count": 7,
   "metadata": {},
   "outputs": [
    {
     "name": "stdout",
     "output_type": "stream",
     "text": [
      "Variable   Type    Data/Info\n",
      "----------------------------\n",
      "age        int     25\n",
      "name       str     Pragyan\n"
     ]
    }
   ],
   "source": [
    "%whos"
   ]
  },
  {
   "cell_type": "code",
   "execution_count": 16,
   "metadata": {},
   "outputs": [
    {
     "name": "stdout",
     "output_type": "stream",
     "text": [
      "False\n"
     ]
    }
   ],
   "source": [
    "if(1 == 2):\n",
    "    print(True, name, age)\n",
    "print(False)"
   ]
  },
  {
   "cell_type": "code",
   "execution_count": null,
   "metadata": {},
   "outputs": [],
   "source": [
    "a = \"2+9i\"\n",
    "b = 3+9i\n",
    "print(a, type(a))\n",
    "print(b, type(b))"
   ]
  },
  {
   "cell_type": "markdown",
   "metadata": {},
   "source": []
  },
  {
   "cell_type": "code",
   "execution_count": 27,
   "metadata": {},
   "outputs": [
    {
     "name": "stdout",
     "output_type": "stream",
     "text": [
      "pragyan mahyanshu\n",
      "Mahy Mahi\n"
     ]
    }
   ],
   "source": [
    "n = \"mahyanshu\"\n",
    "m = \"pragyan\"\n",
    "print(m +\" \"+ n)\n",
    "print(\"Mahy\" + \" \"+ \"Mahi\")"
   ]
  },
  {
   "cell_type": "code",
   "execution_count": 1,
   "metadata": {},
   "outputs": [
    {
     "name": "stdout",
     "output_type": "stream",
     "text": [
      "(4+5j) <class 'complex'>\n"
     ]
    }
   ],
   "source": [
    "c = complex(4,5)\n",
    "print(c, type(c))"
   ]
  },
  {
   "cell_type": "code",
   "execution_count": 2,
   "metadata": {},
   "outputs": [
    {
     "name": "stdout",
     "output_type": "stream",
     "text": [
      "23\n"
     ]
    }
   ],
   "source": [
    "# Absolute functions\n",
    "v = -23\n",
    "print(abs(v))"
   ]
  },
  {
   "cell_type": "code",
   "execution_count": 3,
   "metadata": {},
   "outputs": [
    {
     "name": "stdout",
     "output_type": "stream",
     "text": [
      "5.0\n"
     ]
    }
   ],
   "source": [
    "b = -3+4j\n",
    "print(abs(b))"
   ]
  },
  {
   "cell_type": "code",
   "execution_count": 5,
   "metadata": {},
   "outputs": [
    {
     "name": "stdout",
     "output_type": "stream",
     "text": [
      "4.90909\n"
     ]
    }
   ],
   "source": [
    "f = -4.90909\n",
    "print(abs(f))"
   ]
  },
  {
   "cell_type": "code",
   "execution_count": 2,
   "metadata": {},
   "outputs": [
    {
     "name": "stdout",
     "output_type": "stream",
     "text": [
      "0b1001\n"
     ]
    }
   ],
   "source": [
    "# In binary conversion functions always Present '0b' before conversion & '0b' represent that is \"Binary conversion\"\n",
    "binary_rep = bin(9)\n",
    "print((binary_rep))"
   ]
  },
  {
   "cell_type": "code",
   "execution_count": 3,
   "metadata": {},
   "outputs": [
    {
     "name": "stdout",
     "output_type": "stream",
     "text": [
      "0b1001001110\n"
     ]
    }
   ],
   "source": [
    "v = bin(590)\n",
    "print(v)"
   ]
  },
  {
   "cell_type": "code",
   "execution_count": 9,
   "metadata": {},
   "outputs": [
    {
     "name": "stdout",
     "output_type": "stream",
     "text": [
      "2391196\n"
     ]
    }
   ],
   "source": [
    "lyst = [12,23,44,45,21,23,23,23,23,23,23,23,2390890]\n",
    "l = sum(lyst) # Sum() is not adding two strings\n",
    "print(l)"
   ]
  },
  {
   "cell_type": "code",
   "execution_count": 11,
   "metadata": {},
   "outputs": [
    {
     "ename": "TypeError",
     "evalue": "unsupported operand type(s) for +: 'int' and 'str'",
     "output_type": "error",
     "traceback": [
      "\u001b[1;31m---------------------------------------------------------------------------\u001b[0m",
      "\u001b[1;31mTypeError\u001b[0m                                 Traceback (most recent call last)",
      "Cell \u001b[1;32mIn[11], line 2\u001b[0m\n\u001b[0;32m      1\u001b[0m a \u001b[38;5;241m=\u001b[39m [\u001b[38;5;124m\"\u001b[39m\u001b[38;5;124mMahy\u001b[39m\u001b[38;5;124m\"\u001b[39m, \u001b[38;5;124m\"\u001b[39m\u001b[38;5;124mMahi\u001b[39m\u001b[38;5;124m\"\u001b[39m]\n\u001b[1;32m----> 2\u001b[0m b \u001b[38;5;241m=\u001b[39m \u001b[38;5;28;43msum\u001b[39;49m\u001b[43m(\u001b[49m\u001b[43ma\u001b[49m\u001b[43m)\u001b[49m\n\u001b[0;32m      3\u001b[0m \u001b[38;5;28mprint\u001b[39m(b,\u001b[38;5;28mtype\u001b[39m(b))\n",
      "\u001b[1;31mTypeError\u001b[0m: unsupported operand type(s) for +: 'int' and 'str'"
     ]
    }
   ],
   "source": [
    "a = [\"Mahy\", \"Mahi\"]\n",
    "b = sum(a)\n",
    "print(b)"
   ]
  },
  {
   "cell_type": "code",
   "execution_count": 13,
   "metadata": {},
   "outputs": [
    {
     "name": "stdout",
     "output_type": "stream",
     "text": [
      "Mahy Weds Mahi\n"
     ]
    }
   ],
   "source": [
    "a = \"Mahy\"\n",
    "b = \"Mahi\"\n",
    "print(a + \" Weds \" + b)"
   ]
  },
  {
   "cell_type": "code",
   "execution_count": null,
   "metadata": {},
   "outputs": [],
   "source": [
    "a = [1,2,3,4,5,6,7,8,9]\n",
    "v = print(sum(a))\n",
    "total = sum(a, v)\n",
    "print(total)"
   ]
  },
  {
   "cell_type": "code",
   "execution_count": 2,
   "metadata": {},
   "outputs": [
    {
     "name": "stdout",
     "output_type": "stream",
     "text": [
      "135\n"
     ]
    }
   ],
   "source": [
    "a = [1,2,3,4,5,6,7,8,9]\n",
    "v = 90\n",
    "total = sum(a, v)\n",
    "print(total)"
   ]
  },
  {
   "cell_type": "code",
   "execution_count": 5,
   "metadata": {},
   "outputs": [
    {
     "name": "stdout",
     "output_type": "stream",
     "text": [
      "11.333333333333334 <class 'str'>\n"
     ]
    }
   ],
   "source": [
    "# Evaluation function\n",
    "a = \"9+7/3\"\n",
    "print(eval(a), type(a)) "
   ]
  },
  {
   "cell_type": "code",
   "execution_count": 7,
   "metadata": {},
   "outputs": [
    {
     "name": "stdout",
     "output_type": "stream",
     "text": [
      "872 <class 'str'>\n"
     ]
    }
   ],
   "source": [
    "v = \"909 + 7 - 89 * 76 % 56 \"\n",
    "print(eval(v), type(v))"
   ]
  },
  {
   "cell_type": "code",
   "execution_count": 4,
   "metadata": {},
   "outputs": [
    {
     "name": "stdout",
     "output_type": "stream",
     "text": [
      "125.0\n"
     ]
    }
   ],
   "source": [
    "a = 32\n",
    "b = 30\n",
    "c = 9.0\n",
    "yxt = \"a + b + c /3 * 21\"\n",
    "print(eval(yxt))"
   ]
  },
  {
   "cell_type": "code",
   "execution_count": 3,
   "metadata": {},
   "outputs": [
    {
     "name": "stdout",
     "output_type": "stream",
     "text": [
      "Help on class int in module builtins:\n",
      "\n",
      "class int(object)\n",
      " |  int([x]) -> integer\n",
      " |  int(x, base=10) -> integer\n",
      " |\n",
      " |  Convert a number or string to an integer, or return 0 if no arguments\n",
      " |  are given.  If x is a number, return x.__int__().  For floating-point\n",
      " |  numbers, this truncates towards zero.\n",
      " |\n",
      " |  If x is not a number or if base is given, then x must be a string,\n",
      " |  bytes, or bytearray instance representing an integer literal in the\n",
      " |  given base.  The literal can be preceded by '+' or '-' and be surrounded\n",
      " |  by whitespace.  The base defaults to 10.  Valid bases are 0 and 2-36.\n",
      " |  Base 0 means to interpret the base from the string as an integer literal.\n",
      " |  >>> int('0b100', base=0)\n",
      " |  4\n",
      " |\n",
      " |  Built-in subclasses:\n",
      " |      bool\n",
      " |\n",
      " |  Methods defined here:\n",
      " |\n",
      " |  __abs__(self, /)\n",
      " |      abs(self)\n",
      " |\n",
      " |  __add__(self, value, /)\n",
      " |      Return self+value.\n",
      " |\n",
      " |  __and__(self, value, /)\n",
      " |      Return self&value.\n",
      " |\n",
      " |  __bool__(self, /)\n",
      " |      True if self else False\n",
      " |\n",
      " |  __ceil__(self, /)\n",
      " |      Ceiling of an Integral returns itself.\n",
      " |\n",
      " |  __divmod__(self, value, /)\n",
      " |      Return divmod(self, value).\n",
      " |\n",
      " |  __eq__(self, value, /)\n",
      " |      Return self==value.\n",
      " |\n",
      " |  __float__(self, /)\n",
      " |      float(self)\n",
      " |\n",
      " |  __floor__(self, /)\n",
      " |      Flooring an Integral returns itself.\n",
      " |\n",
      " |  __floordiv__(self, value, /)\n",
      " |      Return self//value.\n",
      " |\n",
      " |  __format__(self, format_spec, /)\n",
      " |      Convert to a string according to format_spec.\n",
      " |\n",
      " |  __ge__(self, value, /)\n",
      " |      Return self>=value.\n",
      " |\n",
      " |  __getattribute__(self, name, /)\n",
      " |      Return getattr(self, name).\n",
      " |\n",
      " |  __getnewargs__(self, /)\n",
      " |\n",
      " |  __gt__(self, value, /)\n",
      " |      Return self>value.\n",
      " |\n",
      " |  __hash__(self, /)\n",
      " |      Return hash(self).\n",
      " |\n",
      " |  __index__(self, /)\n",
      " |      Return self converted to an integer, if self is suitable for use as an index into a list.\n",
      " |\n",
      " |  __int__(self, /)\n",
      " |      int(self)\n",
      " |\n",
      " |  __invert__(self, /)\n",
      " |      ~self\n",
      " |\n",
      " |  __le__(self, value, /)\n",
      " |      Return self<=value.\n",
      " |\n",
      " |  __lshift__(self, value, /)\n",
      " |      Return self<<value.\n",
      " |\n",
      " |  __lt__(self, value, /)\n",
      " |      Return self<value.\n",
      " |\n",
      " |  __mod__(self, value, /)\n",
      " |      Return self%value.\n",
      " |\n",
      " |  __mul__(self, value, /)\n",
      " |      Return self*value.\n",
      " |\n",
      " |  __ne__(self, value, /)\n",
      " |      Return self!=value.\n",
      " |\n",
      " |  __neg__(self, /)\n",
      " |      -self\n",
      " |\n",
      " |  __or__(self, value, /)\n",
      " |      Return self|value.\n",
      " |\n",
      " |  __pos__(self, /)\n",
      " |      +self\n",
      " |\n",
      " |  __pow__(self, value, mod=None, /)\n",
      " |      Return pow(self, value, mod).\n",
      " |\n",
      " |  __radd__(self, value, /)\n",
      " |      Return value+self.\n",
      " |\n",
      " |  __rand__(self, value, /)\n",
      " |      Return value&self.\n",
      " |\n",
      " |  __rdivmod__(self, value, /)\n",
      " |      Return divmod(value, self).\n",
      " |\n",
      " |  __repr__(self, /)\n",
      " |      Return repr(self).\n",
      " |\n",
      " |  __rfloordiv__(self, value, /)\n",
      " |      Return value//self.\n",
      " |\n",
      " |  __rlshift__(self, value, /)\n",
      " |      Return value<<self.\n",
      " |\n",
      " |  __rmod__(self, value, /)\n",
      " |      Return value%self.\n",
      " |\n",
      " |  __rmul__(self, value, /)\n",
      " |      Return value*self.\n",
      " |\n",
      " |  __ror__(self, value, /)\n",
      " |      Return value|self.\n",
      " |\n",
      " |  __round__(self, ndigits=<unrepresentable>, /)\n",
      " |      Rounding an Integral returns itself.\n",
      " |\n",
      " |      Rounding with an ndigits argument also returns an integer.\n",
      " |\n",
      " |  __rpow__(self, value, mod=None, /)\n",
      " |      Return pow(value, self, mod).\n",
      " |\n",
      " |  __rrshift__(self, value, /)\n",
      " |      Return value>>self.\n",
      " |\n",
      " |  __rshift__(self, value, /)\n",
      " |      Return self>>value.\n",
      " |\n",
      " |  __rsub__(self, value, /)\n",
      " |      Return value-self.\n",
      " |\n",
      " |  __rtruediv__(self, value, /)\n",
      " |      Return value/self.\n",
      " |\n",
      " |  __rxor__(self, value, /)\n",
      " |      Return value^self.\n",
      " |\n",
      " |  __sizeof__(self, /)\n",
      " |      Returns size in memory, in bytes.\n",
      " |\n",
      " |  __sub__(self, value, /)\n",
      " |      Return self-value.\n",
      " |\n",
      " |  __truediv__(self, value, /)\n",
      " |      Return self/value.\n",
      " |\n",
      " |  __trunc__(self, /)\n",
      " |      Truncating an Integral returns itself.\n",
      " |\n",
      " |  __xor__(self, value, /)\n",
      " |      Return self^value.\n",
      " |\n",
      " |  as_integer_ratio(self, /)\n",
      " |      Return a pair of integers, whose ratio is equal to the original int.\n",
      " |\n",
      " |      The ratio is in lowest terms and has a positive denominator.\n",
      " |\n",
      " |      >>> (10).as_integer_ratio()\n",
      " |      (10, 1)\n",
      " |      >>> (-10).as_integer_ratio()\n",
      " |      (-10, 1)\n",
      " |      >>> (0).as_integer_ratio()\n",
      " |      (0, 1)\n",
      " |\n",
      " |  bit_count(self, /)\n",
      " |      Number of ones in the binary representation of the absolute value of self.\n",
      " |\n",
      " |      Also known as the population count.\n",
      " |\n",
      " |      >>> bin(13)\n",
      " |      '0b1101'\n",
      " |      >>> (13).bit_count()\n",
      " |      3\n",
      " |\n",
      " |  bit_length(self, /)\n",
      " |      Number of bits necessary to represent self in binary.\n",
      " |\n",
      " |      >>> bin(37)\n",
      " |      '0b100101'\n",
      " |      >>> (37).bit_length()\n",
      " |      6\n",
      " |\n",
      " |  conjugate(self, /)\n",
      " |      Returns self, the complex conjugate of any int.\n",
      " |\n",
      " |  is_integer(self, /)\n",
      " |      Returns True. Exists for duck type compatibility with float.is_integer.\n",
      " |\n",
      " |  to_bytes(self, /, length=1, byteorder='big', *, signed=False)\n",
      " |      Return an array of bytes representing an integer.\n",
      " |\n",
      " |      length\n",
      " |        Length of bytes object to use.  An OverflowError is raised if the\n",
      " |        integer is not representable with the given number of bytes.  Default\n",
      " |        is length 1.\n",
      " |      byteorder\n",
      " |        The byte order used to represent the integer.  If byteorder is 'big',\n",
      " |        the most significant byte is at the beginning of the byte array.  If\n",
      " |        byteorder is 'little', the most significant byte is at the end of the\n",
      " |        byte array.  To request the native byte order of the host system, use\n",
      " |        sys.byteorder as the byte order value.  Default is to use 'big'.\n",
      " |      signed\n",
      " |        Determines whether two's complement is used to represent the integer.\n",
      " |        If signed is False and a negative integer is given, an OverflowError\n",
      " |        is raised.\n",
      " |\n",
      " |  ----------------------------------------------------------------------\n",
      " |  Class methods defined here:\n",
      " |\n",
      " |  from_bytes(bytes, byteorder='big', *, signed=False)\n",
      " |      Return the integer represented by the given array of bytes.\n",
      " |\n",
      " |      bytes\n",
      " |        Holds the array of bytes to convert.  The argument must either\n",
      " |        support the buffer protocol or be an iterable object producing bytes.\n",
      " |        Bytes and bytearray are examples of built-in objects that support the\n",
      " |        buffer protocol.\n",
      " |      byteorder\n",
      " |        The byte order used to represent the integer.  If byteorder is 'big',\n",
      " |        the most significant byte is at the beginning of the byte array.  If\n",
      " |        byteorder is 'little', the most significant byte is at the end of the\n",
      " |        byte array.  To request the native byte order of the host system, use\n",
      " |        sys.byteorder as the byte order value.  Default is to use 'big'.\n",
      " |      signed\n",
      " |        Indicates whether two's complement is used to represent the integer.\n",
      " |\n",
      " |  ----------------------------------------------------------------------\n",
      " |  Static methods defined here:\n",
      " |\n",
      " |  __new__(*args, **kwargs)\n",
      " |      Create and return a new object.  See help(type) for accurate signature.\n",
      " |\n",
      " |  ----------------------------------------------------------------------\n",
      " |  Data descriptors defined here:\n",
      " |\n",
      " |  denominator\n",
      " |      the denominator of a rational number in lowest terms\n",
      " |\n",
      " |  imag\n",
      " |      the imaginary part of a complex number\n",
      " |\n",
      " |  numerator\n",
      " |      the numerator of a rational number in lowest terms\n",
      " |\n",
      " |  real\n",
      " |      the real part of a complex number\n",
      "\n"
     ]
    }
   ],
   "source": [
    "# Help Functions\n",
    "help(int)\n",
    "\n",
    "# or \n",
    "# both works same\n",
    "\n",
    "int??"
   ]
  },
  {
   "cell_type": "code",
   "execution_count": null,
   "metadata": {},
   "outputs": [],
   "source": [
    "v = input(\"Enter 1st grade : \")\n",
    "b = input(\"Enter 2nd grade : \")\n",
    "print(\"Sum of Two is :\", int(v)+ int(b))"
   ]
  },
  {
   "cell_type": "code",
   "execution_count": 1,
   "metadata": {},
   "outputs": [
    {
     "name": "stdout",
     "output_type": "stream",
     "text": [
      "Sum of Two is : 121\n"
     ]
    }
   ],
   "source": [
    "v = int(input(\"Enter 1st grade : \"))\n",
    "b = int(input(\"Enter 2nd grade : \"))\n",
    "\n",
    "sum = v  + b\n",
    "print(\"Sum of Two is :\", sum)"
   ]
  },
  {
   "cell_type": "code",
   "execution_count": 3,
   "metadata": {},
   "outputs": [
    {
     "name": "stdout",
     "output_type": "stream",
     "text": [
      "29.5 <class 'float'>\n"
     ]
    }
   ],
   "source": [
    "# Q1\n",
    "exp = input(\"Enter Expression in Mathematically: \")\n",
    "result = eval(exp)\n",
    "print(result, type(result))"
   ]
  },
  {
   "cell_type": "code",
   "execution_count": 7,
   "metadata": {},
   "outputs": [
    {
     "name": "stdout",
     "output_type": "stream",
     "text": [
      "Price of House for User 1 is :  5000000.0\n",
      "Price of House for User 2 is :  150000000.0\n",
      "The threshold for user 1 is : , False\n",
      "The threshold for user 2 is : , True\n"
     ]
    }
   ],
   "source": [
    "#Q2\n",
    "u1 = float(input( \"Enter House Size : \"))\n",
    "bed1 = int(input(\"Enter Bed Nos : \"))\n",
    "budget1 = float(input(\"Enter Your Budgets : \"))\n",
    "\n",
    "u2 = float(input( \"Enter House Size : \"))\n",
    "bed2 = int(input(\"Enter Bed Nos : \"))\n",
    "budget2 = float(input(\"Enter Your Budgets : \"))\n",
    "\n",
    "price_House1 = u1 * 5000\n",
    "print(\"Price of House for User 1 is : \", price_House1)\n",
    "\n",
    "price_House2 = u2 * 5000\n",
    "print(\"Price of House for User 2 is : \", price_House2)\n",
    "\n",
    "threshold = 750000\n",
    "u1_thold = budget1 >= threshold\n",
    "u2_thold = budget2 >= threshold\n",
    "\n",
    "print(f\"The threshold for user 1 is : , {u1_thold}\")\n",
    "print(f\"The threshold for user 2 is : , {u2_thold}\")\n",
    "\n"
   ]
  },
  {
   "cell_type": "code",
   "execution_count": 12,
   "metadata": {},
   "outputs": [
    {
     "name": "stdout",
     "output_type": "stream",
     "text": [
      "Your Gross Salary is : 288000.0\n"
     ]
    }
   ],
   "source": [
    "base_sal = float(input(\"Enter your Base salary : \"))\n",
    "year_service = float(input(\"Enter your Service Year : \"))\n",
    "\n",
    "if year_service >= 5 :\n",
    "    total_sal = base_sal +(0.08 * base_sal) - (0.12 * base_sal)\n",
    "    print(f\"Your Gross Salary is : {total_sal}\")\n",
    "else:\n",
    "    net_sal = base_sal -(0.12 * base_sal)\n",
    "    print(f\"Your Net Salary is : {net_sal}\")"
   ]
  },
  {
   "cell_type": "code",
   "execution_count": 3,
   "metadata": {},
   "outputs": [
    {
     "name": "stdout",
     "output_type": "stream",
     "text": [
      "Your Favorites place is Cuttack City\n"
     ]
    }
   ],
   "source": [
    "city = input(\"Enter Your City : \")\n",
    "\n",
    "if city == \"Bangalore\" :\n",
    "    print(\"Your Favorites place is Electronic City\")\n",
    "elif city == \"Odisha\" :\n",
    "    print(\"Your Favorites place is Cuttack City\")\n",
    "elif city == \"Pune\" :\n",
    "    print(\"Your Favorites place is Weather City\")\n",
    "elif city == \"Kerla\" :\n",
    "    print(\"Your Favorites place is Nature City\")\n",
    "else:\n",
    "    print(\"No Records Found...!\")"
   ]
  },
  {
   "cell_type": "code",
   "execution_count": 6,
   "metadata": {},
   "outputs": [
    {
     "name": "stdout",
     "output_type": "stream",
     "text": [
      "Invalid Mail Address. Please Enter again...\n",
      "Valid Mail Address\n"
     ]
    }
   ],
   "source": [
    "email = input(\"Enter Your Email Address : \")\n",
    "valid_Mail = False\n",
    "while not valid_Mail :\n",
    "    if \"@\" in email and \".\" in email :\n",
    "        print(\"Valid Mail Address\")\n",
    "        valid_Mail = True\n",
    "    else:\n",
    "        print(\"Invalid Mail Address. Please Enter again...\")\n",
    "        email =input(\"Enter Email Address :\")\n",
    "        "
   ]
  },
  {
   "cell_type": "code",
   "execution_count": 8,
   "metadata": {},
   "outputs": [
    {
     "name": "stdout",
     "output_type": "stream",
     "text": [
      "Total Amount of Purchase is 0\n",
      "Subtotal Amount is 100.0\n",
      "Total Amount of Purchase is 510.0\n",
      "Subtotal Amount is 4590.0\n",
      "Total Amount of Purchase is 710.0\n",
      "Subtotal Amount is 6390.0\n"
     ]
    }
   ],
   "source": [
    "# Prepare a Bill system of a Shoping Mall\n",
    "items = int(input(\"Enter No of items Purchase : \"))\n",
    "total_amt = 0\n",
    "\n",
    "for i in range(items) :\n",
    "    price_item = float(input(\"Enter The Price of Item : \"))\n",
    "    total_amt = total_amt + price_item\n",
    "    i = i+1\n",
    "\n",
    "    if total_amt >= 1000 :\n",
    "        discount = 0.10 * total_amt\n",
    "        print(f\"Total Amount of Purchase is {discount}\")\n",
    "    elif total_amt >= 5000 :\n",
    "        discount = 0.20 * total_amt\n",
    "        print(f\"Total Amount of Purchase is {discount}\")\n",
    "    else :\n",
    "        discount = 0\n",
    "        print(f\"Total Amount of Purchase is {discount}\")\n",
    "\n",
    "    total_price = total_amt - discount\n",
    "    print(f\"Subtotal Amount is {total_price}\")\n"
   ]
  },
  {
   "cell_type": "code",
   "execution_count": 8,
   "metadata": {},
   "outputs": [
    {
     "name": "stdout",
     "output_type": "stream",
     "text": [
      "You Got 99 : O Grade\n",
      "You Got 79 : O Grade\n",
      "You Got 97 : O Grade\n",
      "You Got 73 : O Grade\n",
      "You Got 93 : O Grade\n",
      "You Got 69 : O Grade\n",
      "You Got 91 : O Grade\n",
      "You Got 63 : O Grade\n",
      "You Got 56 : O Grade\n",
      "You Got 32 : O Grade\n"
     ]
    }
   ],
   "source": [
    "# Grade System \n",
    "def grade_system(grades) :\n",
    "    for grade in grades :\n",
    "        if grade >= 90 & grade <= 100 :\n",
    "            print(f\"You Got {grade} : O Grade\")\n",
    "        elif grade >= 80 & grade <= 89 :\n",
    "            print(f\"You Got {grade} : A Grade\")\n",
    "        elif grade >= 70 & grade <= 79 :\n",
    "            print(f\"You Got {grade} : B Grade\")\n",
    "        elif grade >= 60 & grade <= 69 :\n",
    "            print(f\"You Got {grade} : C Grade\")\n",
    "        elif grade >= 50 & grade <= 59 :\n",
    "            print(f\"You Got {grade} : E Grade\")\n",
    "        else :\n",
    "            print(f\"You Got {grade} : F Grade You Fail ... !\")\n",
    "    return\n",
    "\n",
    "grades = [99,79,97,73,93,69,91,63,56,32]\n",
    "grade_system(grades)\n",
    "\n",
    "# Why errors in output"
   ]
  },
  {
   "cell_type": "code",
   "execution_count": 11,
   "metadata": {},
   "outputs": [
    {
     "name": "stdout",
     "output_type": "stream",
     "text": [
      "(2025, 1, 4)\n"
     ]
    }
   ],
   "source": [
    "\"\"\"Write a Python function that takes a date string in the format \"YYYY-MM-DD\" and \n",
    "returns a tuple containing the year, month, and day as integers.\n",
    "\n",
    "Example Input: \"2025-01-04\"\n",
    "\n",
    "Expected Output: (2025, 1, 04)\"\"\"\n",
    "\n",
    "def convert_date_to_tuple(date_str):\n",
    "    try:\n",
    "        year, month, day = map(int, date_str.split(\"-\"))\n",
    "        return (year, month, day)\n",
    "    except ValueError:\n",
    "        return \"Invalid date format\"\n",
    "    \n",
    "# Test the function\n",
    "\n",
    "date_str = \"2025-01-04\"\n",
    "result = convert_date_to_tuple(date_str)\n",
    "print(result)"
   ]
  },
  {
   "cell_type": "code",
   "execution_count": 20,
   "metadata": {},
   "outputs": [
    {
     "data": {
      "text/plain": [
       "(2026, 1, 4)"
      ]
     },
     "execution_count": 20,
     "metadata": {},
     "output_type": "execute_result"
    }
   ],
   "source": [
    "def convert_dates_parts(date_format):\n",
    "    year = int(date_format[0:4])\n",
    "    month = int(date_format[5:7])\n",
    "    day = int(date_format[9:])\n",
    "    return year, month, day\n",
    "convert_dates_parts(\"2025-01-04\")\n",
    "convert_dates_parts(\"2026-01-04\")"
   ]
  }
 ],
 "metadata": {
  "kernelspec": {
   "display_name": "Python 3",
   "language": "python",
   "name": "python3"
  },
  "language_info": {
   "codemirror_mode": {
    "name": "ipython",
    "version": 3
   },
   "file_extension": ".py",
   "mimetype": "text/x-python",
   "name": "python",
   "nbconvert_exporter": "python",
   "pygments_lexer": "ipython3",
   "version": "3.13.1"
  }
 },
 "nbformat": 4,
 "nbformat_minor": 2
}
