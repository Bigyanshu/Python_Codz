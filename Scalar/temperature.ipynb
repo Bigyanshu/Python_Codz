{
 "cells": [
  {
   "cell_type": "code",
   "execution_count": 1,
   "metadata": {},
   "outputs": [
    {
     "name": "stdout",
     "output_type": "stream",
     "text": [
      "Average Temperature : 27.216666666666665\n"
     ]
    }
   ],
   "source": [
    "temp = [19.0,21.7,25.9,29.8,31.3,35.6]\n",
    "\n",
    "tottal = 0\n",
    "for i in temp:\n",
    "    tottal += i\n",
    "avg = tottal/len(temp)\n",
    "print(f\"Average Temperature : {avg}\")"
   ]
  },
  {
   "cell_type": "code",
   "execution_count": null,
   "metadata": {},
   "outputs": [
    {
     "name": "stdout",
     "output_type": "stream",
     "text": [
      "27.216666666666665\n"
     ]
    }
   ],
   "source": [
    "import numpy as np\n",
    "\n",
    "temp =np.array( [19.0,21.7,25.9,29.8,31.3,35.6])\n",
    "avg = np.mean(temp)\n",
    "print(avg)\n",
    "# not using loops not any addition easily do operations"
   ]
  }
 ],
 "metadata": {
  "kernelspec": {
   "display_name": "Python 3",
   "language": "python",
   "name": "python3"
  },
  "language_info": {
   "codemirror_mode": {
    "name": "ipython",
    "version": 3
   },
   "file_extension": ".py",
   "mimetype": "text/x-python",
   "name": "python",
   "nbconvert_exporter": "python",
   "pygments_lexer": "ipython3",
   "version": "3.13.2"
  }
 },
 "nbformat": 4,
 "nbformat_minor": 2
}
