{
 "cells": [
  {
   "cell_type": "code",
   "execution_count": null,
   "metadata": {},
   "outputs": [
    {
     "name": "stdout",
     "output_type": "stream",
     "text": [
      "\n",
      "Here is a list of the Python keywords.  Enter any keyword to get more help.\n",
      "\n",
      "False               class               from                or\n",
      "None                continue            global              pass\n",
      "True                def                 if                  raise\n",
      "and                 del                 import              return\n",
      "as                  elif                in                  try\n",
      "assert              else                is                  while\n",
      "async               except              lambda              with\n",
      "await               finally             nonlocal            yield\n",
      "break               for                 not                 \n",
      "\n"
     ]
    }
   ],
   "source": [
    "help(\"keywords\")"
   ]
  },
  {
   "cell_type": "code",
   "execution_count": 6,
   "metadata": {},
   "outputs": [
    {
     "name": "stdout",
     "output_type": "stream",
     "text": [
      "Mahy@ Mahi@ Omny@ 79@ 97\n"
     ]
    }
   ],
   "source": [
    "print(\"Mahy\",'Mahi','Omny',79,97,sep='@ ')"
   ]
  },
  {
   "cell_type": "code",
   "execution_count": 7,
   "metadata": {},
   "outputs": [
    {
     "name": "stdout",
     "output_type": "stream",
     "text": [
      "Mahy->24\n"
     ]
    }
   ],
   "source": [
    "print(\"Mahy\",24,sep='->')"
   ]
  },
  {
   "cell_type": "code",
   "execution_count": 8,
   "metadata": {},
   "outputs": [
    {
     "name": "stdout",
     "output_type": "stream",
     "text": [
      "Mahy\n",
      "Mahi\n",
      "Omny\n",
      "79\n",
      "97\n"
     ]
    }
   ],
   "source": [
    "print(\"Mahy\",'Mahi','Omny',79,97,sep='\\n')"
   ]
  },
  {
   "cell_type": "code",
   "execution_count": 12,
   "metadata": {},
   "outputs": [
    {
     "name": "stdout",
     "output_type": "stream",
     "text": [
      "Mahy->24->97\n",
      "Mahi 97\n"
     ]
    }
   ],
   "source": [
    "print(\"Mahy\",24,97,sep= '->', end = '\\n')\n",
    "print('Mahi',97)"
   ]
  },
  {
   "cell_type": "code",
   "execution_count": 13,
   "metadata": {},
   "outputs": [
    {
     "name": "stdout",
     "output_type": "stream",
     "text": [
      "Mahy\n",
      "24\n",
      "97->Mahi 97\n"
     ]
    }
   ],
   "source": [
    "print(\"Mahy\",24,97,sep= '\\n', end = '->')\n",
    "print('Mahi',97)"
   ]
  },
  {
   "cell_type": "code",
   "execution_count": 11,
   "metadata": {},
   "outputs": [
    {
     "name": "stdout",
     "output_type": "stream",
     "text": [
      "Mahy 24 mahy 900\n"
     ]
    }
   ],
   "source": [
    "print(\"Mahy\",24, end= \" \")\n",
    "print(\"mahy\",900)"
   ]
  },
  {
   "cell_type": "code",
   "execution_count": 14,
   "metadata": {},
   "outputs": [
    {
     "name": "stdout",
     "output_type": "stream",
     "text": [
      "140734056172152 140734056172152\n"
     ]
    }
   ],
   "source": [
    "a = 7\n",
    "b = 7\n",
    "print(id(a), id(b))"
   ]
  },
  {
   "cell_type": "code",
   "execution_count": 15,
   "metadata": {},
   "outputs": [
    {
     "data": {
      "text/plain": [
       "True"
      ]
     },
     "execution_count": 15,
     "metadata": {},
     "output_type": "execute_result"
    }
   ],
   "source": [
    "a == b"
   ]
  },
  {
   "cell_type": "code",
   "execution_count": 16,
   "metadata": {},
   "outputs": [
    {
     "name": "stdout",
     "output_type": "stream",
     "text": [
      "Equal\n"
     ]
    }
   ],
   "source": [
    "if a == b:\n",
    "    print(\"Equal\")"
   ]
  },
  {
   "cell_type": "code",
   "execution_count": 18,
   "metadata": {},
   "outputs": [
    {
     "name": "stdout",
     "output_type": "stream",
     "text": [
      "140734056172152 140734056172216\n"
     ]
    }
   ],
   "source": [
    "a = 7\n",
    "b = 9\n",
    "print(id(a), id(b))"
   ]
  },
  {
   "cell_type": "code",
   "execution_count": 19,
   "metadata": {},
   "outputs": [
    {
     "data": {
      "text/plain": [
       "False"
      ]
     },
     "execution_count": 19,
     "metadata": {},
     "output_type": "execute_result"
    }
   ],
   "source": [
    "a == b"
   ]
  },
  {
   "cell_type": "code",
   "execution_count": null,
   "metadata": {},
   "outputs": [
    {
     "name": "stdout",
     "output_type": "stream",
     "text": [
      "Galax\n",
      "\n",
      "yxala\n"
     ]
    },
    {
     "data": {
      "text/plain": [
       "'yxalaG'"
      ]
     },
     "execution_count": 48,
     "metadata": {},
     "output_type": "execute_result"
    }
   ],
   "source": [
    "name = \"Galaxy\"\n",
    "print(name[0:-1])\n",
    "print(name[-1:0]) # Can't Backward Traverse\n",
    "name[-1:0]\n",
    "print(name[-1:0:-1]) # Why not print Whole no in Backward\n",
    "name [-1: - (len(name)+ 1): -1] # if print colon('') not shown in output"
   ]
  },
  {
   "cell_type": "code",
   "execution_count": 65,
   "metadata": {},
   "outputs": [
    {
     "name": "stdout",
     "output_type": "stream",
     "text": [
      "Galaxy\n",
      "Galaxy\n",
      "yxalaG\n",
      "yxalaG\n"
     ]
    }
   ],
   "source": [
    "print(name[0:6]) # Forward Traverse\n",
    "print(name[0:]) # Forward Traverse\n",
    "name [- (len(name)): : 1] # Forwards Traverse\n",
    "\n",
    "print(name[-1: :-1]) # Backward Traverse\n",
    "print(name[::-1]) # Backward Traverse"
   ]
  },
  {
   "cell_type": "code",
   "execution_count": null,
   "metadata": {},
   "outputs": [
    {
     "name": "stdout",
     "output_type": "stream",
     "text": [
      "G\n",
      "yxalaG\n"
     ]
    },
    {
     "data": {
      "text/plain": [
       "'Galaxy'"
      ]
     },
     "execution_count": 71,
     "metadata": {},
     "output_type": "execute_result"
    }
   ],
   "source": [
    "print(name [- (len(name)): : -1]) #BOF\n",
    "name [- (len(name)+1): : 1] # Forwards Traverse"
   ]
  },
  {
   "cell_type": "code",
   "execution_count": 72,
   "metadata": {},
   "outputs": [
    {
     "name": "stdout",
     "output_type": "stream",
     "text": [
      "G\n",
      "yxalaG\n"
     ]
    }
   ],
   "source": [
    "print(name [- (len(name)): : -1]) #BOF\n",
    "print(name[-1: :-1])"
   ]
  },
  {
   "cell_type": "code",
   "execution_count": 58,
   "metadata": {},
   "outputs": [
    {
     "data": {
      "text/plain": [
       "'yxalaG'"
      ]
     },
     "execution_count": 58,
     "metadata": {},
     "output_type": "execute_result"
    }
   ],
   "source": [
    "name [-1: - (len(name)+ 1): -1]"
   ]
  },
  {
   "cell_type": "code",
   "execution_count": 74,
   "metadata": {},
   "outputs": [
    {
     "name": "stdout",
     "output_type": "stream",
     "text": [
      "Your Name is : {''} .Your is Age is : {''}\n"
     ]
    }
   ],
   "source": [
    "name = input()\n",
    "age = input()\n",
    "\n",
    "print(f\"Your Name is :\", name,\".Your is Age is :\",age)"
   ]
  },
  {
   "cell_type": "code",
   "execution_count": 76,
   "metadata": {},
   "outputs": [
    {
     "name": "stdout",
     "output_type": "stream",
     "text": [
      "Your Name is :.Your is Age is :\n"
     ]
    }
   ],
   "source": [
    "name = input()\n",
    "age = input()\n",
    "\n",
    "print(\"Your Name is :{}.Your is Age is :{}\".format(name,age))"
   ]
  },
  {
   "cell_type": "code",
   "execution_count": 77,
   "metadata": {},
   "outputs": [
    {
     "name": "stdout",
     "output_type": "stream",
     "text": [
      "Yes\n"
     ]
    }
   ],
   "source": [
    "s = input()\n",
    "\n",
    "if s == s[::-1]:\n",
    "    print(\"Yes\")\n",
    "else:\n",
    "    print(\"No\")"
   ]
  }
 ],
 "metadata": {
  "kernelspec": {
   "display_name": "Python 3",
   "language": "python",
   "name": "python3"
  },
  "language_info": {
   "codemirror_mode": {
    "name": "ipython",
    "version": 3
   },
   "file_extension": ".py",
   "mimetype": "text/x-python",
   "name": "python",
   "nbconvert_exporter": "python",
   "pygments_lexer": "ipython3",
   "version": "3.12.5"
  }
 },
 "nbformat": 4,
 "nbformat_minor": 2
}
