{
 "cells": [
  {
   "cell_type": "code",
   "execution_count": null,
   "metadata": {},
   "outputs": [
    {
     "name": "stdout",
     "output_type": "stream",
     "text": [
      "Hello, my name is H1. Good Morning!\n",
      "Hello, my name is H2. Good Morning!\n",
      "H1 is no more now.\n",
      "Current population: 1\n",
      "List of human names: ['H1', 'H2']\n"
     ]
    }
   ],
   "source": [
    "class Human:\n",
    "    \n",
    "    # Class variables\n",
    "    populations = 0\n",
    "    data = []\n",
    "\n",
    "    # Constructor\n",
    "    def __init__(self, name, age, alive=True):\n",
    "        self.name = name\n",
    "        self.age = age\n",
    "        self.alive = alive\n",
    "\n",
    "        # Increment the population\n",
    "        Human.populations += 1\n",
    "        Human.data.append(self.name)\n",
    "\n",
    "    # Method\n",
    "    def greet(self):\n",
    "        print(f\"Hello, my name is {self.name}. Good Morning!\")\n",
    "\n",
    "    def dead(self):\n",
    "        print(self.name, \"is no more now.\")\n",
    "        Human.populations -= 1\n",
    "        self.alive = False\n",
    "\n",
    "# Object creation\n",
    "h1 = Human(\"H1\", 80)\n",
    "h2 = Human(\"H2\", 90)\n",
    "\n",
    "# Accessing and using methods\n",
    "h1.greet()\n",
    "h2.greet()\n",
    "\n",
    "h1.dead()\n",
    "\n",
    "# Displaying class variables\n",
    "print(f\"Current population: {Human.populations}\")\n",
    "print(f\"List of human names: {Human.data}\")\n"
   ]
  },
  {
   "cell_type": "code",
   "execution_count": 16,
   "metadata": {},
   "outputs": [
    {
     "data": {
      "text/plain": [
       "1"
      ]
     },
     "execution_count": 16,
     "metadata": {},
     "output_type": "execute_result"
    }
   ],
   "source": [
    "Human.populations"
   ]
  },
  {
   "cell_type": "code",
   "execution_count": 4,
   "metadata": {},
   "outputs": [],
   "source": [
    "class Human:\n",
    "    def speak(self, language):\n",
    "        print(\"I speak\", language)"
   ]
  },
  {
   "cell_type": "code",
   "execution_count": 10,
   "metadata": {},
   "outputs": [
    {
     "name": "stdout",
     "output_type": "stream",
     "text": [
      "I speak Hindi\n",
      "I speak Odia\n",
      "I speak English\n",
      "I speak Hindi\n",
      "I speak Odia\n"
     ]
    }
   ],
   "source": [
    "h1 = Human()\n",
    "h2 = Human()\n",
    "\n",
    "# obj.speak(language)\n",
    "h1.speak(\"Hindi\")\n",
    "h1.speak(\"Odia\")\n",
    "h2.speak(\"English\")\n",
    "h2.speak(\"Hindi\")\n",
    "h2.speak(\"Odia\")\n"
   ]
  }
 ],
 "metadata": {
  "kernelspec": {
   "display_name": "Python 3",
   "language": "python",
   "name": "python3"
  },
  "language_info": {
   "codemirror_mode": {
    "name": "ipython",
    "version": 3
   },
   "file_extension": ".py",
   "mimetype": "text/x-python",
   "name": "python",
   "nbconvert_exporter": "python",
   "pygments_lexer": "ipython3",
   "version": "3.12.5"
  }
 },
 "nbformat": 4,
 "nbformat_minor": 2
}
