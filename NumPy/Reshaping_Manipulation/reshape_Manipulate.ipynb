{
 "cells": [
  {
   "cell_type": "code",
   "execution_count": null,
   "metadata": {},
   "outputs": [
    {
     "name": "stdout",
     "output_type": "stream",
     "text": [
      "Old Array : [10 20 30 40 50 60]\n",
      "New Array : [10 20 30 40 79 50 60]\n"
     ]
    }
   ],
   "source": [
    "# Insert Element 1_D array\n",
    "\n",
    "import numpy as np\n",
    "\n",
    "ie = np.array([10, 20, 30, 40, 50, 60])\n",
    "print(\"Old Array :\",ie)\n",
    "\n",
    "new_ie = np.insert(ie,4,79)\n",
    "print(\"New Array :\",new_ie)"
   ]
  },
  {
   "cell_type": "code",
   "execution_count": 16,
   "metadata": {},
   "outputs": [
    {
     "name": "stdout",
     "output_type": "stream",
     "text": [
      "[[11 13 17]\n",
      " [ 7  9  3]]\n",
      "\n",
      "[[11 37 13 17]\n",
      " [ 7 67  9  3]] 2\n"
     ]
    }
   ],
   "source": [
    "# Insert Element 2_D array : Column wise\n",
    "\n",
    "two_d = np.array([[11,13,17],[7,9,3]])\n",
    "print(two_d)\n",
    "print('')\n",
    "ntd = np.insert(two_d,1,[37,67],axis=1)\n",
    "print(ntd,ntd.ndim) # Dimension remain same"
   ]
  },
  {
   "cell_type": "code",
   "execution_count": null,
   "metadata": {},
   "outputs": [
    {
     "name": "stdout",
     "output_type": "stream",
     "text": [
      "[[11 13 17]\n",
      " [ 7  9  3]] 2\n",
      "\n",
      "[[11 13 17]\n",
      " [ 7  9  3]\n",
      " [37 67 53]] 2\n"
     ]
    }
   ],
   "source": [
    "# Insert Element 2_D array : Row Wise\n",
    "\n",
    "two_d = np.array([[11,13,17],[7,9,3]])\n",
    "print(two_d, two_d.ndim)\n",
    "print('')\n",
    "ntd = np.insert(two_d,2,[37,67,53],axis=0)\n",
    "print(ntd, ntd.ndim) # Dimension remain same"
   ]
  },
  {
   "cell_type": "code",
   "execution_count": null,
   "metadata": {},
   "outputs": [
    {
     "name": "stdout",
     "output_type": "stream",
     "text": [
      "[[11 13 17]\n",
      " [ 7  9  3]] 2\n",
      "\n",
      "[11 13 37 67 53 17  7  9  3] 1\n"
     ]
    }
   ],
   "source": [
    "# Insert Element 2_D array : None\n",
    "\n",
    "two_d = np.array([[11,13,17],[7,9,3]])\n",
    "print(two_d, two_d.ndim)\n",
    "print('')\n",
    "ntd = np.insert(two_d,2,[37,67,53],axis=None)\n",
    "print(ntd, ntd.ndim) # Dimension remain same"
   ]
  },
  {
   "cell_type": "code",
   "execution_count": 24,
   "metadata": {},
   "outputs": [
    {
     "name": "stdout",
     "output_type": "stream",
     "text": [
      "[11 13 17 11 13]\n"
     ]
    }
   ],
   "source": [
    "# append\n",
    "d = np.array([11,13,17])\n",
    "nd = np.append(d,[11,13])\n",
    "print(nd)"
   ]
  },
  {
   "cell_type": "code",
   "execution_count": null,
   "metadata": {},
   "outputs": [],
   "source": []
  }
 ],
 "metadata": {
  "kernelspec": {
   "display_name": "Python 3",
   "language": "python",
   "name": "python3"
  },
  "language_info": {
   "codemirror_mode": {
    "name": "ipython",
    "version": 3
   },
   "file_extension": ".py",
   "mimetype": "text/x-python",
   "name": "python",
   "nbconvert_exporter": "python",
   "pygments_lexer": "ipython3",
   "version": "3.13.2"
  }
 },
 "nbformat": 4,
 "nbformat_minor": 2
}
