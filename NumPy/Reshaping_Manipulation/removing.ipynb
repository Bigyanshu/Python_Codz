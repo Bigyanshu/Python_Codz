{
 "cells": [
  {
   "cell_type": "code",
   "execution_count": 4,
   "metadata": {},
   "outputs": [
    {
     "name": "stdout",
     "output_type": "stream",
     "text": [
      "[1 3 7 9]\n"
     ]
    }
   ],
   "source": [
    "import numpy as np\n",
    "\n",
    "oned= np.array([1,3,5,7,9])\n",
    "no = np.delete(oned, 2)\n",
    "print(no)"
   ]
  },
  {
   "cell_type": "code",
   "execution_count": 13,
   "metadata": {},
   "outputs": [
    {
     "name": "stdout",
     "output_type": "stream",
     "text": [
      "[[19  1  4  3]] 2\n"
     ]
    }
   ],
   "source": [
    "twod = np.array([[19,1,4,3],[3,5,7,9]])\n",
    "nt = np.delete(twod, 1, axis=0) # Row deleting\n",
    "print(nt,nt.ndim)"
   ]
  },
  {
   "cell_type": "code",
   "execution_count": 14,
   "metadata": {},
   "outputs": [
    {
     "name": "stdout",
     "output_type": "stream",
     "text": [
      "[[19  4  3]\n",
      " [ 3  7  9]] 2\n"
     ]
    }
   ],
   "source": [
    "twod = np.array([[19,1,4,3],[3,5,7,9]])\n",
    "nt = np.delete(twod, 1, axis=1) # Column deleting (1,5)\n",
    "print(nt, nt.ndim)"
   ]
  }
 ],
 "metadata": {
  "kernelspec": {
   "display_name": "Python 3",
   "language": "python",
   "name": "python3"
  },
  "language_info": {
   "codemirror_mode": {
    "name": "ipython",
    "version": 3
   },
   "file_extension": ".py",
   "mimetype": "text/x-python",
   "name": "python",
   "nbconvert_exporter": "python",
   "pygments_lexer": "ipython3",
   "version": "3.13.2"
  }
 },
 "nbformat": 4,
 "nbformat_minor": 2
}
