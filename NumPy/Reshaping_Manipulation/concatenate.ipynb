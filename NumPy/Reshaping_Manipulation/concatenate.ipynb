{
 "cells": [
  {
   "cell_type": "code",
   "execution_count": null,
   "metadata": {},
   "outputs": [
    {
     "name": "stdout",
     "output_type": "stream",
     "text": [
      "Joining is in One Dimensional :  [1 3 5 7 9 0 3 2 5 9]\n"
     ]
    }
   ],
   "source": [
    "import numpy as np \n",
    "\n",
    "# 1 D Array\n",
    "\n",
    "a1 = np.array([1,3,5,7,9])\n",
    "a2 = np.array([0,3,2,5,9])\n",
    "\n",
    "a = np.concatenate((a1,a2))\n",
    "print(\"Joining is in One Dimensional :\",a)"
   ]
  },
  {
   "cell_type": "code",
   "execution_count": 9,
   "metadata": {},
   "outputs": [
    {
     "name": "stdout",
     "output_type": "stream",
     "text": [
      "Joining is in One Dimensional :\n",
      " [[1 3 5]\n",
      " [2 7 9]\n",
      " [0 3 2]\n",
      " [0 5 9]]\n",
      "2\n",
      "Joining is in Two Dimensional :\n",
      " [[1 3 5 0 3 2]\n",
      " [2 7 9 0 5 9]]\n",
      "2\n"
     ]
    }
   ],
   "source": [
    "# 2 D Array \n",
    "\n",
    "# axis=0 for vertical stacking\n",
    "# axis=1 for vertical stacking\n",
    "\n",
    "b1 = np.array([[1,3,5],[2,7,9]])\n",
    "b2 = np.array([[0,3,2],[0,5,9]])\n",
    "\n",
    "b = np.concatenate((b1,b2), axis = 0) # axis=0 for vertical stacking\n",
    "print(\"Joining is in One Dimensional :\\n\",b)\n",
    "print(b.ndim)\n",
    "\n",
    "b11 = np.array([[1,3,5],[2,7,9]])\n",
    "b22 = np.array([[0,3,2],[0,5,9]])\n",
    "\n",
    "bb = np.concatenate((b11,b22), axis = 1) # axis=1 for vertical stacking\n",
    "print(\"Joining is in Two Dimensional :\\n\",bb)\n",
    "print(bb.ndim)"
   ]
  },
  {
   "cell_type": "code",
   "execution_count": null,
   "metadata": {},
   "outputs": [
    {
     "name": "stdout",
     "output_type": "stream",
     "text": [
      "[[1 3 5 2 4 6]\n",
      " [2 1 3 2 4 5]] 2\n"
     ]
    }
   ],
   "source": [
    "# axis=0 for vertical stacking\n",
    "\n",
    "n1 = np.array([[1,3,5],[2,1,3]])\n",
    "n2 = np.array([[2,4,6],[2,4,5]])\n",
    "\n",
    "n = np.concatenate((n1,n2),axis = 1) # 0th array join with 0 & 1st array of n1 with 1 st of n2\n",
    "print(n, n.ndim)"
   ]
  },
  {
   "cell_type": "code",
   "execution_count": 20,
   "metadata": {},
   "outputs": [
    {
     "name": "stdout",
     "output_type": "stream",
     "text": [
      "[[1 3 5]\n",
      " [2 1 3]\n",
      " [2 4 6]\n",
      " [2 4 5]] 2\n"
     ]
    }
   ],
   "source": [
    "# axis=1 for horizontal stacking\n",
    "\n",
    "n1 = np.array([[1,3,5],[2,1,3]])\n",
    "n2 = np.array([[2,4,6],[2,4,5]])\n",
    "\n",
    "n = np.concatenate((n1,n2),axis = 0) # 0th array join with 0 & 1st array of n1 with 1 st of n2\n",
    "print(n, n.ndim)"
   ]
  },
  {
   "cell_type": "code",
   "execution_count": 28,
   "metadata": {},
   "outputs": [
    {
     "name": "stdout",
     "output_type": "stream",
     "text": [
      "[[1 3 5]\n",
      " [2 1 3]\n",
      " [2 4 6]\n",
      " [8 9 5]] 2\n",
      "\n",
      "[[1 3 5]\n",
      " [2 1 3]\n",
      " [2 4 6]\n",
      " [8 9 5]]\n",
      "\n",
      "[[2 4 6 1 3 5]\n",
      " [8 9 5 2 1 3]]\n"
     ]
    }
   ],
   "source": [
    "# Stacking Array\n",
    "# vstack -Vertical stacking\n",
    "# hstack -Horizontal stacking\n",
    "\n",
    "n1 = np.array([[1,3,5],[2,1,3]])\n",
    "n2 = np.array([[2,4,6],[8,9,5]])\n",
    "\n",
    "n = np.vstack((n1,n2))\n",
    "print(n, n.ndim)\n",
    "print()\n",
    "print(np.vstack((n1,n2)))\n",
    "print()\n",
    "print(np.hstack((n2,n1)))"
   ]
  }
 ],
 "metadata": {
  "kernelspec": {
   "display_name": "Python 3",
   "language": "python",
   "name": "python3"
  },
  "language_info": {
   "codemirror_mode": {
    "name": "ipython",
    "version": 3
   },
   "file_extension": ".py",
   "mimetype": "text/x-python",
   "name": "python",
   "nbconvert_exporter": "python",
   "pygments_lexer": "ipython3",
   "version": "3.13.2"
  }
 },
 "nbformat": 4,
 "nbformat_minor": 2
}
