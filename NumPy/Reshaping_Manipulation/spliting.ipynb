{
 "cells": [
  {
   "cell_type": "code",
   "execution_count": null,
   "metadata": {},
   "outputs": [
    {
     "name": "stdout",
     "output_type": "stream",
     "text": [
      "split is :  [array([1, 2]), array([4, 5]), array([7])]\n",
      "spliting is :  [array([1, 2]), array([4, 5]), array([7]), array([9])]\n"
     ]
    }
   ],
   "source": [
    "import numpy as np\n",
    "\n",
    "# 1 D Array in 3 parts\n",
    "\n",
    "one = np.array([1,2,4,5,7])\n",
    "split_one = np.array_split(one,3)\n",
    "print(\"split is : \",split_one)\n",
    "\n",
    "# 1 D Array in 4 parts\n",
    "o = np.array([1,2,4,5,7,9])\n",
    "s = np.array_split(o, 4)\n",
    "print(\"spliting is : \",s)\n"
   ]
  },
  {
   "cell_type": "code",
   "execution_count": null,
   "metadata": {},
   "outputs": [
    {
     "name": "stdout",
     "output_type": "stream",
     "text": [
      "Normal : [array([[1, 2, 4, 5]]), array([[9, 4, 3, 1]])]\n",
      "\n",
      "Vertical 1 array :\n",
      " [array([[1, 2, 4, 5],\n",
      "       [9, 4, 3, 1]])]\n",
      "\n",
      "Vertical 2 array :\n",
      " [array([[1, 2, 4, 5]]), array([[9, 4, 3, 1]])]\n",
      "\n",
      "Horizontal :\n",
      " [array([[1, 2],\n",
      "       [9, 4]]), array([[4, 5],\n",
      "       [3, 1]])]\n"
     ]
    }
   ],
   "source": [
    "# 2-D array spliting b hsplit & vsplit\n",
    "j = np.array([[1,2,4,5],[9,4,3,1]])\n",
    "print(\"Normal :\",np.split(j,2))\n",
    "print()\n",
    "print(\"Vertical 1 array :\\n\",np.vsplit(j,1)) # Vertically split\n",
    "print()\n",
    "print(\"Vertical 2 array :\\n\",np.vsplit(j,2)) # Vertically split\n",
    "print()\n",
    "print(\"Horizontal :\\n\",np.hsplit(j,2)) # Horizontally split"
   ]
  }
 ],
 "metadata": {
  "kernelspec": {
   "display_name": "Python 3",
   "language": "python",
   "name": "python3"
  },
  "language_info": {
   "codemirror_mode": {
    "name": "ipython",
    "version": 3
   },
   "file_extension": ".py",
   "mimetype": "text/x-python",
   "name": "python",
   "nbconvert_exporter": "python",
   "pygments_lexer": "ipython3",
   "version": "3.13.2"
  }
 },
 "nbformat": 4,
 "nbformat_minor": 2
}
