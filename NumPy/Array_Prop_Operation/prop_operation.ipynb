{
 "cells": [
  {
   "cell_type": "code",
   "execution_count": 1,
   "metadata": {},
   "outputs": [],
   "source": [
    "import numpy as np"
   ]
  },
  {
   "cell_type": "code",
   "execution_count": 11,
   "metadata": {},
   "outputs": [
    {
     "name": "stdout",
     "output_type": "stream",
     "text": [
      "2\n",
      "(2, 3)\n",
      "int64\n"
     ]
    }
   ],
   "source": [
    "# To check shape of Array\n",
    "t = np.array([[1,2,4], [5,6,7]])\n",
    "print(t.ndim) # dimension of array\n",
    "print(t.shape) # shape of array\n",
    "print(t.dtype)"
   ]
  },
  {
   "cell_type": "code",
   "execution_count": null,
   "metadata": {},
   "outputs": [
    {
     "name": "stdout",
     "output_type": "stream",
     "text": [
      "6\n",
      "2\n",
      "float64\n"
     ]
    }
   ],
   "source": [
    "# To check size of Array\n",
    "t = np.array([[1,2,4], [5,6.0,7]])\n",
    "print(t.size) # size of array\n",
    "print(t.ndim) # dimension of array\n",
    "print(t.dtype) # if one element of float present whole array becames float data type"
   ]
  },
  {
   "cell_type": "code",
   "execution_count": 16,
   "metadata": {},
   "outputs": [
    {
     "name": "stdout",
     "output_type": "stream",
     "text": [
      "float64\n",
      "[[1 2 4]\n",
      " [5 6 7]]\n",
      "int64\n"
     ]
    }
   ],
   "source": [
    "# Convert float into integer\n",
    "r = np.array([[1,2,4], [5,6.9,7]])\n",
    "i = r.astype(int)\n",
    "\n",
    "print(r.dtype)\n",
    "print(i)\n",
    "print(i.dtype)"
   ]
  }
 ],
 "metadata": {
  "kernelspec": {
   "display_name": "Python 3",
   "language": "python",
   "name": "python3"
  },
  "language_info": {
   "codemirror_mode": {
    "name": "ipython",
    "version": 3
   },
   "file_extension": ".py",
   "mimetype": "text/x-python",
   "name": "python",
   "nbconvert_exporter": "python",
   "pygments_lexer": "ipython3",
   "version": "3.13.2"
  }
 },
 "nbformat": 4,
 "nbformat_minor": 2
}
