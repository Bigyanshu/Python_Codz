{
 "cells": [
  {
   "cell_type": "code",
   "execution_count": 4,
   "metadata": {},
   "outputs": [
    {
     "name": "stdout",
     "output_type": "stream",
     "text": [
      "[ 7 12 14]\n",
      "[ 6 21 27]\n",
      "[ 4 49 81]\n",
      "[1.  3.5 4.5]\n",
      "[2 1 0]\n",
      "[0 5 7]\n",
      "[ True False False]\n"
     ]
    }
   ],
   "source": [
    "# Perform various operation in array\n",
    "import numpy as np\n",
    "\n",
    "nt = np.array([2,7,9])\n",
    "\n",
    "print(nt + 5)\n",
    "print(nt * 3)\n",
    "print(nt ** 2)\n",
    "print(nt / 2)\n",
    "print(nt % 3)\n",
    "print(nt - 2)\n",
    "print(nt == 2)\n",
    "# print(nt = 3) not assigned"
   ]
  },
  {
   "cell_type": "code",
   "execution_count": 5,
   "metadata": {},
   "outputs": [
    {
     "name": "stdout",
     "output_type": "stream",
     "text": [
      "49\n",
      "9.8\n",
      "9.0\n",
      "4.833218389437829\n",
      "3\n",
      "17\n",
      "23.36\n"
     ]
    }
   ],
   "source": [
    "# Aggregation functions\n",
    "s = np.array([3,7,9,13,17])\n",
    "\n",
    "print(np.sum(s))\n",
    "print(np.mean(s))\n",
    "print(np.median(s))\n",
    "print(np.std(s)) # standard deviation not understand\n",
    "print(np.min(s))\n",
    "print(np.max(s))\n",
    "print(np.var(s)) # variance not understand\n",
    "\n",
    "# print(np.percentile(s, 25))\n",
    "# print(np.argmin(s))\n",
    "# print(np.argmax(s))\n",
    "# print(np.sort(s))\n",
    "# print(np.unique(s))\n",
    "# print(np.unique([1,1,2,2,3,3,4,4,5,5]))\n",
    "# print(np.unique([1,1,2,2,3,3,4,4,5,5], return_counts=True))\n",
    "# print(np.unique([1,1,2,2,3,3,4,4,5,5], return_index=True))"
   ]
  },
  {
   "cell_type": "code",
   "execution_count": 6,
   "metadata": {},
   "outputs": [
    {
     "name": "stdout",
     "output_type": "stream",
     "text": [
      "[ 3  9 17 23]\n",
      "[ 7  9 13 17]\n"
     ]
    }
   ],
   "source": [
    "s = np.array([3,7,9,13,17,19,23])\n",
    "\n",
    "print(s[::2])\n",
    "print(s[1:5])"
   ]
  },
  {
   "cell_type": "code",
   "execution_count": 7,
   "metadata": {},
   "outputs": [
    {
     "name": "stdout",
     "output_type": "stream",
     "text": [
      "Positions of t[0,3] is :  4444\n",
      "Positions of 9999 is :  9999\n",
      "Positions of t[0,2] is :  333\n",
      "Sum of t[0,3] + t[1,0] is :  14443\n",
      "\n"
     ]
    }
   ],
   "source": [
    "# Positions\n",
    "t = np.array([[1, 22, 333, 4444], [9999, 777, 33, 11]])\n",
    "print(f\"Positions of t[0,3] is : \", t[0,3])\n",
    "print(f\"Positions of {t[1,0]} is : \", t[1,0])\n",
    "print(f\"Positions of t[0,2] is : \",t[0,2])\n",
    "\n",
    "print(\"Sum of t[0,3] + t[1,0] is : \", t[0,3] + t[1,0] )\n",
    "print()"
   ]
  },
  {
   "cell_type": "code",
   "execution_count": null,
   "metadata": {},
   "outputs": [
    {
     "name": "stdout",
     "output_type": "stream",
     "text": [
      "[[[ 0  1  2  3]\n",
      "  [ 9  7  4  6]]\n",
      "\n",
      " [[11 12 14 34]\n",
      "  [21 22 43 45]]] 3\n",
      "\n",
      "a[1,1,3] is :  45\n"
     ]
    }
   ],
   "source": [
    "# Accessing Element\n",
    "\n",
    "# 1\n",
    "a = np.array([[[0,1,2,3],[9,7,4,6]] , # 1st array (index no 0)\n",
    "              [[11,12,14,34],[21,22,43,45]]]) # 2nd array (index no 1)\n",
    "# Accessing 2nd array (1 index), \n",
    "print(a, a.ndim)\n",
    "print()\n",
    "print(\"a[1,1,3] is : \", a[1,1,3]) # 45"
   ]
  },
  {
   "cell_type": "code",
   "execution_count": null,
   "metadata": {},
   "outputs": [
    {
     "name": "stdout",
     "output_type": "stream",
     "text": [
      "[[[ 0  1  2  3]\n",
      "  [ 9  7  4  6]]\n",
      "\n",
      " [[11 12 14  0]\n",
      "  [21 22 43  0]]] 3\n"
     ]
    }
   ],
   "source": [
    "# 2\n",
    "k = np.array([[[0, 1, 2, 3], [9, 7, 4, 6]], \n",
    "              [[11, 12, 14, 0], [21, 22, 43, 0]]])  # Add with a 0 to make arrays equal length\n",
    "print(k, k.ndim)"
   ]
  },
  {
   "cell_type": "code",
   "execution_count": 22,
   "metadata": {},
   "outputs": [
    {
     "name": "stdout",
     "output_type": "stream",
     "text": [
      "z[0][1][3] is : 14\n",
      "[[[0, 1, 2, 3], [9, 7, 4, 6]], [[11, 12, 14], [21, 22, 43]]]\n"
     ]
    }
   ],
   "source": [
    "# 3\n",
    "z= [\n",
    "    [[0, 1, 2, 3], [9, 7, 4, 6]], # 0\n",
    "    [[11, 12, 14], [21, 22, 43]]] # 1 \n",
    "\n",
    "print(\"z[0][1][3] is :\",z[1][0][2])\n",
    "print(z)"
   ]
  }
 ],
 "metadata": {
  "kernelspec": {
   "display_name": "Python 3",
   "language": "python",
   "name": "python3"
  },
  "language_info": {
   "codemirror_mode": {
    "name": "ipython",
    "version": 3
   },
   "file_extension": ".py",
   "mimetype": "text/x-python",
   "name": "python",
   "nbconvert_exporter": "python",
   "pygments_lexer": "ipython3",
   "version": "3.13.2"
  }
 },
 "nbformat": 4,
 "nbformat_minor": 2
}
