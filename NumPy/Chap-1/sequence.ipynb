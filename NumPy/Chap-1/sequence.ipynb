{
 "cells": [
  {
   "cell_type": "code",
   "execution_count": null,
   "metadata": {},
   "outputs": [
    {
     "name": "stdout",
     "output_type": "stream",
     "text": [
      "[ 1  4  7 10 13 16 19]\n",
      "1\n"
     ]
    }
   ],
   "source": [
    "# Creating sequence of no in NumPy\n",
    "# arange(start,stop,jump)\n",
    "# similar as range & for loop\n",
    "import numpy as np\n",
    "\n",
    "x = np.arange(1,20,3)\n",
    "print(x,) \n",
    "# Checking Dimension of thia array\n",
    "print(x.ndim) "
   ]
  },
  {
   "cell_type": "code",
   "execution_count": null,
   "metadata": {},
   "outputs": [
    {
     "name": "stdout",
     "output_type": "stream",
     "text": [
      "[[1. 0. 0.]\n",
      " [0. 1. 0.]\n",
      " [0. 0. 1.]]\n",
      "2\n"
     ]
    }
   ],
   "source": [
    "# identity matrix\n",
    "# using function eye(value), it is a square matrix which diagonal value should be 1\n",
    "im = np.eye(3)\n",
    "print(im)\n",
    "print(im.ndim)"
   ]
  }
 ],
 "metadata": {
  "kernelspec": {
   "display_name": "Python 3",
   "language": "python",
   "name": "python3"
  },
  "language_info": {
   "codemirror_mode": {
    "name": "ipython",
    "version": 3
   },
   "file_extension": ".py",
   "mimetype": "text/x-python",
   "name": "python",
   "nbconvert_exporter": "python",
   "pygments_lexer": "ipython3",
   "version": "3.13.2"
  }
 },
 "nbformat": 4,
 "nbformat_minor": 2
}
