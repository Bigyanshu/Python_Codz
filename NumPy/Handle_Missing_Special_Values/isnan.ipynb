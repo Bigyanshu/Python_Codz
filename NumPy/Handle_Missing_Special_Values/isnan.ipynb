{
 "cells": [
  {
   "cell_type": "code",
   "execution_count": 2,
   "metadata": {},
   "outputs": [],
   "source": [
    "import numpy as np"
   ]
  },
  {
   "cell_type": "code",
   "execution_count": null,
   "metadata": {},
   "outputs": [
    {
     "name": "stdout",
     "output_type": "stream",
     "text": [
      "[False False  True False  True]\n",
      "False\n"
     ]
    }
   ],
   "source": [
    "# Can't direct compare nan value, but in array can check-->\n",
    "\n",
    "n = np.array([13,7,np.nan,9,np.nan])\n",
    "print(np.isnan(n))\n",
    "print(np.nan == np.nan) # It always shows Fasle"
   ]
  },
  {
   "cell_type": "code",
   "execution_count": 8,
   "metadata": {},
   "outputs": [
    {
     "name": "stdout",
     "output_type": "stream",
     "text": [
      "[13.  7. nan  9. nan]\n",
      "\n",
      "[ 13.   7. 100.   9. 100.]\n"
     ]
    }
   ],
   "source": [
    "# Fill NaN to numeric value\n",
    "n = np.array([13,7,np.nan,9,np.nan])\n",
    "print(n)\n",
    "print()\n",
    "newa= np.nan_to_num(n,nan=100)\n",
    "print(newa)"
   ]
  }
 ],
 "metadata": {
  "kernelspec": {
   "display_name": "Python 3",
   "language": "python",
   "name": "python3"
  },
  "language_info": {
   "codemirror_mode": {
    "name": "ipython",
    "version": 3
   },
   "file_extension": ".py",
   "mimetype": "text/x-python",
   "name": "python",
   "nbconvert_exporter": "python",
   "pygments_lexer": "ipython3",
   "version": "3.13.2"
  }
 },
 "nbformat": 4,
 "nbformat_minor": 2
}
