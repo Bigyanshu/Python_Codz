{
 "cells": [
  {
   "cell_type": "code",
   "execution_count": 12,
   "metadata": {},
   "outputs": [
    {
     "name": "stdout",
     "output_type": "stream",
     "text": [
      " Final price is in Python : [90.0, 180.0, 270.0, 360.0] <class 'list'>\n"
     ]
    }
   ],
   "source": [
    "# Same question with Python vs NumPy code\n",
    "\n",
    "# Give discount 10% for some purchase\n",
    "\n",
    "prices = [100,200,300,400]\n",
    "discount = 10 # 10% discount\n",
    "final_price = []\n",
    "\n",
    "for price in prices :\n",
    "    final = price - (price * discount / 100) \n",
    "    final_price.append(final)\n",
    "print(f\" Final price is in Python : {final_price}\",type(final_price))"
   ]
  },
  {
   "cell_type": "code",
   "execution_count": 2,
   "metadata": {},
   "outputs": [
    {
     "name": "stdout",
     "output_type": "stream",
     "text": [
      " Final price is in NumPy : [ 90. 180. 270. 360.]\n"
     ]
    }
   ],
   "source": [
    "# Give discount 10% for some purchase\n",
    "import numpy as np\n",
    "\n",
    "prices = np.array([100,200,300,400])\n",
    "discount = 10\n",
    "\n",
    "final_price = prices - (prices * discount / 100)\n",
    "print(f\" Final price is in NumPy : {final_price}\")"
   ]
  },
  {
   "cell_type": "code",
   "execution_count": 3,
   "metadata": {},
   "outputs": [
    {
     "name": "stdout",
     "output_type": "stream",
     "text": [
      "[11 12 14]\n"
     ]
    }
   ],
   "source": [
    "n = np.array([1,2,4])\n",
    "b = np.array([10])\n",
    "\n",
    "print(n+b)"
   ]
  },
  {
   "cell_type": "code",
   "execution_count": 12,
   "metadata": {},
   "outputs": [
    {
     "ename": "TypeError",
     "evalue": "insert() missing 2 required positional arguments: 'obj' and 'values'",
     "output_type": "error",
     "traceback": [
      "\u001b[1;31m---------------------------------------------------------------------------\u001b[0m",
      "\u001b[1;31mTypeError\u001b[0m                                 Traceback (most recent call last)",
      "Cell \u001b[1;32mIn[12], line 3\u001b[0m\n\u001b[0;32m      1\u001b[0m n \u001b[38;5;241m=\u001b[39m np\u001b[38;5;241m.\u001b[39marray([[\u001b[38;5;241m1\u001b[39m,\u001b[38;5;241m2\u001b[39m,\u001b[38;5;241m4\u001b[39m],[\u001b[38;5;241m9\u001b[39m,\u001b[38;5;241m8\u001b[39m,\u001b[38;5;241m2\u001b[39m]])\n\u001b[0;32m      2\u001b[0m b \u001b[38;5;241m=\u001b[39m np\u001b[38;5;241m.\u001b[39marray([\u001b[38;5;241m10\u001b[39m,\u001b[38;5;241m90\u001b[39m])\n\u001b[1;32m----> 3\u001b[0m p \u001b[38;5;241m=\u001b[39m \u001b[43mnp\u001b[49m\u001b[38;5;241;43m.\u001b[39;49m\u001b[43minsert\u001b[49m\u001b[43m(\u001b[49m\u001b[43m(\u001b[49m\u001b[43mb\u001b[49m\u001b[43m,\u001b[49m\u001b[38;5;241;43m2\u001b[39;49m\u001b[43m,\u001b[49m\u001b[38;5;241;43m11\u001b[39;49m\u001b[43m)\u001b[49m\u001b[43m)\u001b[49m\n\u001b[0;32m      4\u001b[0m \u001b[38;5;28mprint\u001b[39m(n\u001b[38;5;241m+\u001b[39mp) \u001b[38;5;66;03m#ValueError: operands could not be broadcast together with shapes (2,3) (2,) \u001b[39;00m\n",
      "\u001b[1;31mTypeError\u001b[0m: insert() missing 2 required positional arguments: 'obj' and 'values'"
     ]
    }
   ],
   "source": [
    "n = np.array([[1,2,4],[9,8,2]])\n",
    "b = np.array([10,90])\n",
    "p = np.insert((b,2,11))\n",
    "print(n+p) #ValueError: operands could not be broadcast together with shapes (2,3) (2,) \n"
   ]
  }
 ],
 "metadata": {
  "kernelspec": {
   "display_name": "Python 3",
   "language": "python",
   "name": "python3"
  },
  "language_info": {
   "codemirror_mode": {
    "name": "ipython",
    "version": 3
   },
   "file_extension": ".py",
   "mimetype": "text/x-python",
   "name": "python",
   "nbconvert_exporter": "python",
   "pygments_lexer": "ipython3",
   "version": "3.13.2"
  }
 },
 "nbformat": 4,
 "nbformat_minor": 2
}
