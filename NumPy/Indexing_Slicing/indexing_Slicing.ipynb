{
 "cells": [
  {
   "cell_type": "code",
   "execution_count": 1,
   "metadata": {},
   "outputs": [],
   "source": [
    "import numpy as np "
   ]
  },
  {
   "cell_type": "code",
   "execution_count": null,
   "metadata": {},
   "outputs": [
    {
     "name": "stdout",
     "output_type": "stream",
     "text": [
      "[20 50 30]\n"
     ]
    }
   ],
   "source": [
    "# Fancy Indexing\n",
    "# You can select multiple element at once in a list.\n",
    "# It only showing elements\n",
    "\n",
    "ar = np.array([10,20,30,40,50,60])\n",
    "\n",
    "print(ar[[1,4,2]]) # These are list indexing no"
   ]
  },
  {
   "cell_type": "code",
   "execution_count": 10,
   "metadata": {},
   "outputs": [
    {
     "name": "stdout",
     "output_type": "stream",
     "text": [
      "[array([False, False,  True,  True,  True,  True])]\n",
      "[False False  True  True  True  True]\n"
     ]
    }
   ],
   "source": [
    "# filtering or Boolean Masking\n",
    "# It only showing/get results with conditions\n",
    "\n",
    "ar = np.array([10,20,30,40,50,60])\n",
    "print([ar >= 30])\n",
    "print(ar >= 30)\n"
   ]
  },
  {
   "cell_type": "code",
   "execution_count": null,
   "metadata": {},
   "outputs": [
    {
     "name": "stdout",
     "output_type": "stream",
     "text": [
      "[[10 20 30]\n",
      " [40 50 60]]\n",
      "Data Type :  int64\n",
      "Dimensions :  2\n",
      "Shape of Array :  (2, 3)\n",
      "[10 20 30 40 50 60]\n",
      "[10 20 30 40 50 60]\n"
     ]
    }
   ],
   "source": [
    "# Reshaping\n",
    "# Ravel -converts multidimensional array to 1-D array -it view array\n",
    "# Flatten - converts multidimensional array to 1-D array -it copy array\n",
    "\n",
    "rf = np.array([[10,20,30],[40,50,60]])\n",
    "print(rf)\n",
    "print(\"Data Type : \",rf.dtype)\n",
    "print(\"Dimensions : \",rf.ndim)\n",
    "print(\"Shape of Array : \",rf.shape)\n",
    "\n",
    "print(rf.ravel()) # View array\n",
    "print(rf.flatten()) # Copy array"
   ]
  }
 ],
 "metadata": {
  "kernelspec": {
   "display_name": "Python 3",
   "language": "python",
   "name": "python3"
  },
  "language_info": {
   "codemirror_mode": {
    "name": "ipython",
    "version": 3
   },
   "file_extension": ".py",
   "mimetype": "text/x-python",
   "name": "python",
   "nbconvert_exporter": "python",
   "pygments_lexer": "ipython3",
   "version": "3.13.2"
  }
 },
 "nbformat": 4,
 "nbformat_minor": 2
}
