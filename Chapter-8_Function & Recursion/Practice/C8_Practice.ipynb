{
 "cells": [
  {
   "cell_type": "code",
   "execution_count": 5,
   "metadata": {},
   "outputs": [
    {
     "name": "stdout",
     "output_type": "stream",
     "text": [
      "Wellcome Mahy\n",
      "Wellcome Mahi\n",
      "Wellcome Omny\n"
     ]
    }
   ],
   "source": [
    "# Function\n",
    "def prac(name):\n",
    "    print(f\"Wellcome {name}\")\n",
    "prac(\"Mahy\")\n",
    "prac(\"Mahi\")\n",
    "prac(\"Omny\")"
   ]
  },
  {
   "cell_type": "code",
   "execution_count": null,
   "metadata": {},
   "outputs": [
    {
     "name": "stdout",
     "output_type": "stream",
     "text": [
      "Hello Mahy, Your Panda is so amazing\n",
      "Good Morning Mahy Panda\n",
      "Good MorningMahyPanda\n"
     ]
    }
   ],
   "source": [
    "def react(name, last):\n",
    "    print(F\"Hello {name}, Your {last} is so amazing\")\n",
    "    print(\"Good Morning\", name, last)  # Contain space\n",
    "    print(\"Good Morning\"+ name + last) # No space\n",
    "\n",
    "react(\"Mahy\", \"Panda\")"
   ]
  },
  {
   "cell_type": "code",
   "execution_count": 21,
   "metadata": {},
   "outputs": [
    {
     "name": "stdout",
     "output_type": "stream",
     "text": [
      "Enduna Koskadi Choda Mahy and Bgu\n",
      "Wow : Mahy Bgu\n"
     ]
    },
    {
     "data": {
      "text/plain": [
       "'OK'"
      ]
     },
     "execution_count": 21,
     "metadata": {},
     "output_type": "execute_result"
    }
   ],
   "source": [
    "def good(Name, end = 'Bgu'):\n",
    "    print(F\"Enduna Koskadi Choda {Name} and {end}\")\n",
    "    print(\"Wow :\", Name, end)\n",
    "    return \"OK\"\n",
    "\n",
    "good(\"Mahy\")"
   ]
  },
  {
   "cell_type": "code",
   "execution_count": 31,
   "metadata": {},
   "outputs": [
    {
     "name": "stdout",
     "output_type": "stream",
     "text": [
      "Factorial is : 5040\n"
     ]
    }
   ],
   "source": [
    "# Recursion\n",
    "def factorial(n):\n",
    "    if n == 1 | n == 1 :\n",
    "        return 1\n",
    "    return n * factorial(n-1)\n",
    "# factorial(5) \n",
    "\n",
    "# or\n",
    "\n",
    "n = int(input(\"Enter No: \"))\n",
    "print(F\"Factorial is : {factorial(n)}\")"
   ]
  },
  {
   "cell_type": "code",
   "execution_count": 46,
   "metadata": {},
   "outputs": [
    {
     "data": {
      "text/plain": [
       "99"
      ]
     },
     "execution_count": 46,
     "metadata": {},
     "output_type": "execute_result"
    }
   ],
   "source": [
    "# Greatest of 3 digits\n",
    "def greatest(n1,n2,n3):\n",
    "    if(n1 > n2 and n1 > n2):\n",
    "        return n1\n",
    "    elif(n2 > n1 and n2 > n3):\n",
    "        return n2\n",
    "    elif(n3 > n1 and n3 > n1):\n",
    "        return n3\n",
    "    else:\n",
    "        print(\"Nones\")\n",
    "greatest(n1=77,n2=99,n3=97)"
   ]
  },
  {
   "cell_type": "code",
   "execution_count": 51,
   "metadata": {},
   "outputs": [
    {
     "name": "stdout",
     "output_type": "stream",
     "text": [
      "The Temperature f to Celcius : 32.22 c\n"
     ]
    }
   ],
   "source": [
    "# Convert farehnite to celcius\n",
    "def f_c(temp):\n",
    "    return 5 * (temp - 32)/9\n",
    "temp = int(input(\"Enter Temperature :\"))\n",
    "print(f\"The Temperature f to Celcius : {round(f_c(temp),2)} c\")"
   ]
  },
  {
   "cell_type": "code",
   "execution_count": null,
   "metadata": {},
   "outputs": [
    {
     "name": "stdout",
     "output_type": "stream",
     "text": [
      "-1\n",
      "9\n",
      "\n",
      "81\n",
      "0"
     ]
    }
   ],
   "source": [
    "# Preventing print in new line\n",
    "def fuls(name):\n",
    "    # Different line\n",
    "    print(7-8)\n",
    "    print(9-0)\n",
    "    print()\n",
    "    # Same Line\n",
    "    print(90-9, end= \"\")\n",
    "    print(90-90, end= \"\")\n",
    "fuls(\"Mahi\")"
   ]
  },
  {
   "cell_type": "code",
   "execution_count": 73,
   "metadata": {},
   "outputs": [
    {
     "name": "stdout",
     "output_type": "stream",
     "text": [
      "Sum is 45\n"
     ]
    }
   ],
   "source": [
    "# Calculate sum of n nos in recursion\n",
    "def sum(n):\n",
    "    if n==1 :\n",
    "        return 1\n",
    "    return sum(n-1) + n\n",
    "\n",
    "print(f\"Sum is {sum(9)}\")"
   ]
  },
  {
   "cell_type": "code",
   "execution_count": 2,
   "metadata": {},
   "outputs": [
    {
     "name": "stdout",
     "output_type": "stream",
     "text": [
      "****\n",
      "3\n"
     ]
    }
   ],
   "source": [
    "# Print Pattern\n",
    "def pattern(n):\n",
    "    if n ==0 :\n",
    "        return 0\n",
    "    print(\"*\"*n)\n",
    "    print(n-1)\n",
    "pattern(4)"
   ]
  },
  {
   "cell_type": "code",
   "execution_count": 14,
   "metadata": {},
   "outputs": [
    {
     "name": "stdout",
     "output_type": "stream",
     "text": [
      "6.0 inch in cm is : 15.24 cm\n"
     ]
    }
   ],
   "source": [
    "# Inches to cm (inch * 2.54)\n",
    "def i_c(inch):\n",
    "    return inch * 2.54\n",
    "inch = float(input(\"Enter inches value : \"))\n",
    "print(F\"{inch} inch in cm is : {i_c(inch)} cm\")"
   ]
  },
  {
   "cell_type": "code",
   "execution_count": 32,
   "metadata": {},
   "outputs": [
    {
     "name": "stdout",
     "output_type": "stream",
     "text": [
      "9 * 0 = 0\n",
      "9 * 1 = 9\n",
      "9 * 2 = 18\n",
      "9 * 3 = 27\n",
      "9 * 4 = 36\n",
      "9 * 5 = 45\n",
      "9 * 6 = 54\n",
      "9 * 7 = 63\n",
      "9 * 8 = 72\n",
      "9 * 9 = 81\n",
      "9 * 10 = 90\n"
     ]
    }
   ],
   "source": [
    "# Multiplication Table\n",
    "def mul(n):\n",
    "    i = 1\n",
    "    for i in range(11):\n",
    "        print(F\"{n} * {i} = {n * i}\")\n",
    "\n",
    "mul(9)"
   ]
  },
  {
   "cell_type": "code",
   "execution_count": 33,
   "metadata": {},
   "outputs": [
    {
     "name": "stdout",
     "output_type": "stream",
     "text": [
      "9 * 10 = 90\n",
      "9 * 9 = 81\n",
      "9 * 8 = 72\n",
      "9 * 7 = 63\n",
      "9 * 6 = 54\n",
      "9 * 5 = 45\n",
      "9 * 4 = 36\n",
      "9 * 3 = 27\n",
      "9 * 2 = 18\n",
      "9 * 1 = 9\n",
      "9 * 0 = 0\n"
     ]
    }
   ],
   "source": [
    "def rev_mul(n):\n",
    "    i = 1\n",
    "    for i in range(11):\n",
    "        print(F\"{n} * {10-i} = {n * (10-i)}\")\n",
    "\n",
    "n0 = int(input(\"Enter No : \"))\n",
    "rev_mul(n0)"
   ]
  },
  {
   "cell_type": "code",
   "execution_count": null,
   "metadata": {},
   "outputs": [],
   "source": []
  }
 ],
 "metadata": {
  "kernelspec": {
   "display_name": "Python 3",
   "language": "python",
   "name": "python3"
  },
  "language_info": {
   "codemirror_mode": {
    "name": "ipython",
    "version": 3
   },
   "file_extension": ".py",
   "mimetype": "text/x-python",
   "name": "python",
   "nbconvert_exporter": "python",
   "pygments_lexer": "ipython3",
   "version": "3.13.2"
  }
 },
 "nbformat": 4,
 "nbformat_minor": 2
}
