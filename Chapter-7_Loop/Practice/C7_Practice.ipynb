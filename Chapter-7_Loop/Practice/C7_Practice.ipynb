{
 "cells": [
  {
   "cell_type": "code",
   "execution_count": 7,
   "metadata": {},
   "outputs": [
    {
     "name": "stdout",
     "output_type": "stream",
     "text": [
      "69\n",
      "69\n",
      "69\n",
      "69\n",
      "69\n",
      "69\n",
      "69\n",
      "69\n",
      "69\n"
     ]
    }
   ],
   "source": [
    "for i in range(100):\n",
    "    if(i == 9 ):\n",
    "        break\n",
    "        # continue\n",
    "    print(\"69\")"
   ]
  },
  {
   "cell_type": "code",
   "execution_count": 8,
   "metadata": {},
   "outputs": [
    {
     "name": "stdout",
     "output_type": "stream",
     "text": [
      "9 * 1 = 9\n",
      "9 * 2 = 18\n",
      "9 * 3 = 27\n",
      "9 * 4 = 36\n",
      "9 * 5 = 45\n",
      "9 * 6 = 54\n",
      "9 * 7 = 63\n",
      "9 * 8 = 72\n",
      "9 * 9 = 81\n",
      "9 * 10 = 90\n"
     ]
    }
   ],
   "source": [
    "# Multiplication Table\n",
    "\n",
    "n = int(input('Enter No.: '))\n",
    "for i in range(1,11):\n",
    "    print(f'{n} * {i} = {n*i}')"
   ]
  },
  {
   "cell_type": "code",
   "execution_count": 30,
   "metadata": {},
   "outputs": [
    {
     "name": "stdout",
     "output_type": "stream",
     "text": [
      "Hello Mahy, You are Welcome.\n",
      "The name Boo is not in list\n"
     ]
    }
   ],
   "source": [
    "# Greet persons whos name starts with 'S' in a list\n",
    "lst = ['Mahy', 'Sahy', 'Swadhin', 'Sakht', 'Bgu','Boo']\n",
    "\n",
    "for name in lst:\n",
    "    if name.startswith('M'):\n",
    "        print(f'Hello {name}, You are Welcome.')\n",
    "    else:\n",
    "        pass\n",
    "print(f'The name {name} is not in list')"
   ]
  },
  {
   "cell_type": "code",
   "execution_count": 34,
   "metadata": {},
   "outputs": [
    {
     "name": "stdout",
     "output_type": "stream",
     "text": [
      "79 * 1 = 79\n",
      "79 * 2 = 158\n",
      "79 * 3 = 237\n",
      "79 * 4 = 316\n",
      "79 * 5 = 395\n",
      "79 * 6 = 474\n",
      "79 * 7 = 553\n",
      "79 * 8 = 632\n",
      "79 * 9 = 711\n",
      "79 * 10 = 790\n"
     ]
    }
   ],
   "source": [
    "# Multiplication Table with While Loop\n",
    "\n",
    "n = int(input(\"Enter No :\"))\n",
    "i=1\n",
    "\n",
    "while(i < 11):\n",
    "    print(f'{n} * {i} = {n*i}')\n",
    "    i +=1"
   ]
  },
  {
   "cell_type": "code",
   "execution_count": 60,
   "metadata": {},
   "outputs": [
    {
     "name": "stdout",
     "output_type": "stream",
     "text": [
      "17 is Prime no\n"
     ]
    }
   ],
   "source": [
    "# Prime no\n",
    "n = int(input(\"Enter a No.: \"))\n",
    "\n",
    "if n<2 :\n",
    "    print(f'{n} is not prime no')\n",
    "elif n % 2 == 0 or n % 3 == 0 or n % 5 == 0 | n % 7 == 0:\n",
    "    print(f\"{n} is not Prime No\")\n",
    "elif n == 2:\n",
    "    print(f\"{n} is Prime No.\")\n",
    "else:\n",
    "    print(f'{n} is Prime no')\n"
   ]
  },
  {
   "cell_type": "code",
   "execution_count": 71,
   "metadata": {},
   "outputs": [
    {
     "name": "stdout",
     "output_type": "stream",
     "text": [
      "No is :  0\n",
      "No is :  1\n",
      "No is :  3\n",
      "No is :  6\n",
      "No is :  10\n",
      "Sum :  10\n"
     ]
    }
   ],
   "source": [
    "#  Find sum of n natural nos\n",
    "\n",
    "n = int(input(\"Enter No : \"))\n",
    "\n",
    "i = 0\n",
    "sum = 0\n",
    "while( i <= n):\n",
    "    sum += i\n",
    "    i+=1\n",
    "    print(\"No is : \",sum) \n",
    "print(\"Sum : \",sum) "
   ]
  },
  {
   "cell_type": "code",
   "execution_count": 74,
   "metadata": {},
   "outputs": [
    {
     "name": "stdout",
     "output_type": "stream",
     "text": [
      "Factorial of 4 is 24\n"
     ]
    }
   ],
   "source": [
    "# Factorial\n",
    "n = int(input(\"Enter a No : \"))\n",
    "\n",
    "p = 1\n",
    "\n",
    "for i in range(1, n+1):\n",
    "    p *= i\n",
    "print(f'Factorial of {n} is {p}')"
   ]
  },
  {
   "cell_type": "code",
   "execution_count": 79,
   "metadata": {},
   "outputs": [
    {
     "name": "stdout",
     "output_type": "stream",
     "text": [
      "   *  \n",
      "  ***  \n",
      " *****  \n"
     ]
    }
   ],
   "source": [
    "'''\n",
    "  *\n",
    " ***\n",
    "*****\n",
    "'''\n",
    "n = int(input(\"Enter a No: \"))\n",
    "\n",
    "for i in range(1, n+1):\n",
    "    print(' '*(n-i), end=' ')\n",
    "    print('*'*(2*i-1), end=\" \")\n",
    "    print(' ')"
   ]
  },
  {
   "cell_type": "code",
   "execution_count": 81,
   "metadata": {},
   "outputs": [
    {
     "name": "stdout",
     "output_type": "stream",
     "text": [
      "* \n",
      "** \n",
      "*** \n"
     ]
    }
   ],
   "source": [
    "n = int(input(\"Enter No :\"))\n",
    "\n",
    "for i in range(1, n+1):\n",
    "    print('*'*i, end=' ')\n",
    "    print('')"
   ]
  },
  {
   "cell_type": "code",
   "execution_count": null,
   "metadata": {},
   "outputs": [
    {
     "name": "stdout",
     "output_type": "stream",
     "text": [
      "**** \n",
      "*  .* \n",
      "*  .* \n",
      "**** \n"
     ]
    }
   ],
   "source": [
    "\"\"\"\n",
    "Print This type pattern\n",
    "\n",
    "***\n",
    "* *\n",
    "***\n",
    "\n",
    "\"\"\"\n",
    "n = int (input('Enter a Num : '))\n",
    "\n",
    "for i in range(1, n+1):\n",
    "    if(i == 1 or i == n):\n",
    "        print(\"*\"* n, end = \"\")\n",
    "    else:\n",
    "        print(\"*\" , end = \"\")\n",
    "        print(\" \"* (n-2), end = \"\")\n",
    "        print(\"*\" ,end = \"\")\n",
    "    print(\" \") "
   ]
  },
  {
   "cell_type": "code",
   "execution_count": null,
   "metadata": {},
   "outputs": [
    {
     "name": "stdout",
     "output_type": "stream",
     "text": [
      "  *  * \n",
      " * *** \n",
      "****** \n"
     ]
    }
   ],
   "source": [
    "\"\"\"\n",
    "Print This type pattern\n",
    "\n",
    "  *\n",
    " * *\n",
    "*****\n",
    "\"\"\"\n",
    "n = int(input(\"Enter a Num : \"))\n",
    "\n",
    "for i in range(1, n+1):\n",
    "    print(\" \" * (n-i), end = \"\")\n",
    "    print(\"*\" , end=\"\")\n",
    "    print(\" \" * (n-i), end=\"\")\n",
    "    print(\"*\"* (2*i-1), end=\"\")\n",
    "    print(\" \")"
   ]
  },
  {
   "cell_type": "code",
   "execution_count": 83,
   "metadata": {},
   "outputs": [
    {
     "name": "stdout",
     "output_type": "stream",
     "text": [
      "*\n",
      "   \n",
      "**\n",
      " \n",
      "\n"
     ]
    }
   ],
   "source": [
    "''' Print this pattern\n",
    "\n",
    "*    *\n",
    "**  **\n",
    "******\n",
    "'''\n",
    "\n",
    "n = int(input(\"Enter the number of rows: \"))\n",
    "for i in range (1, n+1):\n",
    "    print('*' * i)\n",
    "    print(' ', (n-i) * ' ', ' ' * (n-i), sep = '')\n",
    "print(\"\")\n"
   ]
  },
  {
   "cell_type": "code",
   "execution_count": 3,
   "metadata": {},
   "outputs": [
    {
     "name": "stdout",
     "output_type": "stream",
     "text": [
      "*      *\n",
      "**    **\n",
      "***  ***\n",
      "********\n"
     ]
    }
   ],
   "source": [
    "rows = int(input('Enter the number of rows: '))\n",
    "for i in range(1, rows + 1):\n",
    "    stars = '*' * i\n",
    "    spaces = ' ' * (rows - i)\n",
    "    print(stars + spaces + spaces + stars)"
   ]
  }
 ],
 "metadata": {
  "kernelspec": {
   "display_name": "Python 3",
   "language": "python",
   "name": "python3"
  },
  "language_info": {
   "codemirror_mode": {
    "name": "ipython",
    "version": 3
   },
   "file_extension": ".py",
   "mimetype": "text/x-python",
   "name": "python",
   "nbconvert_exporter": "python",
   "pygments_lexer": "ipython3",
   "version": "3.13.2"
  }
 },
 "nbformat": 4,
 "nbformat_minor": 2
}
