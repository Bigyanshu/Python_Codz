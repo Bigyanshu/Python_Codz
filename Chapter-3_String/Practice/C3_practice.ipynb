{
 "cells": [
  {
   "cell_type": "code",
   "execution_count": 3,
   "metadata": {},
   "outputs": [
    {
     "name": "stdout",
     "output_type": "stream",
     "text": [
      "Reverse String is :  ugB yhaM\n"
     ]
    }
   ],
   "source": [
    "# How do you reverse a string\n",
    "\n",
    "def reverse_string(s):\n",
    "    return s[::-1]\n",
    "print(\"Reverse String is : \", reverse_string(\"Mahy Bgu\"))"
   ]
  },
  {
   "cell_type": "code",
   "execution_count": 4,
   "metadata": {},
   "outputs": [
    {
     "name": "stdout",
     "output_type": "stream",
     "text": [
      "ugB yhaM\n"
     ]
    }
   ],
   "source": [
    "print(\"\".join(reversed(\"Mahy Bgu\")))"
   ]
  },
  {
   "cell_type": "code",
   "execution_count": null,
   "metadata": {},
   "outputs": [
    {
     "name": "stdout",
     "output_type": "stream",
     "text": [
      "ugB yhaM\n"
     ]
    }
   ],
   "source": [
    "def reverse_String(s):\n",
    "    return s[::-1]\n",
    "\n",
    "original_string = \"Mahy Bgu\"\n",
    "reversed_string = reverse_string(original_string)\n",
    "print(reversed_string) # Output: ugB yhaM"
   ]
  },
  {
   "cell_type": "code",
   "execution_count": null,
   "metadata": {},
   "outputs": [
    {
     "name": "stdout",
     "output_type": "stream",
     "text": [
      "!dlroW ,olleH\n"
     ]
    }
   ],
   "source": [
    "def reverse_string(s):\n",
    "    return s[::-1]\n",
    "\n",
    "# Example usage\n",
    "original_string = \"Hello, World!\"\n",
    "reversed_string = reverse_string(original_string)\n",
    "print(reversed_string)  "
   ]
  },
  {
   "cell_type": "code",
   "execution_count": null,
   "metadata": {},
   "outputs": [
    {
     "name": "stdout",
     "output_type": "stream",
     "text": [
      "4\n",
      "mahybgu\n",
      "False\n",
      "Mahy  bgu\n",
      "Mahy  Bgu\n",
      "MAHY  BGU\n",
      "['mahy', 'bgu']\n",
      "['mahy', '', 'bgu']\n",
      "['mahy  bgu']\n",
      "MahyMahi Bgu\n",
      "Pmahy  bguamahy  bgurmahy  bguymahy  bgu mahy  bgu\n",
      "\n",
      "2\n",
      "Hellwo Omny\n",
      "Hey Mama Adi Shakti \n",
      "Hey\n",
      " \tMama Mama\n",
      " but we dont know\t Omnipotent\n",
      "Hey\n",
      "                    Mama Mama\n",
      " but we dont know    Omnipotent\n",
      "6\n"
     ]
    }
   ],
   "source": [
    "a = 'mahy  bgu'\n",
    "b = \" MahyMahi Bgu\"\n",
    "\n",
    "print(a.find(\"  \"))\n",
    "print(a.replace(\"  \", \"\"))\n",
    "print(a.isnumeric()) # False\n",
    "print(a.capitalize()) # Mahy bgu\n",
    "print(a.title()) # Mahy Bgu\n",
    "print(a.upper()) # MAHY BGU\n",
    "print(a.split()) # ['mahy', 'bgu']\n",
    "print(a.split(\" \")) # ['mahy', '', 'bgu']\n",
    "print(a.splitlines()) # ['mahy  bgu']\n",
    "print(b.strip()) # MahyMahi Bgu # it eleminates space from BOF & EOF\n",
    "print(a.join(\"Pary \\n\")) # Pmahy  bgua mahy  bgur mahy  bgua mahy  bguy mahy  bgu \n",
    "print(b.count(\"h\")) # 2\n",
    "print(\"Hellwo {}\".format('Omny')) # MahyMahi Bgu\n",
    "print('Hey Mama {} '.format(\"Adi Shakti\")) # Hey Mama Adi Shakti\n",
    "z = 'Hey\\n \\tMama Mama\\n but we dont know\\t Omnipotent' \n",
    "print(z) # Hey Mama Mama\n",
    "print(z.expandtabs(20)) # It will expand the tab to 20 spaces\n",
    "print(z.index(\"Mama\")) # 6"
   ]
  },
  {
   "cell_type": "code",
   "execution_count": 71,
   "metadata": {},
   "outputs": [
    {
     "name": "stdout",
     "output_type": "stream",
     "text": [
      "mahy  bgu\n"
     ]
    }
   ],
   "source": [
    "print(a) # Due to string is immutable"
   ]
  },
  {
   "cell_type": "code",
   "execution_count": 75,
   "metadata": {},
   "outputs": [
    {
     "name": "stdout",
     "output_type": "stream",
     "text": [
      "True\n",
      "False\n",
      "True\n",
      "SY :  True\n",
      "Is Mahadev name is Pallindrome ... ? :  False\n"
     ]
    }
   ],
   "source": [
    "# Using function check string is palindrome ?\n",
    "\n",
    "# 1st way\n",
    "def is_palindrome(st):\n",
    "    return st == st[::-1]\n",
    "\n",
    "print(is_palindrome(\"MadaM\")) # True\n",
    "print(is_palindrome(\"Madam\")) # False\n",
    "print(is_palindrome(\"MADAM\")) # True\n",
    "\n",
    "# 2nd way\n",
    "sy = \"MAM\"\n",
    "print(\"SY : \",sy == sy[::-1])\n",
    "\n",
    "#  3rd Way taking input\n",
    "name = input(\"Enter the name : \")\n",
    "def is_pallindrome(nmae):\n",
    "    return name == name[::-1]\n",
    "print(f'Is {name} name is Pallindrome ... ? : ',is_pallindrome(name))"
   ]
  },
  {
   "cell_type": "code",
   "execution_count": 66,
   "metadata": {},
   "outputs": [
    {
     "name": "stdout",
     "output_type": "stream",
     "text": [
      "3\n"
     ]
    }
   ],
   "source": [
    "# How do you count the occurrences of a character in a string?\n",
    "def count_char(strs, char):\n",
    "    return strs.count(char)\n",
    "# Here strs = \"Kiwi Haldi\" and char = \"i\"\n",
    "print(count_char(\"Kiwi Haldi\", \"i\")) # 3"
   ]
  },
  {
   "cell_type": "code",
   "execution_count": null,
   "metadata": {},
   "outputs": [
    {
     "name": "stdout",
     "output_type": "stream",
     "text": [
      "Kedarnath\n"
     ]
    }
   ],
   "source": [
    "#  How do you remove spaces from a string?\n",
    "def remove_spaces(space):\n",
    "    return space.replace(\" \", \"\")\n",
    "\n",
    "print(remove_spaces(\"Kedar nath\"))"
   ]
  },
  {
   "cell_type": "code",
   "execution_count": 76,
   "metadata": {},
   "outputs": [
    {
     "name": "stdout",
     "output_type": "stream",
     "text": [
      "After Removing Spacec :  Badrinath\n"
     ]
    }
   ],
   "source": [
    "def remove_space(k):\n",
    "    return \"\".join(k.split())\n",
    "print(\"After Removing Spacec : \", remove_space(\"Badri nath\"))"
   ]
  },
  {
   "cell_type": "code",
   "execution_count": null,
   "metadata": {},
   "outputs": [
    {
     "name": "stdout",
     "output_type": "stream",
     "text": [
      "True\n",
      "False\n",
      "True\n"
     ]
    }
   ],
   "source": [
    "'''How do you check if two strings are anagrams?\n",
    "(Anagrams are words that contain the same characters in different orders.)'''\n",
    "\n",
    "def is_anagram(s1,s2):\n",
    "    return sorted(s1) == sorted(s2)\n",
    "\n",
    "print(is_anagram(\"listen\", \"silent\")) # True\n",
    "print(is_anagram(\"Mallow\", \"marsoe\")) # False\n",
    "print(is_anagram(\"Ant\", \"tAn\")) # True"
   ]
  },
  {
   "cell_type": "code",
   "execution_count": 87,
   "metadata": {},
   "outputs": [
    {
     "name": "stdout",
     "output_type": "stream",
     "text": [
      "Starting Letter :  Mahy mahi\n"
     ]
    }
   ],
   "source": [
    "# How do you capitalize the first letter of word in a string?\n",
    "\n",
    "def capitalize_string(s):\n",
    "    return s.capitalize()\n",
    "print(\"Starting Letter : \", capitalize_string(\"mahy mahi\"))"
   ]
  },
  {
   "cell_type": "code",
   "execution_count": 86,
   "metadata": {},
   "outputs": [
    {
     "name": "stdout",
     "output_type": "stream",
     "text": [
      "Each Words Capitalize : Mahy Mahi\n"
     ]
    }
   ],
   "source": [
    "# How do you capitalize the first letter of each word in a string?\n",
    "\n",
    "def each_word_capitalize(d):\n",
    "    return d.title()\n",
    "print(\"Each Words Capitalize :\", each_word_capitalize(\"mahy mahi\"))"
   ]
  },
  {
   "cell_type": "code",
   "execution_count": null,
   "metadata": {},
   "outputs": [
    {
     "name": "stdout",
     "output_type": "stream",
     "text": [
      "H\n"
     ]
    }
   ],
   "source": [
    "# How do you find the first non-repeating character in a string?\n",
    "\n",
    "from collections import Counter\n",
    "def non_repeat(s):\n",
    "    count = Counter(s)\n",
    "    for char in s:\n",
    "        if count[char] ==1:\n",
    "            return char\n",
    "    return None\n",
    "print(non_repeat(\"Hanuman\")) # H"
   ]
  },
  {
   "cell_type": "code",
   "execution_count": null,
   "metadata": {},
   "outputs": [
    {
     "name": "stdout",
     "output_type": "stream",
     "text": [
      "d\n",
      "None\n"
     ]
    }
   ],
   "source": [
    "# How do you find the first non-repeating character in a string?\n",
    "from collections import Counter\n",
    "def non_repeat(c):\n",
    "    count =Counter(c)\n",
    "    for char in c:\n",
    "        if count[char] == 1:\n",
    "            return char\n",
    "    return None\n",
    "print(non_repeat('MadaM')) # d\n",
    "print(non_repeat('MadaMd')) # None"
   ]
  },
  {
   "cell_type": "code",
   "execution_count": null,
   "metadata": {},
   "outputs": [
    {
     "name": "stdout",
     "output_type": "stream",
     "text": [
      "True\n",
      "False\n"
     ]
    }
   ],
   "source": [
    "#  How do you check if a string contains only digits?\n",
    "def is_digit(d):\n",
    "    return d.isdigit()\n",
    "print(is_digit('1234'))\n",
    "print(is_digit(\"Mahy\"))"
   ]
  },
  {
   "cell_type": "code",
   "execution_count": 10,
   "metadata": {},
   "outputs": [
    {
     "name": "stdout",
     "output_type": "stream",
     "text": [
      "M*hy M*h*\n"
     ]
    }
   ],
   "source": [
    "# How do you replace vowels in a string with *?\n",
    "\n",
    "def viowels(v):\n",
    "    viowel = 'aeiouAEIOU'\n",
    "    for i in viowel:\n",
    "        v = v.replace(i, \"*\")\n",
    "    return v\n",
    "print(viowels(\"Mahy Mahi\"))"
   ]
  },
  {
   "cell_type": "code",
   "execution_count": 14,
   "metadata": {},
   "outputs": [
    {
     "name": "stdout",
     "output_type": "stream",
     "text": [
      "M*h*b*l* H*n*m*n\n"
     ]
    }
   ],
   "source": [
    "def vowels(s):\n",
    "    vowel = 'aeiouAEIOU'\n",
    "    return \"\".join(\"*\" if char in vowel else char for char in s)\n",
    "print(vowels(\"Mahabali Hanuman\"))\n"
   ]
  },
  {
   "cell_type": "code",
   "execution_count": 1,
   "metadata": {},
   "outputs": [
    {
     "name": "stdout",
     "output_type": "stream",
     "text": [
      "M*hy Bg*\n"
     ]
    }
   ],
   "source": [
    "def vowels(b):\n",
    "    vowel = \"aeiouAEIOU\"\n",
    "    for char in vowel:\n",
    "        b = b.replace(char, \"*\")\n",
    "    return b\n",
    "print(vowels(\"Mahy Bgu\"))"
   ]
  },
  {
   "cell_type": "code",
   "execution_count": null,
   "metadata": {},
   "outputs": [
    {
     "name": "stdout",
     "output_type": "stream",
     "text": [
      "Counter({' ': 2, 'M': 1, 'a': 1, 'h': 1, 'y': 1, 'B': 1, 'g': 1, 'u': 1})\n"
     ]
    }
   ],
   "source": [
    "# How do you count the frequency of words in a sentence?\n",
    "\n",
    "from collections import Counter\n",
    "def frequency(f):\n",
    "    return Counter(f) # it counts each character in a sentence\n",
    "print(frequency(\"Mahy Bgu \"))"
   ]
  },
  {
   "cell_type": "code",
   "execution_count": null,
   "metadata": {},
   "outputs": [
    {
     "name": "stdout",
     "output_type": "stream",
     "text": [
      "['Hacker', 'Rank', 'Leet', 'Code']\n"
     ]
    }
   ],
   "source": [
    "def frequency_w(f):\n",
    "    count = f.split() # it counts each words in a sentence\n",
    "    return count\n",
    "print(frequency_w(\"Hacker Rank Leet Code\"))"
   ]
  },
  {
   "cell_type": "code",
   "execution_count": 14,
   "metadata": {},
   "outputs": [
    {
     "name": "stdout",
     "output_type": "stream",
     "text": [
      "False\n",
      "True\n",
      "True\n",
      "False\n"
     ]
    }
   ],
   "source": [
    "# How do you check if a string contains only unique characters?\n",
    "def unique(c):\n",
    "    return len(c) == len(set(c))\n",
    "print(unique(\"Maa Parvati Mahadev\")) # False\n",
    "print(unique(\"Mahy Bgu\")) # True\n",
    "print(unique(\"Love Har\")) #  True\n",
    "print(unique(\"Love Har \")) # False due to double space"
   ]
  },
  {
   "cell_type": "code",
   "execution_count": null,
   "metadata": {},
   "outputs": [
    {
     "name": "stdout",
     "output_type": "stream",
     "text": [
      "MahyGT\n",
      "Mahadev\n"
     ]
    }
   ],
   "source": [
    "#  How do you find the longest word in a sentence?\n",
    "def longest(w):\n",
    "    words = w.split()\n",
    "    return max(words, key = len)\n",
    "\n",
    "print(longest(\"MahyGT BguGT\"))\n",
    "print(longest(\"Mahy Bgu Omny Mahadev\"))"
   ]
  },
  {
   "cell_type": "code",
   "execution_count": 34,
   "metadata": {},
   "outputs": [
    {
     "name": "stdout",
     "output_type": "stream",
     "text": [
      "You \n",
      "with \n",
      "Mahadev \n",
      "Mahy,\n"
     ]
    }
   ],
   "source": [
    "# How do you reverse words in a sentence?\n",
    "def reverse(l):\n",
    "    return \" \\n\".join(l.split()[ : :-1])\n",
    "print(reverse(\"Mahy, Mahadev with You\"))"
   ]
  },
  {
   "cell_type": "code",
   "execution_count": 41,
   "metadata": {},
   "outputs": [
    {
     "name": "stdout",
     "output_type": "stream",
     "text": [
      "True\n",
      "True\n"
     ]
    }
   ],
   "source": [
    "# How do you check if a string is a valid email?\n",
    "import re\n",
    "\n",
    "def valid_mail(mail):\n",
    "    pattern = r\"^[a-zA-Z0-9_.+-]+@[a-zA-Z0-9-]+\\.[a-zA-Z0-9-.]+$\"\n",
    "    return bool(re.match(pattern, mail))\n",
    "\n",
    "print(valid_mail(\"bgu@97work.com\"))\n",
    "print(valid_mail(\"bgu97work@gmail.com\"))"
   ]
  }
 ],
 "metadata": {
  "kernelspec": {
   "display_name": "Python 3",
   "language": "python",
   "name": "python3"
  },
  "language_info": {
   "codemirror_mode": {
    "name": "ipython",
    "version": 3
   },
   "file_extension": ".py",
   "mimetype": "text/x-python",
   "name": "python",
   "nbconvert_exporter": "python",
   "pygments_lexer": "ipython3",
   "version": "3.13.2"
  }
 },
 "nbformat": 4,
 "nbformat_minor": 2
}
