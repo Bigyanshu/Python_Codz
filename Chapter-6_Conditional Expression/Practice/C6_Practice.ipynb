{
 "cells": [
  {
   "cell_type": "code",
   "execution_count": null,
   "metadata": {},
   "outputs": [
    {
     "ename": "SyntaxError",
     "evalue": "'return' outside function (1311827299.py, line 7)",
     "output_type": "error",
     "traceback": [
      "\u001b[1;36m  Cell \u001b[1;32mIn[1], line 7\u001b[1;36m\u001b[0m\n\u001b[1;33m    return \"Eligible\"\u001b[0m\n\u001b[1;37m    ^\u001b[0m\n\u001b[1;31mSyntaxError\u001b[0m\u001b[1;31m:\u001b[0m 'return' outside function\n"
     ]
    }
   ],
   "source": [
    "# Enter a frind name & age is that elisible for vote or not\n",
    "\n",
    "name = input(\"Enter your name: \")\n",
    "age = int(input(\"Enter Age : \"))\n",
    "\n",
    "if(age > 18):\n",
    "    return \"Eligible\"\n",
    "elif(age == 18):\n",
    "    return \"Exact 18\"\n",
    "else:\n",
    "    return \"Minor\"\n",
    "# SyntaxError : 'return' outside function"
   ]
  },
  {
   "cell_type": "code",
   "execution_count": 4,
   "metadata": {},
   "outputs": [
    {
     "name": "stdout",
     "output_type": "stream",
     "text": [
      "Excat 18\n"
     ]
    }
   ],
   "source": [
    "name = input(\"Enter your name: \")\n",
    "age = int(input(\"Enter Age : \"))\n",
    "\n",
    "if age > 18 :\n",
    "    print(\"Eligible\")\n",
    "elif age == 18:\n",
    "    print(\"Excat 18\")\n",
    "else :\n",
    "    print(\"Minor\")"
   ]
  },
  {
   "cell_type": "code",
   "execution_count": 8,
   "metadata": {},
   "outputs": [
    {
     "name": "stdout",
     "output_type": "stream",
     "text": [
      "3rd no is 99 is greatest among three\n"
     ]
    }
   ],
   "source": [
    "# Find greatest number among three numbers\n",
    "\n",
    "n1 = int(input('Enter 1st No. : '))\n",
    "n2 = int(input('Enter 1st No. : '))\n",
    "n3 = int(input('Enter 1st No. : '))\n",
    "\n",
    "if(n1 > n2 & n1 > n3):\n",
    "    print(f\"1st no is {n1} is greatest among three\")\n",
    "elif(n2 > n1 & n2 > n3):\n",
    "    print(f\"2nd no is {n2} is greatest among three\")\n",
    "elif(n3 > n1 & n3 > n2):\n",
    "    print(f\"3rd no is {n3} is greatest among three\")\n",
    "else:\n",
    "    print(\"No one is Greatest\")"
   ]
  },
  {
   "cell_type": "code",
   "execution_count": 13,
   "metadata": {},
   "outputs": [
    {
     "name": "stdout",
     "output_type": "stream",
     "text": [
      "Fail due to 44.0\n"
     ]
    }
   ],
   "source": [
    "# Findout pass or fail weather total require 40 % & 33% require in each subject.\n",
    "\n",
    "m1 = int(input(\"Enter Subject 1 Marks : \"))\n",
    "m2 = int(input(\"Enter Subject 2 Marks : \"))\n",
    "m3 = int(input(\"Enter Subject 3 Marks : \"))\n",
    "\n",
    "tot = (100*(m1 + m2 + m3))/300\n",
    "\n",
    "if(tot >= 40 & m1 >= 33 & m2 >= 33 & m3 >= 33):\n",
    "    print(f\"Student is getting {tot} Marks \")\n",
    "else:\n",
    "    print(f\"Fail due to {tot}\")"
   ]
  },
  {
   "cell_type": "code",
   "execution_count": 15,
   "metadata": {},
   "outputs": [
    {
     "name": "stdout",
     "output_type": "stream",
     "text": [
      "It is a Hacker !, Keep away don't touch any Links\n"
     ]
    }
   ],
   "source": [
    "# Findout spam message or not \n",
    "\n",
    "p1 = 'Make a lot of money'\n",
    "p2 = 'Buy Now'\n",
    "p3 = 'Subscribe this'\n",
    "p4 = 'Click this'\n",
    "\n",
    "msg = input(\"Enter Your Message : \")\n",
    "\n",
    "if((p1 in msg) | (p2 in msg) | (p3 in msg) | (p4 in msg)):\n",
    "    print(\"It is a Hacker !, Keep away don't touch any Links\")\n",
    "else:\n",
    "    print(\"Welcome, it is safe.\")"
   ]
  },
  {
   "cell_type": "code",
   "execution_count": null,
   "metadata": {},
   "outputs": [
    {
     "name": "stdout",
     "output_type": "stream",
     "text": [
      "User Name is Bigyanshu Pragyan, is More than 10 character\n"
     ]
    }
   ],
   "source": [
    "# Username is contain 10 character or not\n",
    "\n",
    "uname = input(\"Enter User Name : \")\n",
    "\n",
    "if(len(uname) < 10):\n",
    "    print(f\"User name is {uname}, lessthan 10 character\")\n",
    "else:\n",
    "    print(f\"User Name is {uname}, is More than 10 character\")"
   ]
  },
  {
   "cell_type": "code",
   "execution_count": 30,
   "metadata": {},
   "outputs": [
    {
     "name": "stdout",
     "output_type": "stream",
     "text": [
      "No, Mahu is not present in lst\n"
     ]
    }
   ],
   "source": [
    "#  Given name present in List or not\n",
    "\n",
    "lst = ['Mahy', 'Mahi', 'Bgu', 'Omny']\n",
    "\n",
    "name = input(\"Enter Name: \")\n",
    "\n",
    "if name in lst:\n",
    "    print(f\"Yes, {name} present in lst\")\n",
    "else:\n",
    "    print(f\"No, {name} is not present in lst\")"
   ]
  },
  {
   "cell_type": "code",
   "execution_count": 47,
   "metadata": {},
   "outputs": [
    {
     "name": "stdout",
     "output_type": "stream",
     "text": [
      "This post is not discussing Mahy.\n"
     ]
    }
   ],
   "source": [
    "post = input(\"Enter Name :\")\n",
    "\n",
    "# if(\"Mahy\" in post.lower()):\n",
    "if(\"Mahy\" in post):\n",
    "    print(\"This post is about Mahy.\")\n",
    "else:\n",
    "    print(\"This post is not discussing Mahy.\")"
   ]
  }
 ],
 "metadata": {
  "kernelspec": {
   "display_name": "Python 3",
   "language": "python",
   "name": "python3"
  },
  "language_info": {
   "codemirror_mode": {
    "name": "ipython",
    "version": 3
   },
   "file_extension": ".py",
   "mimetype": "text/x-python",
   "name": "python",
   "nbconvert_exporter": "python",
   "pygments_lexer": "ipython3",
   "version": "3.13.2"
  }
 },
 "nbformat": 4,
 "nbformat_minor": 2
}
