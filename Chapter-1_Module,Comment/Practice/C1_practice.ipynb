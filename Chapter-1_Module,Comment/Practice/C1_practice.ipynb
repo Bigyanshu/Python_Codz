{
 "cells": [
  {
   "cell_type": "code",
   "execution_count": 1,
   "id": "47742010",
   "metadata": {},
   "outputs": [
    {
     "name": "stdout",
     "output_type": "stream",
     "text": [
      "Hello Kandhei\n"
     ]
    }
   ],
   "source": [
    "print(\"Hello Kandhei\")"
   ]
  },
  {
   "cell_type": "code",
   "execution_count": 13,
   "id": "f650125d",
   "metadata": {},
   "outputs": [
    {
     "name": "stdout",
     "output_type": "stream",
     "text": [
      "Incorrect & False\n"
     ]
    }
   ],
   "source": [
    "v = 4\n",
    "# print(f'V 1st : {v}')\n",
    "p = 9\n",
    "\n",
    "k = 0\n",
    "l = 90\n",
    "# print(p)\n",
    "v = p # Assign p value store in v\n",
    "# print(f'V 2nd : {v}')\n",
    "\n",
    "# if v == p and p == v :\n",
    "if v != p and p == v :\n",
    "    # pass\n",
    "    print(\"Correct & True\")\n",
    "\n",
    "elif(k != l & k == l):\n",
    "    print(\"Error\")\n",
    "\n",
    "else:\n",
    "    print(\"Incorrect & False\")\n"
   ]
  },
  {
   "cell_type": "code",
   "execution_count": 37,
   "id": "f0ab63ae",
   "metadata": {},
   "outputs": [
    {
     "name": "stdout",
     "output_type": "stream",
     "text": [
      "Minor for Voting\n"
     ]
    }
   ],
   "source": [
    "var = int(input(\"Enter Your Age :\")) # input method/function by default store string values always\n",
    "\n",
    "# String convert into integer\n",
    "if (var >= 18):\n",
    "    print(\"Eligible for vote\")\n",
    "    # pass\n",
    "elif var <= 18 :\n",
    "    print(\"Minor for Voting\")\n",
    "elif var == 0:\n",
    "    print(\"Not Eligible for vote\")\n",
    "elif var <= 0:\n",
    "    print('Minus age ')\n",
    "else:\n",
    "    print(\"Invalid Input for vote\")"
   ]
  },
  {
   "cell_type": "code",
   "execution_count": null,
   "id": "58e18d88",
   "metadata": {},
   "outputs": [],
   "source": []
  },
  {
   "cell_type": "code",
   "execution_count": 36,
   "id": "1687106e",
   "metadata": {},
   "outputs": [
    {
     "name": "stdout",
     "output_type": "stream",
     "text": [
      "abli\n",
      "kan\n",
      "Ggl u\n",
      "Gu \n",
      "Glui\n"
     ]
    }
   ],
   "source": [
    "# Forward Slicing\n",
    "\n",
    "a =\"kandhei\"\n",
    "# a = '0123456'\n",
    "b='Guguli Muguli'\n",
    "c='Babli' \n",
    "# c = '01234'\n",
    "\n",
    "# x [start : end(end-1) : jump]\n",
    "\n",
    "o = c[1: ]\n",
    "print(o)\n",
    "\n",
    "print(a[0:3]) # kan\n",
    "\n",
    "print(b[0:9:2])\n",
    "print(b[ :9:3])\n",
    "print(b[0: :4])\n",
    "\n"
   ]
  },
  {
   "cell_type": "code",
   "execution_count": null,
   "id": "ba5ceb11",
   "metadata": {},
   "outputs": [
    {
     "name": "stdout",
     "output_type": "stream",
     "text": [
      "G\n",
      "G\n",
      "iulG\n",
      "i G\n",
      "ii\n",
      "il\n",
      "iu\n",
      "ig\n",
      "iu\n",
      "i\n"
     ]
    }
   ],
   "source": [
    "# Reverse Slicing\n",
    "\n",
    "b='Guguli Muguli'\n",
    "# b = '0,-11,-10,-9,-8,-7,-6,-5,-4,-3,-2,-1'\n",
    "\n",
    "# print(b[ : :-1])\n",
    "# print(b[ : :1])\n",
    "\n",
    "# print(b[ : :-2])\n",
    "# print(b[ : 6 :-1])\n",
    "print(b[ 0 :  :-1])\n",
    "print(b[ 0 :  :-2])\n",
    "print(b[ -1 :  :-4])\n",
    "print(b[ -1 :  :-6])\n",
    "print(b[ -1 :  :-7])\n",
    "print(b[ -1 :  :-8])\n",
    "print(b[ -1 :  :-9])\n",
    "print(b[ -1 :  :-10])\n",
    "print(b[ -1 :  :-11])\n",
    "print(b[ -1 :  :-14])"
   ]
  },
  {
   "cell_type": "code",
   "execution_count": null,
   "id": "493105a4",
   "metadata": {},
   "outputs": [],
   "source": [
    "# endswith()\n",
    "print(a.endswith('ee'))\n",
    "print(b.endswith('mi'))\n",
    "print(c.endswith('mi'))\n",
    "print(c.endswith('MI'))"
   ]
  },
  {
   "cell_type": "code",
   "execution_count": null,
   "id": "5995eb09",
   "metadata": {},
   "outputs": [
    {
     "name": "stdout",
     "output_type": "stream",
     "text": [
      "True\n",
      "False\n",
      "True\n"
     ]
    }
   ],
   "source": [
    "# startwith()\n",
    "print(a.startswith('Pri')) # True\n",
    "print(b.startswith('raj')) # False\n",
    "print(c.startswith('Sub')) # False"
   ]
  },
  {
   "cell_type": "code",
   "execution_count": null,
   "id": "38a414a9",
   "metadata": {},
   "outputs": [],
   "source": []
  }
 ],
 "metadata": {
  "kernelspec": {
   "display_name": "Python 3",
   "language": "python",
   "name": "python3"
  },
  "language_info": {
   "codemirror_mode": {
    "name": "ipython",
    "version": 3
   },
   "file_extension": ".py",
   "mimetype": "text/x-python",
   "name": "python",
   "nbconvert_exporter": "python",
   "pygments_lexer": "ipython3",
   "version": "3.13.2"
  }
 },
 "nbformat": 4,
 "nbformat_minor": 5
}
