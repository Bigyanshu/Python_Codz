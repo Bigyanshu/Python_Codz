{
 "cells": [
  {
   "cell_type": "code",
   "execution_count": 1,
   "metadata": {},
   "outputs": [
    {
     "name": "stdout",
     "output_type": "stream",
     "text": [
      "10\n"
     ]
    }
   ],
   "source": [
    "a = 'Mahy Panda'\n",
    "print(len(a))"
   ]
  },
  {
   "cell_type": "code",
   "execution_count": 23,
   "metadata": {},
   "outputs": [
    {
     "name": "stdout",
     "output_type": "stream",
     "text": [
      "1 <class 'int'>\n",
      "1 <class 'str'>\n",
      "0 <class 'str'>\n",
      "3 <class 'str'>\n"
     ]
    }
   ],
   "source": [
    "c = 'Puchky Panda Previous Name Mohapatra'\n",
    "n = \"mahy\"\n",
    "\n",
    "# len(n)\n",
    "\n",
    "# # indexing\n",
    "\n",
    "# print(n, type(n))\n",
    "\n",
    "o = 1\n",
    "b = '1'\n",
    "g = \"0\"\n",
    "h = '''3'''\n",
    "\n",
    "print(o,type(o)) # integer -- int\n",
    "print(b,type(b)) # string -- str\n",
    "print(g,type(g)) # \n",
    "print(h,type(h)) # \n",
    "\n"
   ]
  },
  {
   "cell_type": "code",
   "execution_count": 6,
   "metadata": {},
   "outputs": [
    {
     "name": "stdout",
     "output_type": "stream",
     "text": [
      "5\n",
      "10\n",
      "2\n"
     ]
    }
   ],
   "source": [
    "a=5\n",
    "print(a)\n",
    "\n",
    "c = 10\n",
    "a = 2\n",
    "\n",
    "print(c)\n",
    "print(a)"
   ]
  },
  {
   "cell_type": "code",
   "execution_count": 70,
   "metadata": {},
   "outputs": [
    {
     "name": "stdout",
     "output_type": "stream",
     "text": [
      "at\n",
      "raao mN\n",
      "aah asiraayc\n"
     ]
    }
   ],
   "source": [
    "# Slicing\n",
    "#  \n",
    "# c = 0 1 2 'Puchky Panda Previous Name Mohapatra'  -2 -1 0\n",
    "\n",
    "# c = 'Puchky Panda Mohapatra Previous Name' # I want to print this type\n",
    "\n",
    "# n = c [ start : (end-1) : jump  ] Formula\n",
    "\n",
    "# v = c [ -1 : : -1 ] # Reverse Slicing\n",
    "# print(c[-1])\n",
    "\n",
    "# n = c [0 : 20 : 1] # Forward Slicing\n",
    "# print(n)\n",
    "\n",
    "# k = c [ -1 : -1 :  ]\n",
    "r = c [ -1 : -5 : -2 ] # Nothing prints\n",
    "print(r)\n",
    "# print(k)\n",
    "\n",
    "p = c[ -2 : -15 : -2 ]\n",
    "print(p) # raao mN\n",
    "\n",
    "c = 'Puchky Panda Previous Name Mohapatra'\n",
    "b = c [ -1 : -36 : -3 ]\n",
    "print(b) # aah asiraayc"
   ]
  },
  {
   "cell_type": "code",
   "execution_count": 2,
   "metadata": {},
   "outputs": [
    {
     "name": "stdout",
     "output_type": "stream",
     "text": [
      "Your  Husband Name Bgu\n"
     ]
    }
   ],
   "source": [
    "x = input(\" Enter Your Husband : \")\n",
    "# print(f'Your Husband Name {x}')\n",
    "print(\"Your Husband Name \" + x )"
   ]
  },
  {
   "cell_type": "code",
   "execution_count": 2,
   "metadata": {},
   "outputs": [
    {
     "name": "stdout",
     "output_type": "stream",
     "text": [
      "PUCHKY\n",
      "baba fihghter\n"
     ]
    }
   ],
   "source": [
    "# Upper & Lower Case \n",
    "v=\"Puchky\"\n",
    "y=\"BABA FIHGHTER\"\n",
    "\n",
    "print(v .upper())\n",
    "print( y . lower())"
   ]
  },
  {
   "cell_type": "code",
   "execution_count": 4,
   "metadata": {},
   "outputs": [
    {
     "name": "stdout",
     "output_type": "stream",
     "text": [
      "Pandas\n"
     ]
    }
   ],
   "source": [
    "# Capitalize\n",
    "p = 'numpy'\n",
    "n = 'PANDAS'\n",
    "\n",
    "print(n.capitalize())"
   ]
  },
  {
   "cell_type": "code",
   "execution_count": 6,
   "metadata": {},
   "outputs": [
    {
     "name": "stdout",
     "output_type": "stream",
     "text": [
      "Bigyanshu \n",
      "Butterfly\n"
     ]
    }
   ],
   "source": [
    "# Pragyan\n",
    "r = \"butterFLY\"\n",
    "b =\"bigyanshu \"\n",
    "print(b.capitalize())\n",
    "print(r.capitalize())"
   ]
  },
  {
   "cell_type": "code",
   "execution_count": 19,
   "metadata": {},
   "outputs": [
    {
     "name": "stdout",
     "output_type": "stream",
     "text": [
      "butterfly\n",
      "butterFLY\n"
     ]
    }
   ],
   "source": [
    "# Starts With & Ends With\n",
    "r = \"butterFLY\"\n",
    "print(r.startswith(\"bu\"))\n",
    "print(r.endswith('ly'))\n",
    "print(r.endswith(\"FLY\"))\n",
    "\n",
    "print(\"butterFLY\".lower())\n",
    "print(r)"
   ]
  },
  {
   "cell_type": "code",
   "execution_count": 24,
   "metadata": {},
   "outputs": [
    {
     "name": "stdout",
     "output_type": "stream",
     "text": [
      "Mahy Panda\n",
      "Mahi Panda\n",
      "mahy Panda\n",
      " Mahy Panda \n",
      " mahy Panda\n",
      "Mahi Panda \n"
     ]
    }
   ],
   "source": [
    "# Strip\n",
    "b = \" Mahy Panda \"\n",
    "c = \" mahy Panda\"\n",
    "k = \"Mahi Panda \"\n",
    "\n",
    "print(b.strip())\n",
    "print(k.strip())\n",
    "print(c.strip())\n",
    "\n",
    "print(b)\n",
    "print(c)\n",
    "print(k)"
   ]
  },
  {
   "cell_type": "code",
   "execution_count": 30,
   "metadata": {},
   "outputs": [
    {
     "name": "stdout",
     "output_type": "stream",
     "text": [
      "Mahy Panda\n",
      "Muna babu\n"
     ]
    }
   ],
   "source": [
    "# Replace : it takes two parameter to perform actions\n",
    "\n",
    "b = \"tuna babu\"\n",
    "\n",
    "print(\"Mahi Panda\".replace(\"Mahi\", \"Mahy\"))\n",
    "print(b.replace(\"tuna\", \"Muna\"))"
   ]
  },
  {
   "cell_type": "code",
   "execution_count": 34,
   "metadata": {},
   "outputs": [
    {
     "name": "stdout",
     "output_type": "stream",
     "text": [
      "['Zookeeper vs Lion ', ' Tiger']\n"
     ]
    }
   ],
   "source": [
    "v = 'Zookeeper vs Lion & Tiger'\n",
    "\n",
    "print(v.split('&'))"
   ]
  },
  {
   "cell_type": "code",
   "execution_count": 45,
   "metadata": {},
   "outputs": [
    {
     "name": "stdout",
     "output_type": "stream",
     "text": [
      "['Mahy & Mahi are the parents of', 'ladly Pary']\n",
      "['Mahy & Mahi are the parents of ', ' ladly Pary']\n"
     ]
    }
   ],
   "source": [
    "p = 'Mahy & Mahi are the parents of my ladly Pary'\n",
    "\n",
    "print(p.split(\" my \"))\n",
    "print(p.split(\"my\"))"
   ]
  },
  {
   "cell_type": "code",
   "execution_count": 62,
   "metadata": {},
   "outputs": [
    {
     "name": "stdout",
     "output_type": "stream",
     "text": [
      "['Bgu', 'Mahy']\n",
      "Bgu Mahy ['Omny']\n",
      "Bgu ['Mahy']\n",
      "['Bgu', 'Mahy']\n",
      "['BguMahy']\n"
     ]
    }
   ],
   "source": [
    "print(\"Bgu Mahy\".split())\n",
    "print(\"Bgu\",\"Mahy\" ,\"Omny\".split())\n",
    "print(\"Bgu\",\"Mahy\".split())\n",
    "print(\"Bgu\" \" Mahy\".split())\n",
    "print(\"Bgu\" \"Mahy\".split())"
   ]
  },
  {
   "cell_type": "code",
   "execution_count": 4,
   "metadata": {},
   "outputs": [
    {
     "name": "stdout",
     "output_type": "stream",
     "text": [
      "Omnipotent Bgu Mahi\n",
      "Nua Puruna\n",
      "Omnipotent bgu mahi\n"
     ]
    }
   ],
   "source": [
    "# title()\n",
    "va = 'omnipotent bgu mahi'\n",
    "\n",
    "print('nua puruna'.title())\n",
    "print(va.title())\n",
    "print(va.capitalize())"
   ]
  },
  {
   "cell_type": "code",
   "execution_count": 22,
   "metadata": {},
   "outputs": [
    {
     "name": "stdout",
     "output_type": "stream",
     "text": [
      "Mbabhby\n",
      "Mahybmahi\n",
      "Mr & Mrs Mahyi Panda\n"
     ]
    }
   ],
   "source": [
    "# join()\n",
    "print('b'.join('Mahy')) # Each character joins\n",
    "print('b'.join(['Mahy','mahi'])) # After comma or separation that joins\n",
    "print('Mahyi'.join(['Mr & Mrs ', ' Panda']))"
   ]
  },
  {
   "cell_type": "code",
   "execution_count": 43,
   "metadata": {},
   "outputs": [
    {
     "name": "stdout",
     "output_type": "stream",
     "text": [
      "3\n",
      "6\n",
      "10\n",
      "t\n"
     ]
    }
   ],
   "source": [
    "# find()\n",
    "b = 'Bigyanshu Mahy'\n",
    "# print(b. find('shu'))\n",
    "# print(b[6]) # Indexing starts with 0\n",
    "# print(b[7]) # Indexing starts with 0\n",
    "# print(b[8]) # Indexing starts with 0\n",
    "\n",
    "# print(len(b)) # Length starts with 1\n",
    "bp = \"Pragyandipti\"\n",
    "print(\"Pragyandipti\". find('gyan'))\n",
    "\n",
    "print(\"Pragyandipti\".find(\"n\"))\n",
    "print(bp.find(\"t\"))\n",
    "print(bp[10])"
   ]
  },
  {
   "cell_type": "code",
   "execution_count": 48,
   "metadata": {},
   "outputs": [
    {
     "name": "stdout",
     "output_type": "stream",
     "text": [
      "2\n",
      "2\n",
      "1\n",
      "0\n",
      "0\n",
      "1\n"
     ]
    }
   ],
   "source": [
    "# count()\n",
    "pary = \"Pragyandipti\"\n",
    "\n",
    "print(pary.count('i'))\n",
    "print(pary.count('a'))\n",
    "print(pary.count('n'))\n",
    "print(pary.count('b'))\n",
    "\n",
    "print('Bigyanshu'.count('b'))\n",
    "print('Bigyanshu'.count('B'))"
   ]
  },
  {
   "cell_type": "code",
   "execution_count": 52,
   "metadata": {},
   "outputs": [
    {
     "name": "stdout",
     "output_type": "stream",
     "text": [
      "Hey, pary\n",
      "Hello Pary\n"
     ]
    }
   ],
   "source": [
    "# format()\n",
    "print('Hey, {}'.format('pary'))\n",
    "\n",
    "# Abstring\n",
    "n = 'Pary'\n",
    "print(f'Hello {n}')\n",
    "\n"
   ]
  },
  {
   "cell_type": "code",
   "execution_count": 57,
   "metadata": {},
   "outputs": [
    {
     "name": "stdout",
     "output_type": "stream",
     "text": [
      "Hello World Butterfly\n"
     ]
    }
   ],
   "source": [
    "m = 'Butterfly'\n",
    "print(f'Hello World {m}')"
   ]
  },
  {
   "cell_type": "code",
   "execution_count": 89,
   "metadata": {},
   "outputs": [
    {
     "name": "stdout",
     "output_type": "stream",
     "text": [
      "True\n",
      "False\n",
      "True\n",
      "True\n",
      "True\n",
      "True\n",
      "True\n",
      "False\n",
      "False\n",
      "True\n",
      "True\n"
     ]
    }
   ],
   "source": [
    "# isnumeric()\n",
    "print('1245'.isnumeric())\n",
    "print('Mahy'.isnumeric())\n",
    "print(' '.isspace())\n",
    "print('MAHY'.isupper())\n",
    "print('mahy'.islower())\n",
    "print(\"69\".isascii())\n",
    "print('9'.isdigit())\n",
    "print('9.00'.isdecimal())\n",
    "print('lp'. istitle())\n",
    "print('Pgu Bgu Pary'. istitle())\n",
    "print('puchkyk'.isprintable())"
   ]
  },
  {
   "cell_type": "code",
   "execution_count": null,
   "metadata": {},
   "outputs": [],
   "source": [
    "'''\n",
    "\n",
    "'''"
   ]
  }
 ],
 "metadata": {
  "kernelspec": {
   "display_name": "Python 3",
   "language": "python",
   "name": "python3"
  },
  "language_info": {
   "codemirror_mode": {
    "name": "ipython",
    "version": 3
   },
   "file_extension": ".py",
   "mimetype": "text/x-python",
   "name": "python",
   "nbconvert_exporter": "python",
   "pygments_lexer": "ipython3",
   "version": "3.13.2"
  }
 },
 "nbformat": 4,
 "nbformat_minor": 2
}
