{
 "cells": [
  {
   "cell_type": "code",
   "execution_count": 196,
   "metadata": {},
   "outputs": [],
   "source": [
    "# List is mutable\n",
    "l = ['Kiwi','Banana',79.9,False,'Mahy']\n",
    "n = [79,97,7,9,63,1,31]"
   ]
  },
  {
   "cell_type": "code",
   "execution_count": 197,
   "metadata": {},
   "outputs": [
    {
     "name": "stdout",
     "output_type": "stream",
     "text": [
      "Kiwi\n",
      "Mahy\n",
      "['Kiwi', 'Banana', 97, False, 'Mahy']\n",
      "97\n"
     ]
    }
   ],
   "source": [
    "print(l[0])\n",
    "print(l[4])\n",
    "\n",
    "l[2]= 97\n",
    "print(l)\n",
    "print(l[2])"
   ]
  },
  {
   "cell_type": "code",
   "execution_count": 198,
   "metadata": {},
   "outputs": [
    {
     "name": "stdout",
     "output_type": "stream",
     "text": [
      "['Kiwi', 'Banana', 97, False, 'Mahy']\n"
     ]
    }
   ],
   "source": [
    "print(l)"
   ]
  },
  {
   "cell_type": "code",
   "execution_count": 199,
   "metadata": {},
   "outputs": [
    {
     "name": "stdout",
     "output_type": "stream",
     "text": [
      "['Kiwi', 'Banana', 97, False, 'Mahy', 'Mahi']\n"
     ]
    }
   ],
   "source": [
    "l.append('Mahi')\n",
    "print(l)"
   ]
  },
  {
   "cell_type": "code",
   "execution_count": 200,
   "metadata": {},
   "outputs": [
    {
     "name": "stdout",
     "output_type": "stream",
     "text": [
      "None\n"
     ]
    }
   ],
   "source": [
    "print(l.append('Omny')) # Direct one line we can't print & append"
   ]
  },
  {
   "cell_type": "code",
   "execution_count": 201,
   "metadata": {},
   "outputs": [
    {
     "name": "stdout",
     "output_type": "stream",
     "text": [
      "[79, 97, 7, 9, 63, 1, 31]\n"
     ]
    }
   ],
   "source": [
    "print(n)"
   ]
  },
  {
   "cell_type": "code",
   "execution_count": 202,
   "metadata": {},
   "outputs": [
    {
     "name": "stdout",
     "output_type": "stream",
     "text": [
      "n is :  [79, 97, 7, 9, 63, 1, 31]\n",
      "None\n",
      "Forward List : [1, 7, 9, 31, 63, 79, 97]\n",
      "Forward List False : [1, 7, 9, 31, 63, 79, 97]\n",
      "Reverse List : [97, 79, 63, 31, 9, 7, 1]\n"
     ]
    }
   ],
   "source": [
    "print(\"n is : \",n)\n",
    "\n",
    "print(n.sort()) # None\n",
    "\n",
    "n.sort()\n",
    "print(\"Forward List :\",n)\n",
    "n.sort(reverse=False)\n",
    "print(\"Forward List False :\",n)\n",
    "n.sort(reverse=True)\n",
    "print(\"Reverse List :\",n)\n"
   ]
  },
  {
   "cell_type": "code",
   "execution_count": 203,
   "metadata": {},
   "outputs": [
    {
     "name": "stdout",
     "output_type": "stream",
     "text": [
      "['Kiwi', 'Banana', 97, False, 'Mahy', 'Mahi', 'Omny']\n",
      "l:  ['Kiwi', 'Banana', 97, False, 'Pary', 'Mahy', 'Mahi', 'Omny']\n"
     ]
    }
   ],
   "source": [
    "print(l)\n",
    "l.insert(4, 'Pary') # 4 means index no 4\n",
    "print(\"l: \",l)"
   ]
  },
  {
   "cell_type": "code",
   "execution_count": 204,
   "metadata": {},
   "outputs": [
    {
     "name": "stdout",
     "output_type": "stream",
     "text": [
      "['Banana', 97, False, 'Mahy', 'Mahi']\n"
     ]
    }
   ],
   "source": [
    "l = ['Kiwi', 'Banana', 97, False, 'Pary', 'Mahy', 'Mahi', 'Omny']\n",
    "l.pop() # Omny\n",
    "l.pop(0) # Kiwi\n",
    "l.pop(3) # ? --> Pary\n",
    "\n",
    "print(l)"
   ]
  },
  {
   "cell_type": "code",
   "execution_count": 205,
   "metadata": {},
   "outputs": [
    {
     "name": "stdout",
     "output_type": "stream",
     "text": [
      "['Banana', False, 'Mahy', 'Mahi']\n"
     ]
    }
   ],
   "source": [
    "l.remove(97) # Remove function works on value not index no.\n",
    "print(l)"
   ]
  },
  {
   "cell_type": "code",
   "execution_count": 206,
   "metadata": {},
   "outputs": [
    {
     "name": "stdout",
     "output_type": "stream",
     "text": [
      "['Banana', False, 'Mahy', 'Mahi', 'Omny', 97]\n"
     ]
    }
   ],
   "source": [
    "l.extend(['Omny', 97])\n",
    "print(l)"
   ]
  },
  {
   "cell_type": "code",
   "execution_count": 207,
   "metadata": {},
   "outputs": [
    {
     "name": "stdout",
     "output_type": "stream",
     "text": [
      "[21, 33, 21, 33, 44]\n"
     ]
    }
   ],
   "source": [
    "p = [21,21,33,21,44,33,44]\n",
    "p.remove(44) # It removes 1st indexing left to right\n",
    "p.remove(21)\n",
    "print(p)"
   ]
  },
  {
   "cell_type": "code",
   "execution_count": 208,
   "metadata": {},
   "outputs": [
    {
     "name": "stdout",
     "output_type": "stream",
     "text": [
      "44\n",
      "21\n",
      "finally  is :[]\n"
     ]
    }
   ],
   "source": [
    "print(max(p))\n",
    "print(min(p))\n",
    "p.clear()\n",
    "# print(f'finally  is :{p}')\n",
    "print(F'finally  is :{p}')"
   ]
  },
  {
   "cell_type": "code",
   "execution_count": 209,
   "metadata": {},
   "outputs": [
    {
     "name": "stdout",
     "output_type": "stream",
     "text": [
      "<class 'tuple'>\n",
      "1\n",
      "2\n",
      "<class 'tuple'>\n",
      "<class 'int'>\n",
      "97.9 <class 'tuple'>\n"
     ]
    }
   ],
   "source": [
    "# Tuple is Immutable\n",
    "\n",
    "t = (21,43,52,67,87,69,69,79,97,77,99)\n",
    "print(type(t))\n",
    "y = t.count(97)\n",
    "print(y) # or\n",
    "print(t.count(69))\n",
    "\n",
    "v = (9,)\n",
    "vv = (9)\n",
    "print(type(v)) # tuple\n",
    "print(type(vv)) # int\n",
    "\n",
    "b = (21,\"Mahy\", False,97.9)\n",
    "print( b[3] , type(b))"
   ]
  },
  {
   "cell_type": "code",
   "execution_count": 210,
   "metadata": {},
   "outputs": [
    {
     "name": "stdout",
     "output_type": "stream",
     "text": [
      "10\n",
      "8\n"
     ]
    }
   ],
   "source": [
    "i = t.index(99)\n",
    "print(i)\n",
    "\n",
    "print(t.index(97))"
   ]
  },
  {
   "cell_type": "code",
   "execution_count": null,
   "metadata": {},
   "outputs": [
    {
     "name": "stdout",
     "output_type": "stream",
     "text": [
      "99\n",
      "21\n",
      "760\n",
      "(21, 43, 52, 67, 87, 69, 69, 79, 97, 77, 99)\n",
      "[21, 43, 52, 67, 69, 69, 77, 79, 87, 97, 99]\n",
      "True\n",
      "True\n"
     ]
    }
   ],
   "source": [
    "print(max(t))\n",
    "print(min(t))\n",
    "print(sum(t))\n",
    "print(t)\n",
    "print(sorted(t))\n",
    "print(any(t))\n",
    "print(bool(t))"
   ]
  },
  {
   "cell_type": "code",
   "execution_count": null,
   "metadata": {},
   "outputs": [
    {
     "name": "stdout",
     "output_type": "stream",
     "text": [
      "[12, 21, 32, 97] <class 'list'>\n",
      "(12, 21, 32, 97) <class 'tuple'>\n"
     ]
    }
   ],
   "source": [
    "# How to convert List to Tuple\n",
    "lst = [12,21,32,97]\n",
    "print(lst, type(lst))\n",
    "\n",
    "t = tuple(lst)\n",
    "print(t, type(t))"
   ]
  }
 ],
 "metadata": {
  "kernelspec": {
   "display_name": "Python 3",
   "language": "python",
   "name": "python3"
  },
  "language_info": {
   "codemirror_mode": {
    "name": "ipython",
    "version": 3
   },
   "file_extension": ".py",
   "mimetype": "text/x-python",
   "name": "python",
   "nbconvert_exporter": "python",
   "pygments_lexer": "ipython3",
   "version": "3.13.2"
  }
 },
 "nbformat": 4,
 "nbformat_minor": 2
}
