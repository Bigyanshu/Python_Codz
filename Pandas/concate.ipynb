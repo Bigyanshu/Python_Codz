{
 "cells": [
  {
   "cell_type": "code",
   "execution_count": 1,
   "metadata": {},
   "outputs": [],
   "source": [
    "import pandas as pd"
   ]
  },
  {
   "cell_type": "code",
   "execution_count": 15,
   "metadata": {},
   "outputs": [
    {
     "name": "stdout",
     "output_type": "stream",
     "text": [
      "   Customer ID Name\n",
      "0            1    A\n",
      "1            2    B\n",
      "2            3    C\n",
      "3            4    D\n",
      "   Customer ID  Oder Amount\n",
      "0            1          299\n",
      "1            2          399\n",
      "2            4          499\n",
      "3            5          599\n"
     ]
    },
    {
     "data": {
      "text/plain": [
       "(4, 2)"
      ]
     },
     "execution_count": 15,
     "metadata": {},
     "output_type": "execute_result"
    }
   ],
   "source": [
    "d = pd.DataFrame({\n",
    "    'Customer ID' : [1,2,3,4],\n",
    "    'Name' : [\"A\",\"B\",\"C\",\"D\"],\n",
    "})\n",
    "f = pd.DataFrame({\n",
    "    \"Customer ID\" : [1,2,4,5],\n",
    "    \"Oder Amount\" : [299,399,499,599]\n",
    "})\n",
    "print(d)\n",
    "print(f)\n",
    "d.shape"
   ]
  },
  {
   "cell_type": "code",
   "execution_count": 23,
   "metadata": {},
   "outputs": [
    {
     "name": "stdout",
     "output_type": "stream",
     "text": [
      "Concate Table is : \n",
      "   Customer ID Name  Oder Amount\n",
      "0            1    A          NaN\n",
      "1            2    B          NaN\n",
      "2            3    C          NaN\n",
      "3            4    D          NaN\n",
      "4            1  NaN        299.0\n",
      "5            2  NaN        399.0\n",
      "6            4  NaN        499.0\n",
      "7            5  NaN        599.0\n"
     ]
    }
   ],
   "source": [
    "# Concatination of Both Table Vertically means Row wise (axis=0)\n",
    "con = pd.concat([d,f], ignore_index=True, axis=0)\n",
    "print(F\"Concate Table is : \\n{con}\")"
   ]
  },
  {
   "cell_type": "code",
   "execution_count": null,
   "metadata": {},
   "outputs": [
    {
     "name": "stdout",
     "output_type": "stream",
     "text": [
      "Concate Table is : \n",
      "   0    1  2  3\n",
      "0  1  299  1  A\n",
      "1  2  399  2  B\n",
      "2  4  499  3  C\n",
      "3  5  599  4  D\n"
     ]
    }
   ],
   "source": [
    "# Concatination of Both Table Horizontally means Column wise (axis =1)\n",
    "cons = pd.concat([f,d], ignore_index=True, axis=1)\n",
    "print(F\"Concate Table is : \\n{cons}\")\n",
    "# first f table are join with 1st,2nd... column(0 index) whatever column are present\n",
    "# then d table are joining after f table joining... "
   ]
  }
 ],
 "metadata": {
  "kernelspec": {
   "display_name": "Python 3",
   "language": "python",
   "name": "python3"
  },
  "language_info": {
   "codemirror_mode": {
    "name": "ipython",
    "version": 3
   },
   "file_extension": ".py",
   "mimetype": "text/x-python",
   "name": "python",
   "nbconvert_exporter": "python",
   "pygments_lexer": "ipython3",
   "version": "3.13.2"
  }
 },
 "nbformat": 4,
 "nbformat_minor": 2
}
