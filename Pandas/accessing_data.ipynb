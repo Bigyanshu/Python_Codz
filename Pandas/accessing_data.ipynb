{
 "cells": [
  {
   "cell_type": "code",
   "execution_count": 15,
   "metadata": {},
   "outputs": [],
   "source": [
    "import pandas as pd"
   ]
  },
  {
   "cell_type": "code",
   "execution_count": 16,
   "metadata": {},
   "outputs": [
    {
     "name": "stdout",
     "output_type": "stream",
     "text": [
      "0    Mahy\n",
      "1     Bgu\n",
      "2    Omny\n",
      "Name: Name, dtype: object \n",
      "\n",
      "   Name  Age\n",
      "0  Mahy   25\n",
      "1   Bgu   24\n",
      "2  Omny    0 \n",
      "\n"
     ]
    }
   ],
   "source": [
    "data = {\n",
    "    \"Name\" : [\"Mahy\", \"Bgu\", \"Omny\"],\n",
    "    \"Age\" : [25, 24, 0],\n",
    "    \"City\" : [\"Hyderabad\", \"Bangalor\", \"Universe\"],\n",
    "    \"Salary\" : [25000, 30000,100000000000]\n",
    "}\n",
    "df = pd.DataFrame(data)\n",
    "# Accessing Single Columns\n",
    "print(df[\"Name\"],\"\\n\")\n",
    "# Accessing Multiple Columns\n",
    "print(df[[\"Name\",\"Age\"]],\"\\n\")\n"
   ]
  },
  {
   "cell_type": "code",
   "execution_count": 28,
   "metadata": {},
   "outputs": [
    {
     "name": "stdout",
     "output_type": "stream",
     "text": [
      "   Name  Age       City  Salary\n",
      "0  Mahy   25  Hyderabad   25000 \n",
      "\n",
      "   Name  Age       City  Salary\n",
      "0  Mahy   25  Hyderabad   25000\n",
      "1   Bgu   24   Bangalor   30000 \n",
      "\n",
      "   Name  Age       City        Salary\n",
      "0  Mahy   25  Hyderabad         25000\n",
      "1   Bgu   24   Bangalor         30000\n",
      "2  Omny    0   Universe  100000000000\n"
     ]
    }
   ],
   "source": [
    "# Accessing Single rows\n",
    "s_rows = df[df[\"Age\"] >= 25]\n",
    "print(s_rows,\"\\n\")\n",
    "# Accessing Multiple rows\n",
    "m_rows = df[(df[\"Age\"] >= 24) & (df[\"Salary\"] < 1000000)]\n",
    "print(m_rows,\"\\n\")\n",
    "n_rows = df[(df[\"Salary\"] >= 2000) | (df[\"Age\"] > 0)]\n",
    "print(n_rows)"
   ]
  }
 ],
 "metadata": {
  "kernelspec": {
   "display_name": "Python 3",
   "language": "python",
   "name": "python3"
  },
  "language_info": {
   "codemirror_mode": {
    "name": "ipython",
    "version": 3
   },
   "file_extension": ".py",
   "mimetype": "text/x-python",
   "name": "python",
   "nbconvert_exporter": "python",
   "pygments_lexer": "ipython3",
   "version": "3.13.2"
  }
 },
 "nbformat": 4,
 "nbformat_minor": 2
}
