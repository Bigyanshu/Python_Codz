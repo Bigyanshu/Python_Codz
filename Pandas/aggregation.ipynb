{
 "cells": [
  {
   "cell_type": "code",
   "execution_count": 1,
   "metadata": {},
   "outputs": [],
   "source": [
    "import pandas as pd"
   ]
  },
  {
   "cell_type": "code",
   "execution_count": 9,
   "metadata": {},
   "outputs": [
    {
     "name": "stdout",
     "output_type": "stream",
     "text": [
      "DataFrame is :\n",
      "    Name  Age       City  Salary\n",
      "0  Mahy   79  Hyderabad   25000\n",
      "1   Bgu   69   Bangalor   30000\n",
      "2  Omny  100   Universe   10000\n",
      "3  Bfly   90  Hyderabad   20000\n",
      "\n",
      "Average Salary is :21250.0\n"
     ]
    }
   ],
   "source": [
    "data = {\n",
    "    \"Name\" : [\"Mahy\", \"Bgu\", \"Omny\",\"Bfly\"],\n",
    "    \"Age\" : [79, 69, 100,90],\n",
    "    \"City\" : [\"Hyderabad\", \"Bangalor\", \"Universe\",\"Hyderabad\"],\n",
    "    \"Salary\" : [25000, 30000,10000,20000]\n",
    "}\n",
    "df = pd.DataFrame(data)\n",
    "print(F\"DataFrame is :\\n {df}\\n\")\n",
    "\n",
    "# Using Aggregation in Salary\n",
    "avg_salary = df[\"Salary\"].mean()\n",
    "print(F\"Average Salary is :{avg_salary}\")"
   ]
  },
  {
   "cell_type": "code",
   "execution_count": 13,
   "metadata": {},
   "outputs": [
    {
     "name": "stdout",
     "output_type": "stream",
     "text": [
      "Minimum Age is :69\n",
      "\n"
     ]
    }
   ],
   "source": [
    "# Min Age\n",
    "age = df[\"Age\"].min()\n",
    "print(F\"Minimum Age is :{age}\\n\")"
   ]
  },
  {
   "cell_type": "code",
   "execution_count": 19,
   "metadata": {},
   "outputs": [
    {
     "name": "stdout",
     "output_type": "stream",
     "text": [
      "Max City is : Universe\n",
      "\n",
      "Max City is : 100\n",
      "\n",
      "Max City is : 30000\n",
      "\n"
     ]
    }
   ],
   "source": [
    "# Maximum\n",
    "max_C = df[\"City\"].max()\n",
    "max_A = df[\"Age\"].max()\n",
    "max_S = df[\"Salary\"].max()\n",
    "\n",
    "print(F\"Max City is : {max_C}\\n\")\n",
    "print(F\"Max City is : {max_A}\\n\")\n",
    "print(F\"Max City is : {max_S}\\n\")"
   ]
  },
  {
   "cell_type": "code",
   "execution_count": 20,
   "metadata": {},
   "outputs": [
    {
     "name": "stdout",
     "output_type": "stream",
     "text": [
      "Salary Sum is : 85000\n",
      "\n"
     ]
    }
   ],
   "source": [
    "# sum\n",
    "sum_Sal = df[\"Salary\"].sum()\n",
    "print(F\"Salary Sum is : {sum_Sal}\\n\")"
   ]
  }
 ],
 "metadata": {
  "kernelspec": {
   "display_name": "Python 3",
   "language": "python",
   "name": "python3"
  },
  "language_info": {
   "codemirror_mode": {
    "name": "ipython",
    "version": 3
   },
   "file_extension": ".py",
   "mimetype": "text/x-python",
   "name": "python",
   "nbconvert_exporter": "python",
   "pygments_lexer": "ipython3",
   "version": "3.13.2"
  }
 },
 "nbformat": 4,
 "nbformat_minor": 2
}
