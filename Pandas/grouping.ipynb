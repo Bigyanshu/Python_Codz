{
 "cells": [
  {
   "cell_type": "code",
   "execution_count": 32,
   "metadata": {},
   "outputs": [],
   "source": [
    "import pandas as pd"
   ]
  },
  {
   "cell_type": "code",
   "execution_count": 33,
   "metadata": {},
   "outputs": [
    {
     "name": "stdout",
     "output_type": "stream",
     "text": [
      "DataFrame is :\n",
      "     Name  ID  Age       City  Salary\n",
      "0   Mahy   1   69  Hyderabad   25000\n",
      "1    Bgu   2   69   Bangalor   30000\n",
      "2   Omny   1  100   Universe   10000\n",
      "3   Bfly   2  100  Hyderabad   20000\n",
      "4  Ultra   1   69  Bangalore   10000\n",
      "\n",
      "Salary by Group :\n",
      "Age\n",
      "69     65000\n",
      "100    30000\n",
      "Name: Salary, dtype: int64\n",
      "\n"
     ]
    }
   ],
   "source": [
    "data = {\n",
    "    \"Name\" : [\"Mahy\", \"Bgu\", \"Omny\",\"Bfly\",\"Ultra\"],\n",
    "    \"ID\" : [1,2,1,2,1],\n",
    "    \"Age\" : [69, 69, 100,100,69],\n",
    "    \"City\" : [\"Hyderabad\", \"Bangalor\", \"Universe\",\"Hyderabad\",\"Bangalore\"],\n",
    "    \"Salary\" : [25000, 30000,10000,20000,10000]\n",
    "}\n",
    "df = pd.DataFrame(data)\n",
    "print(F\"DataFrame is :\\n {df}\\n\")\n",
    "# Grouping\n",
    "sal_grp = df.groupby(\"Age\")[\"Salary\"].sum()\n",
    "print(F\"Salary by Group :\\n{sal_grp}\\n\")"
   ]
  },
  {
   "cell_type": "code",
   "execution_count": 34,
   "metadata": {},
   "outputs": [
    {
     "name": "stdout",
     "output_type": "stream",
     "text": [
      "ID\n",
      "1    238\n",
      "2    169\n",
      "Name: Age, dtype: int64\n",
      "ID\n",
      "1    100\n",
      "2    100\n",
      "Name: Age, dtype: int64\n",
      "ID\n",
      "1    69\n",
      "2    69\n",
      "Name: Age, dtype: int64\n",
      "ID\n",
      "1    79.333333\n",
      "2    84.500000\n",
      "Name: Age, dtype: float64\n"
     ]
    }
   ],
   "source": [
    "g = df.groupby(\"ID\")['Age'].sum()\n",
    "k = df.groupby(\"ID\")['Age'].max()\n",
    "l = df.groupby(\"ID\")['Age'].min()\n",
    "o = df.groupby(\"ID\")['Age'].mean()\n",
    "\n",
    "print(g)\n",
    "print(k)\n",
    "print(l)\n",
    "print(o)"
   ]
  },
  {
   "cell_type": "code",
   "execution_count": 40,
   "metadata": {},
   "outputs": [
    {
     "name": "stdout",
     "output_type": "stream",
     "text": [
      "    Name  ID  Age       City  Salary\n",
      "0   Mahy   1   69  Hyderabad   25000\n",
      "1    Bgu   2   69   Bangalor   30000\n",
      "2   Omny   1  100   Universe   10000\n",
      "3   Bfly   2  100  Hyderabad   20000\n",
      "4  Ultra   1   69  Bangalore   10000\n",
      "\n",
      " Age  ID\n",
      "69   1     35000\n",
      "     2     30000\n",
      "100  1     10000\n",
      "     2     20000\n",
      "Name: Salary, dtype: int64\n"
     ]
    }
   ],
   "source": [
    "# Multiple Grouping followed by Age then ID\n",
    "print(df)\n",
    "multi_grp = df.groupby(['Age','ID'])['Salary'].sum()\n",
    "# It follows FIFO property\n",
    "print(\"\\n\",multi_grp)"
   ]
  },
  {
   "cell_type": "code",
   "execution_count": 39,
   "metadata": {},
   "outputs": [
    {
     "name": "stdout",
     "output_type": "stream",
     "text": [
      "    Name  ID  Age       City  Salary\n",
      "0   Mahy   1   69  Hyderabad   25000\n",
      "1    Bgu   2   69   Bangalor   30000\n",
      "2   Omny   1  100   Universe   10000\n",
      "3   Bfly   2  100  Hyderabad   20000\n",
      "4  Ultra   1   69  Bangalore   10000\n",
      "\n",
      " ID  Age\n",
      "1   69     35000\n",
      "    100    10000\n",
      "2   69     30000\n",
      "    100    20000\n",
      "Name: Salary, dtype: int64\n"
     ]
    }
   ],
   "source": [
    "# Multiple Grouping followed by ID then Age\n",
    "print(df)\n",
    "multi_grp = df.groupby(['ID','Age'])['Salary'].sum()\n",
    "# It follows FIFO property\n",
    "print(\"\\n\",multi_grp)"
   ]
  }
 ],
 "metadata": {
  "kernelspec": {
   "display_name": "Python 3",
   "language": "python",
   "name": "python3"
  },
  "language_info": {
   "codemirror_mode": {
    "name": "ipython",
    "version": 3
   },
   "file_extension": ".py",
   "mimetype": "text/x-python",
   "name": "python",
   "nbconvert_exporter": "python",
   "pygments_lexer": "ipython3",
   "version": "3.13.2"
  }
 },
 "nbformat": 4,
 "nbformat_minor": 2
}
