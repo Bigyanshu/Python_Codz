{
 "cells": [
  {
   "cell_type": "code",
   "execution_count": 1,
   "metadata": {},
   "outputs": [],
   "source": [
    "import pandas as pd"
   ]
  },
  {
   "cell_type": "code",
   "execution_count": 10,
   "metadata": {},
   "outputs": [
    {
     "name": "stdout",
     "output_type": "stream",
     "text": [
      "   Name  Age       City        Salary\n",
      "0  Mahy   25  Hyderabad         25000\n",
      "1   Bgu   24   Bangalor         30000\n",
      "2  Omny    0   Universe  100000000000 \n",
      "\n",
      "   Name  Age       City        Salary          Bonus\n",
      "0  Mahy   25  Hyderabad         25000         250000\n",
      "1   Bgu   24   Bangalor         30000         300000\n",
      "2  Omny    0   Universe  100000000000  1000000000000\n"
     ]
    }
   ],
   "source": [
    "data = {\n",
    "    \"Name\" : [\"Mahy\", \"Bgu\", \"Omny\"],\n",
    "    \"Age\" : [25, 24, 0],\n",
    "    \"City\" : [\"Hyderabad\", \"Bangalor\", \"Universe\"],\n",
    "    \"Salary\" : [25000, 30000,100000000000]\n",
    "}\n",
    "df = pd.DataFrame(data)\n",
    "print(df,\"\\n\")\n",
    "\n",
    "# Adding Columns\n",
    "df[\"Bonus\"] = df[\"Salary\"] * 10\n",
    "print(df)"
   ]
  },
  {
   "cell_type": "code",
   "execution_count": null,
   "metadata": {},
   "outputs": [
    {
     "name": "stdout",
     "output_type": "stream",
     "text": [
      "   Emp ID  Name  Age       City        Salary          Bonus\n",
      "0     101  Mahy   25  Hyderabad         25000         250000\n",
      "1     102   Bgu   24   Bangalor         30000         300000\n",
      "2     103  Omny    0   Universe  100000000000  1000000000000\n"
     ]
    }
   ],
   "source": [
    "# df.insert(0,\"Emp ID\", [101,102,03])leading zeros in decimal integer literals are not permitted; \n",
    "# use an 0o prefix for octal integers\n",
    "df.insert(0,\"Emp ID\", [101,102,103]) \n",
    "print(df)"
   ]
  },
  {
   "cell_type": "code",
   "execution_count": 19,
   "metadata": {},
   "outputs": [
    {
     "name": "stdout",
     "output_type": "stream",
     "text": [
      "   Emp ID  Name  Age       City        Salary          Bonus\n",
      "0     101  Mahy   25  Hyderabad         50000         250000\n",
      "1     102   Bgu   24   Bangalor         30000         300000\n",
      "2     103  Omny    0   Universe  100000000000  1000000000000\n"
     ]
    }
   ],
   "source": [
    "# using .loc() to update specific values\n",
    "df.loc[0,\"Salary\"] = 50000\n",
    "print(df)"
   ]
  },
  {
   "cell_type": "code",
   "execution_count": 22,
   "metadata": {},
   "outputs": [
    {
     "data": {
      "text/html": [
       "<div>\n",
       "<style scoped>\n",
       "    .dataframe tbody tr th:only-of-type {\n",
       "        vertical-align: middle;\n",
       "    }\n",
       "\n",
       "    .dataframe tbody tr th {\n",
       "        vertical-align: top;\n",
       "    }\n",
       "\n",
       "    .dataframe thead th {\n",
       "        text-align: right;\n",
       "    }\n",
       "</style>\n",
       "<table border=\"1\" class=\"dataframe\">\n",
       "  <thead>\n",
       "    <tr style=\"text-align: right;\">\n",
       "      <th></th>\n",
       "      <th>Emp ID</th>\n",
       "      <th>Name</th>\n",
       "      <th>Age</th>\n",
       "      <th>City</th>\n",
       "      <th>Salary</th>\n",
       "      <th>Bonus</th>\n",
       "    </tr>\n",
       "  </thead>\n",
       "  <tbody>\n",
       "    <tr>\n",
       "      <th>0</th>\n",
       "      <td>101</td>\n",
       "      <td>Mahy</td>\n",
       "      <td>25</td>\n",
       "      <td>Hyderabad</td>\n",
       "      <td>5000000</td>\n",
       "      <td>250000</td>\n",
       "    </tr>\n",
       "    <tr>\n",
       "      <th>1</th>\n",
       "      <td>102</td>\n",
       "      <td>Bgu</td>\n",
       "      <td>24</td>\n",
       "      <td>Bangalor</td>\n",
       "      <td>3000000</td>\n",
       "      <td>300000</td>\n",
       "    </tr>\n",
       "    <tr>\n",
       "      <th>2</th>\n",
       "      <td>103</td>\n",
       "      <td>Omny</td>\n",
       "      <td>0</td>\n",
       "      <td>Universe</td>\n",
       "      <td>10000000000000</td>\n",
       "      <td>1000000000000</td>\n",
       "    </tr>\n",
       "  </tbody>\n",
       "</table>\n",
       "</div>"
      ],
      "text/plain": [
       "   Emp ID  Name  Age       City          Salary          Bonus\n",
       "0     101  Mahy   25  Hyderabad         5000000         250000\n",
       "1     102   Bgu   24   Bangalor         3000000         300000\n",
       "2     103  Omny    0   Universe  10000000000000  1000000000000"
      ]
     },
     "execution_count": 22,
     "metadata": {},
     "output_type": "execute_result"
    }
   ],
   "source": [
    "# Update Exsinting Values\n",
    "df[\"Salary\"] = df[\"Salary\"] * 10\n",
    "df"
   ]
  },
  {
   "cell_type": "code",
   "execution_count": null,
   "metadata": {},
   "outputs": [
    {
     "data": {
      "text/html": [
       "<div>\n",
       "<style scoped>\n",
       "    .dataframe tbody tr th:only-of-type {\n",
       "        vertical-align: middle;\n",
       "    }\n",
       "\n",
       "    .dataframe tbody tr th {\n",
       "        vertical-align: top;\n",
       "    }\n",
       "\n",
       "    .dataframe thead th {\n",
       "        text-align: right;\n",
       "    }\n",
       "</style>\n",
       "<table border=\"1\" class=\"dataframe\">\n",
       "  <thead>\n",
       "    <tr style=\"text-align: right;\">\n",
       "      <th></th>\n",
       "      <th>Name</th>\n",
       "      <th>Age</th>\n",
       "      <th>City</th>\n",
       "      <th>Salary</th>\n",
       "      <th>Bonus</th>\n",
       "    </tr>\n",
       "  </thead>\n",
       "  <tbody>\n",
       "    <tr>\n",
       "      <th>0</th>\n",
       "      <td>Mahy</td>\n",
       "      <td>25</td>\n",
       "      <td>Hyderabad</td>\n",
       "      <td>5000000</td>\n",
       "      <td>250000</td>\n",
       "    </tr>\n",
       "    <tr>\n",
       "      <th>1</th>\n",
       "      <td>Bgu</td>\n",
       "      <td>24</td>\n",
       "      <td>Bangalor</td>\n",
       "      <td>3000000</td>\n",
       "      <td>300000</td>\n",
       "    </tr>\n",
       "    <tr>\n",
       "      <th>2</th>\n",
       "      <td>Omny</td>\n",
       "      <td>0</td>\n",
       "      <td>Universe</td>\n",
       "      <td>10000000000000</td>\n",
       "      <td>1000000000000</td>\n",
       "    </tr>\n",
       "  </tbody>\n",
       "</table>\n",
       "</div>"
      ],
      "text/plain": [
       "   Name  Age       City          Salary          Bonus\n",
       "0  Mahy   25  Hyderabad         5000000         250000\n",
       "1   Bgu   24   Bangalor         3000000         300000\n",
       "2  Omny    0   Universe  10000000000000  1000000000000"
      ]
     },
     "execution_count": 25,
     "metadata": {},
     "output_type": "execute_result"
    }
   ],
   "source": [
    "# Remove Columns\n",
    "df.drop(columns = ['Emp ID'], inplace=True)\n",
    "df"
   ]
  },
  {
   "cell_type": "code",
   "execution_count": null,
   "metadata": {},
   "outputs": [],
   "source": []
  }
 ],
 "metadata": {
  "kernelspec": {
   "display_name": "Python 3",
   "language": "python",
   "name": "python3"
  },
  "language_info": {
   "codemirror_mode": {
    "name": "ipython",
    "version": 3
   },
   "file_extension": ".py",
   "mimetype": "text/x-python",
   "name": "python",
   "nbconvert_exporter": "python",
   "pygments_lexer": "ipython3",
   "version": "3.13.2"
  }
 },
 "nbformat": 4,
 "nbformat_minor": 2
}
